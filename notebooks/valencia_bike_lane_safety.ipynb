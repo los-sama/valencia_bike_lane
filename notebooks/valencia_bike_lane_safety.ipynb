{
 "cells": [
  {
   "cell_type": "markdown",
   "id": "06e809ba",
   "metadata": {},
   "source": [
    "# Safety and Utilization of the Valencia Street Center Bike Lane\n",
    "\n",
    "## Background\n",
    "\n",
    "In the summer of 2023, the SFMTA launched an 18-month pilot program to test a center-running bike lane along Valencia Street. This redesign replaced the street’s traditional side-running bike lanes—located between parked cars and moving traffic—with a single, bidirectional bike lane positioned in the center of the road. Northbound and southbound bicycle traffic shared this lane, separated by a painted white line, while vehicle traffic ran on either side, divided from the bike lane by rubber curbs and flexible bollards.\n",
    "\n",
    "The project aimed to improve safety for cyclists while preserving both parking and vehicle through-traffic. The center-running design was expected to eliminate several common hazards: cyclists being “doored” by people exiting parked cars, drivers making right turns across bike lanes, and vehicles merging out from curbside parking. The addition of physical barriers—bollards and rubber curbs—also offered a level of protection that the previous side-running lanes lacked entirely.\n",
    "\n",
    "## Investigation Questions\n",
    "\n",
    "This analysis seeks to evaluate the impact of the Valencia center-running bike lane by addressing the following questions:\n",
    "- Did the center-running bike lane improve safety for cyclists?\n",
    "- Did the center-running bike lane lead to an increase in the number of cyclists using Valencia Street?\n",
    "- How did the types and severity of crashes under the center-running design compare to those under the previous side-running bike lanes?\n",
    "\n"
   ]
  },
  {
   "cell_type": "code",
   "execution_count": null,
   "id": "006b5641",
   "metadata": {},
   "outputs": [],
   "source": [
    "# import packages\n",
    "import plotly.express as px\n",
    "import plotly.graph_objects as go\n",
    "from plotly.subplots import make_subplots\n",
    "import pandas as pd\n",
    "import logging\n",
    "from IPython.display import HTML\n",
    "import plotly.io as pio\n",
    "\n",
    "pio.renderers.default = 'notebook'  \n",
    "logging.basicConfig(level=logging.INFO)\n"
   ]
  },
  {
   "cell_type": "markdown",
   "id": "7e66d7e2",
   "metadata": {},
   "source": [
    "## Data Description\n",
    "\n",
    "### Data Sources\n",
    "\n",
    "This analysis draws on multiple data sources to assess changes in bike safety and ridership during the Valencia center-running bike lane pilot.\n",
    "\n",
    "* **Traffic Crash Data**\n",
    "  Comprehensive data on traffic collisions was obtained from the [SF Gov “Traffic Crashes Resulting in Injury” dataset](https://data.sfgov.org/Public-Safety/Traffic-Crashes-Resulting-in-Injury/ubvf-ztfx/about_data). This dataset includes police-reported crashes citywide involving injuries to motorists, pedestrians, or cyclists. It provides details such as crash type, location, date/time, and parties involved—making it essential for identifying trends in bicycle-related crashes before, during, and after the pilot.\n",
    "\n",
    "* **Bike Volume Data (SFMTA Counters)**\n",
    "  Ridership trends were analyzed using the [SFMTA’s automated bike counter data](https://www.sfmta.com/reports/average-weekday-bike-volumes-dashboard). These counters track the number of bicycles passing fixed locations throughout the city, including Valencia Street.\n",
    "\n",
    "* **Bay Wheels Trip Data**\n",
    "  Additional insights into cyclist activity were drawn from the [Bay Wheels system data](https://www.lyft.com/bikes/bay-wheels/system-data), which provides anonymized trip-level records from the city’s bike-share program. This dataset includes start and end locations, timestamps, and bike types, helping capture short-term shifts in ridership that might not be reflected in fixed counters alone.\n",
    "\n",
    "### Data Inclusion\n",
    "\n",
    "THe traffic crash dataset only includes crashes reported by SFPD. There are likely more bicycle related crashes that went unreported so it should be assumed that this analysis overestimates actual bicycle safety. The dataset includes traffic crashes reported between January 1st, 2005 to May 31st, 2025. Crashes are restricted to San Francisco city limmits.\n",
    "\n",
    "The complete baywheels dataset is too large to load into memory, so the data included is restricted to rides that either start or end on Valencia Street, with the assumption that these rides traveled via the center bike lane. Additionally only data from the following years is included,[2018, 2019, 2020, 2021, 2022, 2023, 2024, 2025].\n",
    "\n",
    "### Data Indexing and Valencia Center Bike Lane Definition \n",
    "\n",
    "Bicycle crash data was extracted from the full crash dataset by identifying records where a bicyclist was listed among the involved party types. Crashes specific to Valencia Street were indexed by matching the **primary road name** to “Valencia Street.” To isolate crashes occurring within the center-running bike lane corridor, spatial filtering was applied to include only those with **latitude coordinates between 15th and 23rd Streets**.\n",
    "\n",
    "Although the center-running bike lane was in place from **August 1, 2023, to February 1, 2025**, this analysis only uses crash data from **calendar year 2024**. Data from **August to December 2023** was excluded to avoid potential bias introduced by road users adapting to the new street configuration. By **January 2024**, it is assumed that most users were familiar with the layout, making crash patterns more representative of typical conditions. Data from **2025** was also excluded due to temporary road obstructions and construction-related disruptions during the lane’s removal. To account for the limited time window, the analysis emphasizes **population-weighted and trend-based metrics**, rather than raw counts.\n"
   ]
  },
  {
   "cell_type": "code",
   "execution_count": 2,
   "id": "5bb68fbb",
   "metadata": {},
   "outputs": [
    {
     "name": "stderr",
     "output_type": "stream",
     "text": [
      "/var/folders/ry/6zlsyrrj22zffwv1bszfkwz80000gn/T/ipykernel_29785/917009861.py:2: DtypeWarning: Columns (3,15) have mixed types. Specify dtype option on import or set low_memory=False.\n",
      "  crash_data = pd.read_csv('../data/Traffic_Crashes_Resulting_in_Injury_20250714.csv')\n"
     ]
    },
    {
     "name": "stdout",
     "output_type": "stream",
     "text": [
      "Crash data date range: 2005-01-01 01:15:00 to 2025-05-31 22:01:00\n"
     ]
    }
   ],
   "source": [
    "# import crash data\n",
    "crash_data = pd.read_csv('../data/Traffic_Crashes_Resulting_in_Injury_20250714.csv')\n",
    "# Convert collision_datetime to datetime with the desired format\n",
    "crash_data['collision_datetime'] = pd.to_datetime(\n",
    "    crash_data['collision_datetime'], \n",
    "    format='%m/%d/%Y %I:%M:%S %p', \n",
    "    errors='coerce'\n",
    ")\n",
    "start_date = crash_data['collision_datetime'].min()\n",
    "end_date = crash_data['collision_datetime'].max()\n",
    "print(f\"Crash data date range: {start_date} to {end_date}\")\n",
    "\n",
    "# stringify crash party types\n",
    "def get_crash_party_type(row):\n",
    "    party_type1 = row['party1_type']\n",
    "    party_type2 = row['party2_type']\n",
    "    if pd.isna(party_type1) or pd.isna(party_type2):\n",
    "        return 'unknown'\n",
    "    if ('bic' in party_type1.lower() or 'bic' in party_type2.lower()) and ('driv' in party_type1.lower() or 'driv' in party_type2.lower()):\n",
    "        return 'car_on_bike'\n",
    "    elif ('bic' in party_type1.lower() and 'bic' in party_type2.lower()):\n",
    "        return 'bike_on_bike'\n",
    "    elif ('ped' in party_type1.lower() or 'ped' in party_type2.lower()) and ('driv' in party_type1.lower() or 'driv' in party_type2.lower()):\n",
    "        return 'car_on_pedestrian'\n",
    "    elif ('ped' in party_type1.lower() or 'ped' in party_type2.lower()) and ('bic' in party_type1.lower() or 'bic' in party_type2.lower()):\n",
    "        return 'bike_on_pedestrian'\n",
    "    elif ('driv' in party_type1.lower() and 'driv' in party_type2.lower()):\n",
    "        return 'car_on_car'\n",
    "    elif ('ped' in party_type1.lower() and 'ped' in party_type2.lower()):\n",
    "        return 'pedestrian_on_pedestrian'\n",
    "    else:\n",
    "        return 'other'\n",
    "    \n",
    "def car_action(row):\n",
    "    party1_type = row['party1_type']\n",
    "    party2_type = row['party2_type']\n",
    "    if pd.isna(party1_type) or pd.isna(party2_type):\n",
    "        return None\n",
    "    if 'driv' in party1_type.lower() or 'driv' in party2_type.lower():\n",
    "        return row['party1_move_pre_acc'] if 'driv' in party1_type.lower() else row['party2_move_pre_acc']\n",
    "    return None\n",
    "\n",
    "def bike_action(row):\n",
    "    party1_type = row['party1_type']\n",
    "    party2_type = row['party2_type']\n",
    "    if pd.isna(party1_type) or pd.isna(party2_type):\n",
    "        return None\n",
    "    if 'bic' in party1_type.lower() or 'bic' in party2_type.lower():\n",
    "        return row['party1_move_pre_acc'] if 'bic' in party1_type.lower() else row['party2_move_pre_acc']\n",
    "    return None\n",
    "\n",
    "crash_data['crash_party_type'] = crash_data.apply(get_crash_party_type, axis=1)\n",
    "crash_data['car_action'] = crash_data.apply(car_action, axis=1)\n",
    "crash_data['bike_action'] = crash_data.apply(bike_action, axis=1)"
   ]
  },
  {
   "cell_type": "code",
   "execution_count": 3,
   "id": "8a07e629",
   "metadata": {},
   "outputs": [],
   "source": [
    "# date range of crash data\n",
    "crash_data['collision_datetime'] = pd.to_datetime(crash_data['collision_datetime'], errors='coerce')\n"
   ]
  },
  {
   "cell_type": "code",
   "execution_count": 4,
   "id": "832edd07",
   "metadata": {},
   "outputs": [],
   "source": [
    "# Load the bike count data\n",
    "bike_counter_data = pd.read_csv('../data/BikeCountsTable.csv')\n",
    "\n",
    "# Add a datetime column\n",
    "bike_counter_data['datetime'] = pd.to_datetime(\n",
    "    bike_counter_data['Month of Date'] + ' ' + bike_counter_data['Hour'].astype(str) + ':00:00',\n",
    "    format='%B %Y %H:%M:%S',\n",
    "    errors='coerce'\n",
    ")"
   ]
  },
  {
   "cell_type": "code",
   "execution_count": 5,
   "id": "d0453691",
   "metadata": {},
   "outputs": [
    {
     "name": "stderr",
     "output_type": "stream",
     "text": [
      "INFO:root:Loaded pre-processed baywheels data.\n"
     ]
    }
   ],
   "source": [
    "\n",
    "# load baywheels data\n",
    "years_to_load = [2018, 2019, 2020, 2021, 2022, 2023, 2024, 2025]\n",
    "chunk_size = 100_000\n",
    "\n",
    "all_pieces = []\n",
    "\n",
    "# if '../data/processed_valencia_baywheels_data.csv' exists, load it\n",
    "try:\n",
    "    baywheels_data = pd.read_csv('../data/processed_valencia_baywheels_data.csv')\n",
    "    logging.info(\"Loaded pre-processed baywheels data.\")\n",
    "    # visualize baywheels data\n",
    "\n",
    "    # Convert 'started_at' to datetime\n",
    "    # Try parsing with milliseconds first, then fallback to seconds-only format\n",
    "    parsed = pd.to_datetime(\n",
    "        baywheels_data['started_at'],\n",
    "        format=\"%Y-%m-%d %H:%M:%S.%f\",\n",
    "        errors=\"coerce\"\n",
    "    )\n",
    "    mask = parsed.isna()\n",
    "    if mask.any():\n",
    "        parsed.loc[mask] = pd.to_datetime(\n",
    "            baywheels_data.loc[mask, 'started_at'],\n",
    "            format=\"%Y-%m-%d %H:%M:%S\",\n",
    "            errors=\"coerce\"\n",
    "        )\n",
    "    baywheels_data['started_at'] = parsed\n",
    "except FileNotFoundError:\n",
    "    logging.info(\"Pre-processed baywheels data not found, processing raw data...\")\n",
    "\n",
    "    for year in years_to_load:\n",
    "        print(f\"Loading baywheels data for {year}\")\n",
    "        file_path = f'../data/baywheels_{year}_combined.csv'\n",
    "\n",
    "        try:\n",
    "            # 1) Figure out which time column exists\n",
    "            header = pd.read_csv(file_path, nrows=0)\n",
    "            if 'started_at' in header.columns:\n",
    "                time_col = 'started_at'\n",
    "            elif 'start_time' in header.columns:\n",
    "                time_col = 'start_time'\n",
    "            else:\n",
    "                raise ValueError(f\"Neither 'started_at' nor 'start_time' found in {file_path}\")\n",
    "\n",
    "            usecols = ['start_station_name', 'end_station_name', time_col]\n",
    "\n",
    "            # 2) Stream in chunks\n",
    "            for chunk in pd.read_csv(file_path,\n",
    "                                    usecols=usecols,\n",
    "                                    chunksize=chunk_size):\n",
    "\n",
    "                # 3) Rename to unified 'started_at'\n",
    "                if time_col != 'started_at':\n",
    "                    chunk = chunk.rename(columns={time_col: 'started_at'})\n",
    "\n",
    "                # 4) Parse the timestamps in this chunk\n",
    "                #    a) try fractional‐seconds format first\n",
    "                parsed = pd.to_datetime(\n",
    "                    chunk['started_at'],\n",
    "                    format=\"%Y-%m-%d %H:%M:%S.%f\",\n",
    "                    errors=\"coerce\"\n",
    "                )\n",
    "                #    b) fallback to plain‐seconds format where needed\n",
    "                mask = parsed.isna()\n",
    "                if mask.any():\n",
    "                    parsed.loc[mask] = pd.to_datetime(\n",
    "                        chunk.loc[mask, 'started_at'],\n",
    "                        format=\"%Y-%m-%d %H:%M:%S\",\n",
    "                        errors=\"coerce\"\n",
    "                    )\n",
    "                chunk['started_at'] = parsed\n",
    "\n",
    "                # 5) Filter for Valencia\n",
    "                mask_val = (\n",
    "                    chunk['start_station_name']\n",
    "                        .str\n",
    "                        .contains(\"Valencia\", case=False, na=False)\n",
    "                    |\n",
    "                    chunk['end_station_name']\n",
    "                        .str\n",
    "                        .contains(\"Valencia\", case=False, na=False)\n",
    "                )\n",
    "                all_pieces.append(chunk.loc[mask_val])\n",
    "\n",
    "        except FileNotFoundError:\n",
    "            print(f\"  ⚠️ File not found: {file_path}\")\n",
    "        except ValueError as ve:\n",
    "            print(f\"  ⚠️ {ve}\")\n",
    "\n",
    "    # 6) One final concat\n",
    "    if all_pieces:\n",
    "        baywheels_data = pd.concat(all_pieces, ignore_index=True)\n",
    "    else:\n",
    "        baywheels_data = pd.DataFrame(columns=[\n",
    "            'start_station_name', 'end_station_name', 'started_at'\n",
    "        ])\n",
    "\n",
    "    # 7) (Optional) Double‐check dtype & NaTs\n",
    "    print(\"started_at dtype:\", baywheels_data['started_at'].dtype)\n",
    "    print(\"unparsed timestamps:\", baywheels_data['started_at'].isna().sum())\n",
    "\n",
    "    # 8) Add year_month\n",
    "    baywheels_data['year_month'] = baywheels_data['started_at'].dt.to_period('M')\n",
    "    print(f\"baywheels_data size: {baywheels_data.memory_usage(deep=True).sum() / (1024 ** 2):.2f} MB\")\n"
   ]
  },
  {
   "cell_type": "code",
   "execution_count": 6,
   "id": "4bc9d70b",
   "metadata": {},
   "outputs": [],
   "source": [
    "# Replace your saving cell with this:\n",
    "#baywheels_data['started_at'] = pd.to_datetime(baywheels_data['started_at'], errors='coerce')\n",
    "#baywheels_data.to_csv('../data/processed_valencia_baywheels_data.csv', index=False)\n",
    "#logging.info(\"Saved processed baywheels data to '../data/processed_valencia_baywheels_data.csv'.\")"
   ]
  },
  {
   "cell_type": "code",
   "execution_count": 7,
   "id": "3427c121",
   "metadata": {},
   "outputs": [],
   "source": [
    "\n",
    "# index the data\n",
    "# grab crashes that invovle bikes \n",
    "ii_bike_crashes =(\n",
    "    (crash_data['party1_type'].str.contains('bic', case=False, na=False)) |\n",
    "    (crash_data['party2_type'].str.contains('bic', case=False, na=False))\n",
    ")   \n",
    "# grab crahses that happen on valencia street \n",
    "ii_valencia = (\n",
    "    (crash_data['primary_rd'].str.contains('VALENCIA ST', case=False, na=False)) \n",
    ")\n",
    "\n",
    "# grab crashes that happen between 15th and 23rd on Valencia\n",
    "latitude_range = (37.766433, 37.753915)\n",
    "ii_center_bike_lane_geo = (\n",
    "    (crash_data['tb_latitude'] < latitude_range[0]) &\n",
    "    (crash_data['tb_latitude'] > latitude_range[1]) &\n",
    "    ii_valencia\n",
    ")\n",
    "\n",
    "# grab crashes that occured during the center bike lane time period\n",
    "start_date = pd.to_datetime('2023-08-01 00:00:00')\n",
    "end_date = pd.to_datetime('2025-02-01 00:00:00')\n",
    "ii_center_bike_lane_time = (\n",
    "    (crash_data['collision_datetime'] >= start_date) &\n",
    "    (crash_data['collision_datetime'] < end_date)\n",
    ")\n"
   ]
  },
  {
   "cell_type": "markdown",
   "id": "fb87c598",
   "metadata": {},
   "source": [
    "## Crash and Ride Count Data Analysis\n",
    "\n",
    "### Comparing Bicycle Crashes: Valencia Street and Citywide Patterns\n",
    "\n",
    "Before diving into the center bike lane impact, it's useful to contextualize bicycle crash metrics on Valencia street against the rest of San Francisco. Several visualizations are presented to explore crash types, crash severity, driver behavior preceeding a crash, party involvement, and time of day between bicycle crashes on Valencia and those citywide. \n",
    "\n",
    "Crashes on Valencia Street are similar to the rest of the city in terms of severity and road users implicated (although during the time span analyzed there have been no fatal bike-related accidents reported on Valencia). However, Valencia has a significantly higher fraction of \"parked car\" crashes -- indicative of a cyclicst getting \"doored\" -- as compared to the top categories of crashes prevelant city-wide. In terms of timing, Valencia also shows a disproportionately higher concentration of crashes during the evening rush hour (5–8 p.m.), with peak morning crashes representing only 30.6% of peak evening volumes. This contrasts with citywide trends, where morning crashes reach approximately 77.8% of evening peak levels.\n"
   ]
  },
  {
   "cell_type": "code",
   "execution_count": 8,
   "id": "11638707",
   "metadata": {},
   "outputs": [
    {
     "data": {
      "application/vnd.plotly.v1+json": {
       "config": {
        "plotlyServerURL": "https://plot.ly"
       },
       "data": [
        {
         "domain": {
          "x": [
           0,
           0.45
          ],
          "y": [
           0,
           1
          ]
         },
         "labels": [
          "Broadside",
          "Sideswipe",
          "Other",
          "Rear End",
          "Head-On",
          "Overturned",
          "Hit Object",
          "Not Stated",
          "Vehicle/Pedestrian"
         ],
         "name": "Valencia Street",
         "type": "pie",
         "values": {
          "bdata": "dWcwGxYKCgkH",
          "dtype": "i1"
         }
        },
        {
         "domain": {
          "x": [
           0.55,
           1
          ],
          "y": [
           0,
           1
          ]
         },
         "labels": [
          "Broadside",
          "Sideswipe",
          "Other",
          "Rear End",
          "Head-On",
          "Not Stated",
          "Vehicle/Pedestrian",
          "Hit Object",
          "Overturned"
         ],
         "name": "All Streets",
         "type": "pie",
         "values": {
          "bdata": "RA+wCKkG8gIwAoYBXgE7AcwA",
          "dtype": "i2"
         }
        }
       ],
       "layout": {
        "annotations": [
         {
          "font": {
           "size": 16
          },
          "showarrow": false,
          "text": "Types of Bike Crashes<br>on Valencia Street",
          "x": 0.225,
          "xanchor": "center",
          "xref": "paper",
          "y": 1,
          "yanchor": "bottom",
          "yref": "paper"
         },
         {
          "font": {
           "size": 16
          },
          "showarrow": false,
          "text": "Types of Bike Crashes<br>(All Streets)",
          "x": 0.775,
          "xanchor": "center",
          "xref": "paper",
          "y": 1,
          "yanchor": "bottom",
          "yref": "paper"
         }
        ],
        "template": {
         "data": {
          "bar": [
           {
            "error_x": {
             "color": "#2a3f5f"
            },
            "error_y": {
             "color": "#2a3f5f"
            },
            "marker": {
             "line": {
              "color": "#E5ECF6",
              "width": 0.5
             },
             "pattern": {
              "fillmode": "overlay",
              "size": 10,
              "solidity": 0.2
             }
            },
            "type": "bar"
           }
          ],
          "barpolar": [
           {
            "marker": {
             "line": {
              "color": "#E5ECF6",
              "width": 0.5
             },
             "pattern": {
              "fillmode": "overlay",
              "size": 10,
              "solidity": 0.2
             }
            },
            "type": "barpolar"
           }
          ],
          "carpet": [
           {
            "aaxis": {
             "endlinecolor": "#2a3f5f",
             "gridcolor": "white",
             "linecolor": "white",
             "minorgridcolor": "white",
             "startlinecolor": "#2a3f5f"
            },
            "baxis": {
             "endlinecolor": "#2a3f5f",
             "gridcolor": "white",
             "linecolor": "white",
             "minorgridcolor": "white",
             "startlinecolor": "#2a3f5f"
            },
            "type": "carpet"
           }
          ],
          "choropleth": [
           {
            "colorbar": {
             "outlinewidth": 0,
             "ticks": ""
            },
            "type": "choropleth"
           }
          ],
          "contour": [
           {
            "colorbar": {
             "outlinewidth": 0,
             "ticks": ""
            },
            "colorscale": [
             [
              0,
              "#0d0887"
             ],
             [
              0.1111111111111111,
              "#46039f"
             ],
             [
              0.2222222222222222,
              "#7201a8"
             ],
             [
              0.3333333333333333,
              "#9c179e"
             ],
             [
              0.4444444444444444,
              "#bd3786"
             ],
             [
              0.5555555555555556,
              "#d8576b"
             ],
             [
              0.6666666666666666,
              "#ed7953"
             ],
             [
              0.7777777777777778,
              "#fb9f3a"
             ],
             [
              0.8888888888888888,
              "#fdca26"
             ],
             [
              1,
              "#f0f921"
             ]
            ],
            "type": "contour"
           }
          ],
          "contourcarpet": [
           {
            "colorbar": {
             "outlinewidth": 0,
             "ticks": ""
            },
            "type": "contourcarpet"
           }
          ],
          "heatmap": [
           {
            "colorbar": {
             "outlinewidth": 0,
             "ticks": ""
            },
            "colorscale": [
             [
              0,
              "#0d0887"
             ],
             [
              0.1111111111111111,
              "#46039f"
             ],
             [
              0.2222222222222222,
              "#7201a8"
             ],
             [
              0.3333333333333333,
              "#9c179e"
             ],
             [
              0.4444444444444444,
              "#bd3786"
             ],
             [
              0.5555555555555556,
              "#d8576b"
             ],
             [
              0.6666666666666666,
              "#ed7953"
             ],
             [
              0.7777777777777778,
              "#fb9f3a"
             ],
             [
              0.8888888888888888,
              "#fdca26"
             ],
             [
              1,
              "#f0f921"
             ]
            ],
            "type": "heatmap"
           }
          ],
          "histogram": [
           {
            "marker": {
             "pattern": {
              "fillmode": "overlay",
              "size": 10,
              "solidity": 0.2
             }
            },
            "type": "histogram"
           }
          ],
          "histogram2d": [
           {
            "colorbar": {
             "outlinewidth": 0,
             "ticks": ""
            },
            "colorscale": [
             [
              0,
              "#0d0887"
             ],
             [
              0.1111111111111111,
              "#46039f"
             ],
             [
              0.2222222222222222,
              "#7201a8"
             ],
             [
              0.3333333333333333,
              "#9c179e"
             ],
             [
              0.4444444444444444,
              "#bd3786"
             ],
             [
              0.5555555555555556,
              "#d8576b"
             ],
             [
              0.6666666666666666,
              "#ed7953"
             ],
             [
              0.7777777777777778,
              "#fb9f3a"
             ],
             [
              0.8888888888888888,
              "#fdca26"
             ],
             [
              1,
              "#f0f921"
             ]
            ],
            "type": "histogram2d"
           }
          ],
          "histogram2dcontour": [
           {
            "colorbar": {
             "outlinewidth": 0,
             "ticks": ""
            },
            "colorscale": [
             [
              0,
              "#0d0887"
             ],
             [
              0.1111111111111111,
              "#46039f"
             ],
             [
              0.2222222222222222,
              "#7201a8"
             ],
             [
              0.3333333333333333,
              "#9c179e"
             ],
             [
              0.4444444444444444,
              "#bd3786"
             ],
             [
              0.5555555555555556,
              "#d8576b"
             ],
             [
              0.6666666666666666,
              "#ed7953"
             ],
             [
              0.7777777777777778,
              "#fb9f3a"
             ],
             [
              0.8888888888888888,
              "#fdca26"
             ],
             [
              1,
              "#f0f921"
             ]
            ],
            "type": "histogram2dcontour"
           }
          ],
          "mesh3d": [
           {
            "colorbar": {
             "outlinewidth": 0,
             "ticks": ""
            },
            "type": "mesh3d"
           }
          ],
          "parcoords": [
           {
            "line": {
             "colorbar": {
              "outlinewidth": 0,
              "ticks": ""
             }
            },
            "type": "parcoords"
           }
          ],
          "pie": [
           {
            "automargin": true,
            "type": "pie"
           }
          ],
          "scatter": [
           {
            "fillpattern": {
             "fillmode": "overlay",
             "size": 10,
             "solidity": 0.2
            },
            "type": "scatter"
           }
          ],
          "scatter3d": [
           {
            "line": {
             "colorbar": {
              "outlinewidth": 0,
              "ticks": ""
             }
            },
            "marker": {
             "colorbar": {
              "outlinewidth": 0,
              "ticks": ""
             }
            },
            "type": "scatter3d"
           }
          ],
          "scattercarpet": [
           {
            "marker": {
             "colorbar": {
              "outlinewidth": 0,
              "ticks": ""
             }
            },
            "type": "scattercarpet"
           }
          ],
          "scattergeo": [
           {
            "marker": {
             "colorbar": {
              "outlinewidth": 0,
              "ticks": ""
             }
            },
            "type": "scattergeo"
           }
          ],
          "scattergl": [
           {
            "marker": {
             "colorbar": {
              "outlinewidth": 0,
              "ticks": ""
             }
            },
            "type": "scattergl"
           }
          ],
          "scattermap": [
           {
            "marker": {
             "colorbar": {
              "outlinewidth": 0,
              "ticks": ""
             }
            },
            "type": "scattermap"
           }
          ],
          "scattermapbox": [
           {
            "marker": {
             "colorbar": {
              "outlinewidth": 0,
              "ticks": ""
             }
            },
            "type": "scattermapbox"
           }
          ],
          "scatterpolar": [
           {
            "marker": {
             "colorbar": {
              "outlinewidth": 0,
              "ticks": ""
             }
            },
            "type": "scatterpolar"
           }
          ],
          "scatterpolargl": [
           {
            "marker": {
             "colorbar": {
              "outlinewidth": 0,
              "ticks": ""
             }
            },
            "type": "scatterpolargl"
           }
          ],
          "scatterternary": [
           {
            "marker": {
             "colorbar": {
              "outlinewidth": 0,
              "ticks": ""
             }
            },
            "type": "scatterternary"
           }
          ],
          "surface": [
           {
            "colorbar": {
             "outlinewidth": 0,
             "ticks": ""
            },
            "colorscale": [
             [
              0,
              "#0d0887"
             ],
             [
              0.1111111111111111,
              "#46039f"
             ],
             [
              0.2222222222222222,
              "#7201a8"
             ],
             [
              0.3333333333333333,
              "#9c179e"
             ],
             [
              0.4444444444444444,
              "#bd3786"
             ],
             [
              0.5555555555555556,
              "#d8576b"
             ],
             [
              0.6666666666666666,
              "#ed7953"
             ],
             [
              0.7777777777777778,
              "#fb9f3a"
             ],
             [
              0.8888888888888888,
              "#fdca26"
             ],
             [
              1,
              "#f0f921"
             ]
            ],
            "type": "surface"
           }
          ],
          "table": [
           {
            "cells": {
             "fill": {
              "color": "#EBF0F8"
             },
             "line": {
              "color": "white"
             }
            },
            "header": {
             "fill": {
              "color": "#C8D4E3"
             },
             "line": {
              "color": "white"
             }
            },
            "type": "table"
           }
          ]
         },
         "layout": {
          "annotationdefaults": {
           "arrowcolor": "#2a3f5f",
           "arrowhead": 0,
           "arrowwidth": 1
          },
          "autotypenumbers": "strict",
          "coloraxis": {
           "colorbar": {
            "outlinewidth": 0,
            "ticks": ""
           }
          },
          "colorscale": {
           "diverging": [
            [
             0,
             "#8e0152"
            ],
            [
             0.1,
             "#c51b7d"
            ],
            [
             0.2,
             "#de77ae"
            ],
            [
             0.3,
             "#f1b6da"
            ],
            [
             0.4,
             "#fde0ef"
            ],
            [
             0.5,
             "#f7f7f7"
            ],
            [
             0.6,
             "#e6f5d0"
            ],
            [
             0.7,
             "#b8e186"
            ],
            [
             0.8,
             "#7fbc41"
            ],
            [
             0.9,
             "#4d9221"
            ],
            [
             1,
             "#276419"
            ]
           ],
           "sequential": [
            [
             0,
             "#0d0887"
            ],
            [
             0.1111111111111111,
             "#46039f"
            ],
            [
             0.2222222222222222,
             "#7201a8"
            ],
            [
             0.3333333333333333,
             "#9c179e"
            ],
            [
             0.4444444444444444,
             "#bd3786"
            ],
            [
             0.5555555555555556,
             "#d8576b"
            ],
            [
             0.6666666666666666,
             "#ed7953"
            ],
            [
             0.7777777777777778,
             "#fb9f3a"
            ],
            [
             0.8888888888888888,
             "#fdca26"
            ],
            [
             1,
             "#f0f921"
            ]
           ],
           "sequentialminus": [
            [
             0,
             "#0d0887"
            ],
            [
             0.1111111111111111,
             "#46039f"
            ],
            [
             0.2222222222222222,
             "#7201a8"
            ],
            [
             0.3333333333333333,
             "#9c179e"
            ],
            [
             0.4444444444444444,
             "#bd3786"
            ],
            [
             0.5555555555555556,
             "#d8576b"
            ],
            [
             0.6666666666666666,
             "#ed7953"
            ],
            [
             0.7777777777777778,
             "#fb9f3a"
            ],
            [
             0.8888888888888888,
             "#fdca26"
            ],
            [
             1,
             "#f0f921"
            ]
           ]
          },
          "colorway": [
           "#636efa",
           "#EF553B",
           "#00cc96",
           "#ab63fa",
           "#FFA15A",
           "#19d3f3",
           "#FF6692",
           "#B6E880",
           "#FF97FF",
           "#FECB52"
          ],
          "font": {
           "color": "#2a3f5f"
          },
          "geo": {
           "bgcolor": "white",
           "lakecolor": "white",
           "landcolor": "#E5ECF6",
           "showlakes": true,
           "showland": true,
           "subunitcolor": "white"
          },
          "hoverlabel": {
           "align": "left"
          },
          "hovermode": "closest",
          "mapbox": {
           "style": "light"
          },
          "paper_bgcolor": "white",
          "plot_bgcolor": "#E5ECF6",
          "polar": {
           "angularaxis": {
            "gridcolor": "white",
            "linecolor": "white",
            "ticks": ""
           },
           "bgcolor": "#E5ECF6",
           "radialaxis": {
            "gridcolor": "white",
            "linecolor": "white",
            "ticks": ""
           }
          },
          "scene": {
           "xaxis": {
            "backgroundcolor": "#E5ECF6",
            "gridcolor": "white",
            "gridwidth": 2,
            "linecolor": "white",
            "showbackground": true,
            "ticks": "",
            "zerolinecolor": "white"
           },
           "yaxis": {
            "backgroundcolor": "#E5ECF6",
            "gridcolor": "white",
            "gridwidth": 2,
            "linecolor": "white",
            "showbackground": true,
            "ticks": "",
            "zerolinecolor": "white"
           },
           "zaxis": {
            "backgroundcolor": "#E5ECF6",
            "gridcolor": "white",
            "gridwidth": 2,
            "linecolor": "white",
            "showbackground": true,
            "ticks": "",
            "zerolinecolor": "white"
           }
          },
          "shapedefaults": {
           "line": {
            "color": "#2a3f5f"
           }
          },
          "ternary": {
           "aaxis": {
            "gridcolor": "white",
            "linecolor": "white",
            "ticks": ""
           },
           "baxis": {
            "gridcolor": "white",
            "linecolor": "white",
            "ticks": ""
           },
           "bgcolor": "#E5ECF6",
           "caxis": {
            "gridcolor": "white",
            "linecolor": "white",
            "ticks": ""
           }
          },
          "title": {
           "x": 0.05
          },
          "xaxis": {
           "automargin": true,
           "gridcolor": "white",
           "linecolor": "white",
           "ticks": "",
           "title": {
            "standoff": 15
           },
           "zerolinecolor": "white",
           "zerolinewidth": 2
          },
          "yaxis": {
           "automargin": true,
           "gridcolor": "white",
           "linecolor": "white",
           "ticks": "",
           "title": {
            "standoff": 15
           },
           "zerolinecolor": "white",
           "zerolinewidth": 2
          }
         }
        },
        "title": {
         "text": "Comparison of Crash Types: Valencia Street vs All Streets"
        }
       }
      }
     },
     "metadata": {},
     "output_type": "display_data"
    },
    {
     "data": {
      "application/vnd.plotly.v1+json": {
       "config": {
        "plotlyServerURL": "https://plot.ly"
       },
       "data": [
        {
         "domain": {
          "x": [
           0,
           0.45
          ],
          "y": [
           0,
           1
          ]
         },
         "labels": [
          "Making Left Turn",
          "Proceeding Straight",
          "Making Right Turn",
          "Parked",
          "Making U Turn"
         ],
         "name": "Valencia Street",
         "type": "pie",
         "values": {
          "bdata": "Ry8rGBU=",
          "dtype": "i1"
         }
        },
        {
         "domain": {
          "x": [
           0.55,
           1
          ],
          "y": [
           0,
           1
          ]
         },
         "labels": [
          "Proceeding Straight",
          "Making Left Turn",
          "Making Right Turn",
          "Stopped In Road",
          "Parked"
         ],
         "name": "All Streets",
         "type": "pie",
         "values": {
          "bdata": "8wvYBVoF8wEbAQ==",
          "dtype": "i2"
         }
        }
       ],
       "layout": {
        "annotations": [
         {
          "font": {
           "size": 16
          },
          "showarrow": false,
          "text": "Top 5 Car Actions<br>Valencia Street",
          "x": 0.225,
          "xanchor": "center",
          "xref": "paper",
          "y": 1,
          "yanchor": "bottom",
          "yref": "paper"
         },
         {
          "font": {
           "size": 16
          },
          "showarrow": false,
          "text": "Top 5 Car Actions<br>(All Streets)",
          "x": 0.775,
          "xanchor": "center",
          "xref": "paper",
          "y": 1,
          "yanchor": "bottom",
          "yref": "paper"
         }
        ],
        "template": {
         "data": {
          "bar": [
           {
            "error_x": {
             "color": "#2a3f5f"
            },
            "error_y": {
             "color": "#2a3f5f"
            },
            "marker": {
             "line": {
              "color": "#E5ECF6",
              "width": 0.5
             },
             "pattern": {
              "fillmode": "overlay",
              "size": 10,
              "solidity": 0.2
             }
            },
            "type": "bar"
           }
          ],
          "barpolar": [
           {
            "marker": {
             "line": {
              "color": "#E5ECF6",
              "width": 0.5
             },
             "pattern": {
              "fillmode": "overlay",
              "size": 10,
              "solidity": 0.2
             }
            },
            "type": "barpolar"
           }
          ],
          "carpet": [
           {
            "aaxis": {
             "endlinecolor": "#2a3f5f",
             "gridcolor": "white",
             "linecolor": "white",
             "minorgridcolor": "white",
             "startlinecolor": "#2a3f5f"
            },
            "baxis": {
             "endlinecolor": "#2a3f5f",
             "gridcolor": "white",
             "linecolor": "white",
             "minorgridcolor": "white",
             "startlinecolor": "#2a3f5f"
            },
            "type": "carpet"
           }
          ],
          "choropleth": [
           {
            "colorbar": {
             "outlinewidth": 0,
             "ticks": ""
            },
            "type": "choropleth"
           }
          ],
          "contour": [
           {
            "colorbar": {
             "outlinewidth": 0,
             "ticks": ""
            },
            "colorscale": [
             [
              0,
              "#0d0887"
             ],
             [
              0.1111111111111111,
              "#46039f"
             ],
             [
              0.2222222222222222,
              "#7201a8"
             ],
             [
              0.3333333333333333,
              "#9c179e"
             ],
             [
              0.4444444444444444,
              "#bd3786"
             ],
             [
              0.5555555555555556,
              "#d8576b"
             ],
             [
              0.6666666666666666,
              "#ed7953"
             ],
             [
              0.7777777777777778,
              "#fb9f3a"
             ],
             [
              0.8888888888888888,
              "#fdca26"
             ],
             [
              1,
              "#f0f921"
             ]
            ],
            "type": "contour"
           }
          ],
          "contourcarpet": [
           {
            "colorbar": {
             "outlinewidth": 0,
             "ticks": ""
            },
            "type": "contourcarpet"
           }
          ],
          "heatmap": [
           {
            "colorbar": {
             "outlinewidth": 0,
             "ticks": ""
            },
            "colorscale": [
             [
              0,
              "#0d0887"
             ],
             [
              0.1111111111111111,
              "#46039f"
             ],
             [
              0.2222222222222222,
              "#7201a8"
             ],
             [
              0.3333333333333333,
              "#9c179e"
             ],
             [
              0.4444444444444444,
              "#bd3786"
             ],
             [
              0.5555555555555556,
              "#d8576b"
             ],
             [
              0.6666666666666666,
              "#ed7953"
             ],
             [
              0.7777777777777778,
              "#fb9f3a"
             ],
             [
              0.8888888888888888,
              "#fdca26"
             ],
             [
              1,
              "#f0f921"
             ]
            ],
            "type": "heatmap"
           }
          ],
          "histogram": [
           {
            "marker": {
             "pattern": {
              "fillmode": "overlay",
              "size": 10,
              "solidity": 0.2
             }
            },
            "type": "histogram"
           }
          ],
          "histogram2d": [
           {
            "colorbar": {
             "outlinewidth": 0,
             "ticks": ""
            },
            "colorscale": [
             [
              0,
              "#0d0887"
             ],
             [
              0.1111111111111111,
              "#46039f"
             ],
             [
              0.2222222222222222,
              "#7201a8"
             ],
             [
              0.3333333333333333,
              "#9c179e"
             ],
             [
              0.4444444444444444,
              "#bd3786"
             ],
             [
              0.5555555555555556,
              "#d8576b"
             ],
             [
              0.6666666666666666,
              "#ed7953"
             ],
             [
              0.7777777777777778,
              "#fb9f3a"
             ],
             [
              0.8888888888888888,
              "#fdca26"
             ],
             [
              1,
              "#f0f921"
             ]
            ],
            "type": "histogram2d"
           }
          ],
          "histogram2dcontour": [
           {
            "colorbar": {
             "outlinewidth": 0,
             "ticks": ""
            },
            "colorscale": [
             [
              0,
              "#0d0887"
             ],
             [
              0.1111111111111111,
              "#46039f"
             ],
             [
              0.2222222222222222,
              "#7201a8"
             ],
             [
              0.3333333333333333,
              "#9c179e"
             ],
             [
              0.4444444444444444,
              "#bd3786"
             ],
             [
              0.5555555555555556,
              "#d8576b"
             ],
             [
              0.6666666666666666,
              "#ed7953"
             ],
             [
              0.7777777777777778,
              "#fb9f3a"
             ],
             [
              0.8888888888888888,
              "#fdca26"
             ],
             [
              1,
              "#f0f921"
             ]
            ],
            "type": "histogram2dcontour"
           }
          ],
          "mesh3d": [
           {
            "colorbar": {
             "outlinewidth": 0,
             "ticks": ""
            },
            "type": "mesh3d"
           }
          ],
          "parcoords": [
           {
            "line": {
             "colorbar": {
              "outlinewidth": 0,
              "ticks": ""
             }
            },
            "type": "parcoords"
           }
          ],
          "pie": [
           {
            "automargin": true,
            "type": "pie"
           }
          ],
          "scatter": [
           {
            "fillpattern": {
             "fillmode": "overlay",
             "size": 10,
             "solidity": 0.2
            },
            "type": "scatter"
           }
          ],
          "scatter3d": [
           {
            "line": {
             "colorbar": {
              "outlinewidth": 0,
              "ticks": ""
             }
            },
            "marker": {
             "colorbar": {
              "outlinewidth": 0,
              "ticks": ""
             }
            },
            "type": "scatter3d"
           }
          ],
          "scattercarpet": [
           {
            "marker": {
             "colorbar": {
              "outlinewidth": 0,
              "ticks": ""
             }
            },
            "type": "scattercarpet"
           }
          ],
          "scattergeo": [
           {
            "marker": {
             "colorbar": {
              "outlinewidth": 0,
              "ticks": ""
             }
            },
            "type": "scattergeo"
           }
          ],
          "scattergl": [
           {
            "marker": {
             "colorbar": {
              "outlinewidth": 0,
              "ticks": ""
             }
            },
            "type": "scattergl"
           }
          ],
          "scattermap": [
           {
            "marker": {
             "colorbar": {
              "outlinewidth": 0,
              "ticks": ""
             }
            },
            "type": "scattermap"
           }
          ],
          "scattermapbox": [
           {
            "marker": {
             "colorbar": {
              "outlinewidth": 0,
              "ticks": ""
             }
            },
            "type": "scattermapbox"
           }
          ],
          "scatterpolar": [
           {
            "marker": {
             "colorbar": {
              "outlinewidth": 0,
              "ticks": ""
             }
            },
            "type": "scatterpolar"
           }
          ],
          "scatterpolargl": [
           {
            "marker": {
             "colorbar": {
              "outlinewidth": 0,
              "ticks": ""
             }
            },
            "type": "scatterpolargl"
           }
          ],
          "scatterternary": [
           {
            "marker": {
             "colorbar": {
              "outlinewidth": 0,
              "ticks": ""
             }
            },
            "type": "scatterternary"
           }
          ],
          "surface": [
           {
            "colorbar": {
             "outlinewidth": 0,
             "ticks": ""
            },
            "colorscale": [
             [
              0,
              "#0d0887"
             ],
             [
              0.1111111111111111,
              "#46039f"
             ],
             [
              0.2222222222222222,
              "#7201a8"
             ],
             [
              0.3333333333333333,
              "#9c179e"
             ],
             [
              0.4444444444444444,
              "#bd3786"
             ],
             [
              0.5555555555555556,
              "#d8576b"
             ],
             [
              0.6666666666666666,
              "#ed7953"
             ],
             [
              0.7777777777777778,
              "#fb9f3a"
             ],
             [
              0.8888888888888888,
              "#fdca26"
             ],
             [
              1,
              "#f0f921"
             ]
            ],
            "type": "surface"
           }
          ],
          "table": [
           {
            "cells": {
             "fill": {
              "color": "#EBF0F8"
             },
             "line": {
              "color": "white"
             }
            },
            "header": {
             "fill": {
              "color": "#C8D4E3"
             },
             "line": {
              "color": "white"
             }
            },
            "type": "table"
           }
          ]
         },
         "layout": {
          "annotationdefaults": {
           "arrowcolor": "#2a3f5f",
           "arrowhead": 0,
           "arrowwidth": 1
          },
          "autotypenumbers": "strict",
          "coloraxis": {
           "colorbar": {
            "outlinewidth": 0,
            "ticks": ""
           }
          },
          "colorscale": {
           "diverging": [
            [
             0,
             "#8e0152"
            ],
            [
             0.1,
             "#c51b7d"
            ],
            [
             0.2,
             "#de77ae"
            ],
            [
             0.3,
             "#f1b6da"
            ],
            [
             0.4,
             "#fde0ef"
            ],
            [
             0.5,
             "#f7f7f7"
            ],
            [
             0.6,
             "#e6f5d0"
            ],
            [
             0.7,
             "#b8e186"
            ],
            [
             0.8,
             "#7fbc41"
            ],
            [
             0.9,
             "#4d9221"
            ],
            [
             1,
             "#276419"
            ]
           ],
           "sequential": [
            [
             0,
             "#0d0887"
            ],
            [
             0.1111111111111111,
             "#46039f"
            ],
            [
             0.2222222222222222,
             "#7201a8"
            ],
            [
             0.3333333333333333,
             "#9c179e"
            ],
            [
             0.4444444444444444,
             "#bd3786"
            ],
            [
             0.5555555555555556,
             "#d8576b"
            ],
            [
             0.6666666666666666,
             "#ed7953"
            ],
            [
             0.7777777777777778,
             "#fb9f3a"
            ],
            [
             0.8888888888888888,
             "#fdca26"
            ],
            [
             1,
             "#f0f921"
            ]
           ],
           "sequentialminus": [
            [
             0,
             "#0d0887"
            ],
            [
             0.1111111111111111,
             "#46039f"
            ],
            [
             0.2222222222222222,
             "#7201a8"
            ],
            [
             0.3333333333333333,
             "#9c179e"
            ],
            [
             0.4444444444444444,
             "#bd3786"
            ],
            [
             0.5555555555555556,
             "#d8576b"
            ],
            [
             0.6666666666666666,
             "#ed7953"
            ],
            [
             0.7777777777777778,
             "#fb9f3a"
            ],
            [
             0.8888888888888888,
             "#fdca26"
            ],
            [
             1,
             "#f0f921"
            ]
           ]
          },
          "colorway": [
           "#636efa",
           "#EF553B",
           "#00cc96",
           "#ab63fa",
           "#FFA15A",
           "#19d3f3",
           "#FF6692",
           "#B6E880",
           "#FF97FF",
           "#FECB52"
          ],
          "font": {
           "color": "#2a3f5f"
          },
          "geo": {
           "bgcolor": "white",
           "lakecolor": "white",
           "landcolor": "#E5ECF6",
           "showlakes": true,
           "showland": true,
           "subunitcolor": "white"
          },
          "hoverlabel": {
           "align": "left"
          },
          "hovermode": "closest",
          "mapbox": {
           "style": "light"
          },
          "paper_bgcolor": "white",
          "plot_bgcolor": "#E5ECF6",
          "polar": {
           "angularaxis": {
            "gridcolor": "white",
            "linecolor": "white",
            "ticks": ""
           },
           "bgcolor": "#E5ECF6",
           "radialaxis": {
            "gridcolor": "white",
            "linecolor": "white",
            "ticks": ""
           }
          },
          "scene": {
           "xaxis": {
            "backgroundcolor": "#E5ECF6",
            "gridcolor": "white",
            "gridwidth": 2,
            "linecolor": "white",
            "showbackground": true,
            "ticks": "",
            "zerolinecolor": "white"
           },
           "yaxis": {
            "backgroundcolor": "#E5ECF6",
            "gridcolor": "white",
            "gridwidth": 2,
            "linecolor": "white",
            "showbackground": true,
            "ticks": "",
            "zerolinecolor": "white"
           },
           "zaxis": {
            "backgroundcolor": "#E5ECF6",
            "gridcolor": "white",
            "gridwidth": 2,
            "linecolor": "white",
            "showbackground": true,
            "ticks": "",
            "zerolinecolor": "white"
           }
          },
          "shapedefaults": {
           "line": {
            "color": "#2a3f5f"
           }
          },
          "ternary": {
           "aaxis": {
            "gridcolor": "white",
            "linecolor": "white",
            "ticks": ""
           },
           "baxis": {
            "gridcolor": "white",
            "linecolor": "white",
            "ticks": ""
           },
           "bgcolor": "#E5ECF6",
           "caxis": {
            "gridcolor": "white",
            "linecolor": "white",
            "ticks": ""
           }
          },
          "title": {
           "x": 0.05
          },
          "xaxis": {
           "automargin": true,
           "gridcolor": "white",
           "linecolor": "white",
           "ticks": "",
           "title": {
            "standoff": 15
           },
           "zerolinecolor": "white",
           "zerolinewidth": 2
          },
          "yaxis": {
           "automargin": true,
           "gridcolor": "white",
           "linecolor": "white",
           "ticks": "",
           "title": {
            "standoff": 15
           },
           "zerolinecolor": "white",
           "zerolinewidth": 2
          }
         }
        },
        "title": {
         "text": "Comparison of Top 5 Car Actions: Valencia Street vs All Streets"
        }
       }
      }
     },
     "metadata": {},
     "output_type": "display_data"
    },
    {
     "data": {
      "application/vnd.plotly.v1+json": {
       "config": {
        "plotlyServerURL": "https://plot.ly"
       },
       "data": [
        {
         "domain": {
          "x": [
           0,
           0.45
          ],
          "y": [
           0,
           1
          ]
         },
         "labels": [
          "Injury (Complaint of Pain)",
          "Injury (Other Visible)",
          "Injury (Severe)"
         ],
         "name": "Valencia Street",
         "type": "pie",
         "values": {
          "bdata": "pgCmABUA",
          "dtype": "i2"
         }
        },
        {
         "domain": {
          "x": [
           0.55,
           1
          ],
          "y": [
           0,
           1
          ]
         },
         "labels": [
          "Injury (Other Visible)",
          "Injury (Complaint of Pain)",
          "Injury (Severe)",
          "Fatal",
          "Medical"
         ],
         "name": "All Streets",
         "type": "pie",
         "values": {
          "bdata": "sBJXEnMDLwABAA==",
          "dtype": "i2"
         }
        }
       ],
       "layout": {
        "annotations": [
         {
          "font": {
           "size": 16
          },
          "showarrow": false,
          "text": "Severity of Bike Crashes<br>on Valencia Street",
          "x": 0.225,
          "xanchor": "center",
          "xref": "paper",
          "y": 1,
          "yanchor": "bottom",
          "yref": "paper"
         },
         {
          "font": {
           "size": 16
          },
          "showarrow": false,
          "text": "Severity of Bike Crashes<br>(All Streets)",
          "x": 0.775,
          "xanchor": "center",
          "xref": "paper",
          "y": 1,
          "yanchor": "bottom",
          "yref": "paper"
         }
        ],
        "template": {
         "data": {
          "bar": [
           {
            "error_x": {
             "color": "#2a3f5f"
            },
            "error_y": {
             "color": "#2a3f5f"
            },
            "marker": {
             "line": {
              "color": "#E5ECF6",
              "width": 0.5
             },
             "pattern": {
              "fillmode": "overlay",
              "size": 10,
              "solidity": 0.2
             }
            },
            "type": "bar"
           }
          ],
          "barpolar": [
           {
            "marker": {
             "line": {
              "color": "#E5ECF6",
              "width": 0.5
             },
             "pattern": {
              "fillmode": "overlay",
              "size": 10,
              "solidity": 0.2
             }
            },
            "type": "barpolar"
           }
          ],
          "carpet": [
           {
            "aaxis": {
             "endlinecolor": "#2a3f5f",
             "gridcolor": "white",
             "linecolor": "white",
             "minorgridcolor": "white",
             "startlinecolor": "#2a3f5f"
            },
            "baxis": {
             "endlinecolor": "#2a3f5f",
             "gridcolor": "white",
             "linecolor": "white",
             "minorgridcolor": "white",
             "startlinecolor": "#2a3f5f"
            },
            "type": "carpet"
           }
          ],
          "choropleth": [
           {
            "colorbar": {
             "outlinewidth": 0,
             "ticks": ""
            },
            "type": "choropleth"
           }
          ],
          "contour": [
           {
            "colorbar": {
             "outlinewidth": 0,
             "ticks": ""
            },
            "colorscale": [
             [
              0,
              "#0d0887"
             ],
             [
              0.1111111111111111,
              "#46039f"
             ],
             [
              0.2222222222222222,
              "#7201a8"
             ],
             [
              0.3333333333333333,
              "#9c179e"
             ],
             [
              0.4444444444444444,
              "#bd3786"
             ],
             [
              0.5555555555555556,
              "#d8576b"
             ],
             [
              0.6666666666666666,
              "#ed7953"
             ],
             [
              0.7777777777777778,
              "#fb9f3a"
             ],
             [
              0.8888888888888888,
              "#fdca26"
             ],
             [
              1,
              "#f0f921"
             ]
            ],
            "type": "contour"
           }
          ],
          "contourcarpet": [
           {
            "colorbar": {
             "outlinewidth": 0,
             "ticks": ""
            },
            "type": "contourcarpet"
           }
          ],
          "heatmap": [
           {
            "colorbar": {
             "outlinewidth": 0,
             "ticks": ""
            },
            "colorscale": [
             [
              0,
              "#0d0887"
             ],
             [
              0.1111111111111111,
              "#46039f"
             ],
             [
              0.2222222222222222,
              "#7201a8"
             ],
             [
              0.3333333333333333,
              "#9c179e"
             ],
             [
              0.4444444444444444,
              "#bd3786"
             ],
             [
              0.5555555555555556,
              "#d8576b"
             ],
             [
              0.6666666666666666,
              "#ed7953"
             ],
             [
              0.7777777777777778,
              "#fb9f3a"
             ],
             [
              0.8888888888888888,
              "#fdca26"
             ],
             [
              1,
              "#f0f921"
             ]
            ],
            "type": "heatmap"
           }
          ],
          "histogram": [
           {
            "marker": {
             "pattern": {
              "fillmode": "overlay",
              "size": 10,
              "solidity": 0.2
             }
            },
            "type": "histogram"
           }
          ],
          "histogram2d": [
           {
            "colorbar": {
             "outlinewidth": 0,
             "ticks": ""
            },
            "colorscale": [
             [
              0,
              "#0d0887"
             ],
             [
              0.1111111111111111,
              "#46039f"
             ],
             [
              0.2222222222222222,
              "#7201a8"
             ],
             [
              0.3333333333333333,
              "#9c179e"
             ],
             [
              0.4444444444444444,
              "#bd3786"
             ],
             [
              0.5555555555555556,
              "#d8576b"
             ],
             [
              0.6666666666666666,
              "#ed7953"
             ],
             [
              0.7777777777777778,
              "#fb9f3a"
             ],
             [
              0.8888888888888888,
              "#fdca26"
             ],
             [
              1,
              "#f0f921"
             ]
            ],
            "type": "histogram2d"
           }
          ],
          "histogram2dcontour": [
           {
            "colorbar": {
             "outlinewidth": 0,
             "ticks": ""
            },
            "colorscale": [
             [
              0,
              "#0d0887"
             ],
             [
              0.1111111111111111,
              "#46039f"
             ],
             [
              0.2222222222222222,
              "#7201a8"
             ],
             [
              0.3333333333333333,
              "#9c179e"
             ],
             [
              0.4444444444444444,
              "#bd3786"
             ],
             [
              0.5555555555555556,
              "#d8576b"
             ],
             [
              0.6666666666666666,
              "#ed7953"
             ],
             [
              0.7777777777777778,
              "#fb9f3a"
             ],
             [
              0.8888888888888888,
              "#fdca26"
             ],
             [
              1,
              "#f0f921"
             ]
            ],
            "type": "histogram2dcontour"
           }
          ],
          "mesh3d": [
           {
            "colorbar": {
             "outlinewidth": 0,
             "ticks": ""
            },
            "type": "mesh3d"
           }
          ],
          "parcoords": [
           {
            "line": {
             "colorbar": {
              "outlinewidth": 0,
              "ticks": ""
             }
            },
            "type": "parcoords"
           }
          ],
          "pie": [
           {
            "automargin": true,
            "type": "pie"
           }
          ],
          "scatter": [
           {
            "fillpattern": {
             "fillmode": "overlay",
             "size": 10,
             "solidity": 0.2
            },
            "type": "scatter"
           }
          ],
          "scatter3d": [
           {
            "line": {
             "colorbar": {
              "outlinewidth": 0,
              "ticks": ""
             }
            },
            "marker": {
             "colorbar": {
              "outlinewidth": 0,
              "ticks": ""
             }
            },
            "type": "scatter3d"
           }
          ],
          "scattercarpet": [
           {
            "marker": {
             "colorbar": {
              "outlinewidth": 0,
              "ticks": ""
             }
            },
            "type": "scattercarpet"
           }
          ],
          "scattergeo": [
           {
            "marker": {
             "colorbar": {
              "outlinewidth": 0,
              "ticks": ""
             }
            },
            "type": "scattergeo"
           }
          ],
          "scattergl": [
           {
            "marker": {
             "colorbar": {
              "outlinewidth": 0,
              "ticks": ""
             }
            },
            "type": "scattergl"
           }
          ],
          "scattermap": [
           {
            "marker": {
             "colorbar": {
              "outlinewidth": 0,
              "ticks": ""
             }
            },
            "type": "scattermap"
           }
          ],
          "scattermapbox": [
           {
            "marker": {
             "colorbar": {
              "outlinewidth": 0,
              "ticks": ""
             }
            },
            "type": "scattermapbox"
           }
          ],
          "scatterpolar": [
           {
            "marker": {
             "colorbar": {
              "outlinewidth": 0,
              "ticks": ""
             }
            },
            "type": "scatterpolar"
           }
          ],
          "scatterpolargl": [
           {
            "marker": {
             "colorbar": {
              "outlinewidth": 0,
              "ticks": ""
             }
            },
            "type": "scatterpolargl"
           }
          ],
          "scatterternary": [
           {
            "marker": {
             "colorbar": {
              "outlinewidth": 0,
              "ticks": ""
             }
            },
            "type": "scatterternary"
           }
          ],
          "surface": [
           {
            "colorbar": {
             "outlinewidth": 0,
             "ticks": ""
            },
            "colorscale": [
             [
              0,
              "#0d0887"
             ],
             [
              0.1111111111111111,
              "#46039f"
             ],
             [
              0.2222222222222222,
              "#7201a8"
             ],
             [
              0.3333333333333333,
              "#9c179e"
             ],
             [
              0.4444444444444444,
              "#bd3786"
             ],
             [
              0.5555555555555556,
              "#d8576b"
             ],
             [
              0.6666666666666666,
              "#ed7953"
             ],
             [
              0.7777777777777778,
              "#fb9f3a"
             ],
             [
              0.8888888888888888,
              "#fdca26"
             ],
             [
              1,
              "#f0f921"
             ]
            ],
            "type": "surface"
           }
          ],
          "table": [
           {
            "cells": {
             "fill": {
              "color": "#EBF0F8"
             },
             "line": {
              "color": "white"
             }
            },
            "header": {
             "fill": {
              "color": "#C8D4E3"
             },
             "line": {
              "color": "white"
             }
            },
            "type": "table"
           }
          ]
         },
         "layout": {
          "annotationdefaults": {
           "arrowcolor": "#2a3f5f",
           "arrowhead": 0,
           "arrowwidth": 1
          },
          "autotypenumbers": "strict",
          "coloraxis": {
           "colorbar": {
            "outlinewidth": 0,
            "ticks": ""
           }
          },
          "colorscale": {
           "diverging": [
            [
             0,
             "#8e0152"
            ],
            [
             0.1,
             "#c51b7d"
            ],
            [
             0.2,
             "#de77ae"
            ],
            [
             0.3,
             "#f1b6da"
            ],
            [
             0.4,
             "#fde0ef"
            ],
            [
             0.5,
             "#f7f7f7"
            ],
            [
             0.6,
             "#e6f5d0"
            ],
            [
             0.7,
             "#b8e186"
            ],
            [
             0.8,
             "#7fbc41"
            ],
            [
             0.9,
             "#4d9221"
            ],
            [
             1,
             "#276419"
            ]
           ],
           "sequential": [
            [
             0,
             "#0d0887"
            ],
            [
             0.1111111111111111,
             "#46039f"
            ],
            [
             0.2222222222222222,
             "#7201a8"
            ],
            [
             0.3333333333333333,
             "#9c179e"
            ],
            [
             0.4444444444444444,
             "#bd3786"
            ],
            [
             0.5555555555555556,
             "#d8576b"
            ],
            [
             0.6666666666666666,
             "#ed7953"
            ],
            [
             0.7777777777777778,
             "#fb9f3a"
            ],
            [
             0.8888888888888888,
             "#fdca26"
            ],
            [
             1,
             "#f0f921"
            ]
           ],
           "sequentialminus": [
            [
             0,
             "#0d0887"
            ],
            [
             0.1111111111111111,
             "#46039f"
            ],
            [
             0.2222222222222222,
             "#7201a8"
            ],
            [
             0.3333333333333333,
             "#9c179e"
            ],
            [
             0.4444444444444444,
             "#bd3786"
            ],
            [
             0.5555555555555556,
             "#d8576b"
            ],
            [
             0.6666666666666666,
             "#ed7953"
            ],
            [
             0.7777777777777778,
             "#fb9f3a"
            ],
            [
             0.8888888888888888,
             "#fdca26"
            ],
            [
             1,
             "#f0f921"
            ]
           ]
          },
          "colorway": [
           "#636efa",
           "#EF553B",
           "#00cc96",
           "#ab63fa",
           "#FFA15A",
           "#19d3f3",
           "#FF6692",
           "#B6E880",
           "#FF97FF",
           "#FECB52"
          ],
          "font": {
           "color": "#2a3f5f"
          },
          "geo": {
           "bgcolor": "white",
           "lakecolor": "white",
           "landcolor": "#E5ECF6",
           "showlakes": true,
           "showland": true,
           "subunitcolor": "white"
          },
          "hoverlabel": {
           "align": "left"
          },
          "hovermode": "closest",
          "mapbox": {
           "style": "light"
          },
          "paper_bgcolor": "white",
          "plot_bgcolor": "#E5ECF6",
          "polar": {
           "angularaxis": {
            "gridcolor": "white",
            "linecolor": "white",
            "ticks": ""
           },
           "bgcolor": "#E5ECF6",
           "radialaxis": {
            "gridcolor": "white",
            "linecolor": "white",
            "ticks": ""
           }
          },
          "scene": {
           "xaxis": {
            "backgroundcolor": "#E5ECF6",
            "gridcolor": "white",
            "gridwidth": 2,
            "linecolor": "white",
            "showbackground": true,
            "ticks": "",
            "zerolinecolor": "white"
           },
           "yaxis": {
            "backgroundcolor": "#E5ECF6",
            "gridcolor": "white",
            "gridwidth": 2,
            "linecolor": "white",
            "showbackground": true,
            "ticks": "",
            "zerolinecolor": "white"
           },
           "zaxis": {
            "backgroundcolor": "#E5ECF6",
            "gridcolor": "white",
            "gridwidth": 2,
            "linecolor": "white",
            "showbackground": true,
            "ticks": "",
            "zerolinecolor": "white"
           }
          },
          "shapedefaults": {
           "line": {
            "color": "#2a3f5f"
           }
          },
          "ternary": {
           "aaxis": {
            "gridcolor": "white",
            "linecolor": "white",
            "ticks": ""
           },
           "baxis": {
            "gridcolor": "white",
            "linecolor": "white",
            "ticks": ""
           },
           "bgcolor": "#E5ECF6",
           "caxis": {
            "gridcolor": "white",
            "linecolor": "white",
            "ticks": ""
           }
          },
          "title": {
           "x": 0.05
          },
          "xaxis": {
           "automargin": true,
           "gridcolor": "white",
           "linecolor": "white",
           "ticks": "",
           "title": {
            "standoff": 15
           },
           "zerolinecolor": "white",
           "zerolinewidth": 2
          },
          "yaxis": {
           "automargin": true,
           "gridcolor": "white",
           "linecolor": "white",
           "ticks": "",
           "title": {
            "standoff": 15
           },
           "zerolinecolor": "white",
           "zerolinewidth": 2
          }
         }
        },
        "title": {
         "text": "Comparison of Crash Severity: Valencia Street vs All Streets"
        }
       }
      }
     },
     "metadata": {},
     "output_type": "display_data"
    },
    {
     "data": {
      "application/vnd.plotly.v1+json": {
       "config": {
        "plotlyServerURL": "https://plot.ly"
       },
       "data": [
        {
         "domain": {
          "x": [
           0,
           0.45
          ],
          "y": [
           0,
           1
          ]
         },
         "labels": [
          "Car On Bike",
          "Other",
          "Unknown",
          "Bike On Pedestrian",
          "Bike On Bike"
         ],
         "name": "Valencia Street",
         "type": "pie",
         "values": {
          "bdata": "GAEnABAADQAFAA==",
          "dtype": "i2"
         }
        },
        {
         "domain": {
          "x": [
           0.55,
           1
          ],
          "y": [
           0,
           1
          ]
         },
         "labels": [
          "Car On Bike",
          "Unknown",
          "Other",
          "Bike On Pedestrian",
          "Bike On Bike"
         ],
         "name": "All Streets",
         "type": "pie",
         "values": {
          "bdata": "zh/vA3QC7QGMAA==",
          "dtype": "i2"
         }
        }
       ],
       "layout": {
        "annotations": [
         {
          "font": {
           "size": 16
          },
          "showarrow": false,
          "text": "Crash Party Types<br>on Valencia Street",
          "x": 0.225,
          "xanchor": "center",
          "xref": "paper",
          "y": 1,
          "yanchor": "bottom",
          "yref": "paper"
         },
         {
          "font": {
           "size": 16
          },
          "showarrow": false,
          "text": "Crash Party Types<br>(All Streets)",
          "x": 0.775,
          "xanchor": "center",
          "xref": "paper",
          "y": 1,
          "yanchor": "bottom",
          "yref": "paper"
         }
        ],
        "template": {
         "data": {
          "bar": [
           {
            "error_x": {
             "color": "#2a3f5f"
            },
            "error_y": {
             "color": "#2a3f5f"
            },
            "marker": {
             "line": {
              "color": "#E5ECF6",
              "width": 0.5
             },
             "pattern": {
              "fillmode": "overlay",
              "size": 10,
              "solidity": 0.2
             }
            },
            "type": "bar"
           }
          ],
          "barpolar": [
           {
            "marker": {
             "line": {
              "color": "#E5ECF6",
              "width": 0.5
             },
             "pattern": {
              "fillmode": "overlay",
              "size": 10,
              "solidity": 0.2
             }
            },
            "type": "barpolar"
           }
          ],
          "carpet": [
           {
            "aaxis": {
             "endlinecolor": "#2a3f5f",
             "gridcolor": "white",
             "linecolor": "white",
             "minorgridcolor": "white",
             "startlinecolor": "#2a3f5f"
            },
            "baxis": {
             "endlinecolor": "#2a3f5f",
             "gridcolor": "white",
             "linecolor": "white",
             "minorgridcolor": "white",
             "startlinecolor": "#2a3f5f"
            },
            "type": "carpet"
           }
          ],
          "choropleth": [
           {
            "colorbar": {
             "outlinewidth": 0,
             "ticks": ""
            },
            "type": "choropleth"
           }
          ],
          "contour": [
           {
            "colorbar": {
             "outlinewidth": 0,
             "ticks": ""
            },
            "colorscale": [
             [
              0,
              "#0d0887"
             ],
             [
              0.1111111111111111,
              "#46039f"
             ],
             [
              0.2222222222222222,
              "#7201a8"
             ],
             [
              0.3333333333333333,
              "#9c179e"
             ],
             [
              0.4444444444444444,
              "#bd3786"
             ],
             [
              0.5555555555555556,
              "#d8576b"
             ],
             [
              0.6666666666666666,
              "#ed7953"
             ],
             [
              0.7777777777777778,
              "#fb9f3a"
             ],
             [
              0.8888888888888888,
              "#fdca26"
             ],
             [
              1,
              "#f0f921"
             ]
            ],
            "type": "contour"
           }
          ],
          "contourcarpet": [
           {
            "colorbar": {
             "outlinewidth": 0,
             "ticks": ""
            },
            "type": "contourcarpet"
           }
          ],
          "heatmap": [
           {
            "colorbar": {
             "outlinewidth": 0,
             "ticks": ""
            },
            "colorscale": [
             [
              0,
              "#0d0887"
             ],
             [
              0.1111111111111111,
              "#46039f"
             ],
             [
              0.2222222222222222,
              "#7201a8"
             ],
             [
              0.3333333333333333,
              "#9c179e"
             ],
             [
              0.4444444444444444,
              "#bd3786"
             ],
             [
              0.5555555555555556,
              "#d8576b"
             ],
             [
              0.6666666666666666,
              "#ed7953"
             ],
             [
              0.7777777777777778,
              "#fb9f3a"
             ],
             [
              0.8888888888888888,
              "#fdca26"
             ],
             [
              1,
              "#f0f921"
             ]
            ],
            "type": "heatmap"
           }
          ],
          "histogram": [
           {
            "marker": {
             "pattern": {
              "fillmode": "overlay",
              "size": 10,
              "solidity": 0.2
             }
            },
            "type": "histogram"
           }
          ],
          "histogram2d": [
           {
            "colorbar": {
             "outlinewidth": 0,
             "ticks": ""
            },
            "colorscale": [
             [
              0,
              "#0d0887"
             ],
             [
              0.1111111111111111,
              "#46039f"
             ],
             [
              0.2222222222222222,
              "#7201a8"
             ],
             [
              0.3333333333333333,
              "#9c179e"
             ],
             [
              0.4444444444444444,
              "#bd3786"
             ],
             [
              0.5555555555555556,
              "#d8576b"
             ],
             [
              0.6666666666666666,
              "#ed7953"
             ],
             [
              0.7777777777777778,
              "#fb9f3a"
             ],
             [
              0.8888888888888888,
              "#fdca26"
             ],
             [
              1,
              "#f0f921"
             ]
            ],
            "type": "histogram2d"
           }
          ],
          "histogram2dcontour": [
           {
            "colorbar": {
             "outlinewidth": 0,
             "ticks": ""
            },
            "colorscale": [
             [
              0,
              "#0d0887"
             ],
             [
              0.1111111111111111,
              "#46039f"
             ],
             [
              0.2222222222222222,
              "#7201a8"
             ],
             [
              0.3333333333333333,
              "#9c179e"
             ],
             [
              0.4444444444444444,
              "#bd3786"
             ],
             [
              0.5555555555555556,
              "#d8576b"
             ],
             [
              0.6666666666666666,
              "#ed7953"
             ],
             [
              0.7777777777777778,
              "#fb9f3a"
             ],
             [
              0.8888888888888888,
              "#fdca26"
             ],
             [
              1,
              "#f0f921"
             ]
            ],
            "type": "histogram2dcontour"
           }
          ],
          "mesh3d": [
           {
            "colorbar": {
             "outlinewidth": 0,
             "ticks": ""
            },
            "type": "mesh3d"
           }
          ],
          "parcoords": [
           {
            "line": {
             "colorbar": {
              "outlinewidth": 0,
              "ticks": ""
             }
            },
            "type": "parcoords"
           }
          ],
          "pie": [
           {
            "automargin": true,
            "type": "pie"
           }
          ],
          "scatter": [
           {
            "fillpattern": {
             "fillmode": "overlay",
             "size": 10,
             "solidity": 0.2
            },
            "type": "scatter"
           }
          ],
          "scatter3d": [
           {
            "line": {
             "colorbar": {
              "outlinewidth": 0,
              "ticks": ""
             }
            },
            "marker": {
             "colorbar": {
              "outlinewidth": 0,
              "ticks": ""
             }
            },
            "type": "scatter3d"
           }
          ],
          "scattercarpet": [
           {
            "marker": {
             "colorbar": {
              "outlinewidth": 0,
              "ticks": ""
             }
            },
            "type": "scattercarpet"
           }
          ],
          "scattergeo": [
           {
            "marker": {
             "colorbar": {
              "outlinewidth": 0,
              "ticks": ""
             }
            },
            "type": "scattergeo"
           }
          ],
          "scattergl": [
           {
            "marker": {
             "colorbar": {
              "outlinewidth": 0,
              "ticks": ""
             }
            },
            "type": "scattergl"
           }
          ],
          "scattermap": [
           {
            "marker": {
             "colorbar": {
              "outlinewidth": 0,
              "ticks": ""
             }
            },
            "type": "scattermap"
           }
          ],
          "scattermapbox": [
           {
            "marker": {
             "colorbar": {
              "outlinewidth": 0,
              "ticks": ""
             }
            },
            "type": "scattermapbox"
           }
          ],
          "scatterpolar": [
           {
            "marker": {
             "colorbar": {
              "outlinewidth": 0,
              "ticks": ""
             }
            },
            "type": "scatterpolar"
           }
          ],
          "scatterpolargl": [
           {
            "marker": {
             "colorbar": {
              "outlinewidth": 0,
              "ticks": ""
             }
            },
            "type": "scatterpolargl"
           }
          ],
          "scatterternary": [
           {
            "marker": {
             "colorbar": {
              "outlinewidth": 0,
              "ticks": ""
             }
            },
            "type": "scatterternary"
           }
          ],
          "surface": [
           {
            "colorbar": {
             "outlinewidth": 0,
             "ticks": ""
            },
            "colorscale": [
             [
              0,
              "#0d0887"
             ],
             [
              0.1111111111111111,
              "#46039f"
             ],
             [
              0.2222222222222222,
              "#7201a8"
             ],
             [
              0.3333333333333333,
              "#9c179e"
             ],
             [
              0.4444444444444444,
              "#bd3786"
             ],
             [
              0.5555555555555556,
              "#d8576b"
             ],
             [
              0.6666666666666666,
              "#ed7953"
             ],
             [
              0.7777777777777778,
              "#fb9f3a"
             ],
             [
              0.8888888888888888,
              "#fdca26"
             ],
             [
              1,
              "#f0f921"
             ]
            ],
            "type": "surface"
           }
          ],
          "table": [
           {
            "cells": {
             "fill": {
              "color": "#EBF0F8"
             },
             "line": {
              "color": "white"
             }
            },
            "header": {
             "fill": {
              "color": "#C8D4E3"
             },
             "line": {
              "color": "white"
             }
            },
            "type": "table"
           }
          ]
         },
         "layout": {
          "annotationdefaults": {
           "arrowcolor": "#2a3f5f",
           "arrowhead": 0,
           "arrowwidth": 1
          },
          "autotypenumbers": "strict",
          "coloraxis": {
           "colorbar": {
            "outlinewidth": 0,
            "ticks": ""
           }
          },
          "colorscale": {
           "diverging": [
            [
             0,
             "#8e0152"
            ],
            [
             0.1,
             "#c51b7d"
            ],
            [
             0.2,
             "#de77ae"
            ],
            [
             0.3,
             "#f1b6da"
            ],
            [
             0.4,
             "#fde0ef"
            ],
            [
             0.5,
             "#f7f7f7"
            ],
            [
             0.6,
             "#e6f5d0"
            ],
            [
             0.7,
             "#b8e186"
            ],
            [
             0.8,
             "#7fbc41"
            ],
            [
             0.9,
             "#4d9221"
            ],
            [
             1,
             "#276419"
            ]
           ],
           "sequential": [
            [
             0,
             "#0d0887"
            ],
            [
             0.1111111111111111,
             "#46039f"
            ],
            [
             0.2222222222222222,
             "#7201a8"
            ],
            [
             0.3333333333333333,
             "#9c179e"
            ],
            [
             0.4444444444444444,
             "#bd3786"
            ],
            [
             0.5555555555555556,
             "#d8576b"
            ],
            [
             0.6666666666666666,
             "#ed7953"
            ],
            [
             0.7777777777777778,
             "#fb9f3a"
            ],
            [
             0.8888888888888888,
             "#fdca26"
            ],
            [
             1,
             "#f0f921"
            ]
           ],
           "sequentialminus": [
            [
             0,
             "#0d0887"
            ],
            [
             0.1111111111111111,
             "#46039f"
            ],
            [
             0.2222222222222222,
             "#7201a8"
            ],
            [
             0.3333333333333333,
             "#9c179e"
            ],
            [
             0.4444444444444444,
             "#bd3786"
            ],
            [
             0.5555555555555556,
             "#d8576b"
            ],
            [
             0.6666666666666666,
             "#ed7953"
            ],
            [
             0.7777777777777778,
             "#fb9f3a"
            ],
            [
             0.8888888888888888,
             "#fdca26"
            ],
            [
             1,
             "#f0f921"
            ]
           ]
          },
          "colorway": [
           "#636efa",
           "#EF553B",
           "#00cc96",
           "#ab63fa",
           "#FFA15A",
           "#19d3f3",
           "#FF6692",
           "#B6E880",
           "#FF97FF",
           "#FECB52"
          ],
          "font": {
           "color": "#2a3f5f"
          },
          "geo": {
           "bgcolor": "white",
           "lakecolor": "white",
           "landcolor": "#E5ECF6",
           "showlakes": true,
           "showland": true,
           "subunitcolor": "white"
          },
          "hoverlabel": {
           "align": "left"
          },
          "hovermode": "closest",
          "mapbox": {
           "style": "light"
          },
          "paper_bgcolor": "white",
          "plot_bgcolor": "#E5ECF6",
          "polar": {
           "angularaxis": {
            "gridcolor": "white",
            "linecolor": "white",
            "ticks": ""
           },
           "bgcolor": "#E5ECF6",
           "radialaxis": {
            "gridcolor": "white",
            "linecolor": "white",
            "ticks": ""
           }
          },
          "scene": {
           "xaxis": {
            "backgroundcolor": "#E5ECF6",
            "gridcolor": "white",
            "gridwidth": 2,
            "linecolor": "white",
            "showbackground": true,
            "ticks": "",
            "zerolinecolor": "white"
           },
           "yaxis": {
            "backgroundcolor": "#E5ECF6",
            "gridcolor": "white",
            "gridwidth": 2,
            "linecolor": "white",
            "showbackground": true,
            "ticks": "",
            "zerolinecolor": "white"
           },
           "zaxis": {
            "backgroundcolor": "#E5ECF6",
            "gridcolor": "white",
            "gridwidth": 2,
            "linecolor": "white",
            "showbackground": true,
            "ticks": "",
            "zerolinecolor": "white"
           }
          },
          "shapedefaults": {
           "line": {
            "color": "#2a3f5f"
           }
          },
          "ternary": {
           "aaxis": {
            "gridcolor": "white",
            "linecolor": "white",
            "ticks": ""
           },
           "baxis": {
            "gridcolor": "white",
            "linecolor": "white",
            "ticks": ""
           },
           "bgcolor": "#E5ECF6",
           "caxis": {
            "gridcolor": "white",
            "linecolor": "white",
            "ticks": ""
           }
          },
          "title": {
           "x": 0.05
          },
          "xaxis": {
           "automargin": true,
           "gridcolor": "white",
           "linecolor": "white",
           "ticks": "",
           "title": {
            "standoff": 15
           },
           "zerolinecolor": "white",
           "zerolinewidth": 2
          },
          "yaxis": {
           "automargin": true,
           "gridcolor": "white",
           "linecolor": "white",
           "ticks": "",
           "title": {
            "standoff": 15
           },
           "zerolinecolor": "white",
           "zerolinewidth": 2
          }
         }
        },
        "title": {
         "text": "Comparison of Crash Party Types: Valencia Street vs All Streets"
        }
       }
      }
     },
     "metadata": {},
     "output_type": "display_data"
    },
    {
     "data": {
      "application/vnd.plotly.v1+json": {
       "config": {
        "plotlyServerURL": "https://plot.ly"
       },
       "data": [
        {
         "line": {
          "color": "blue"
         },
         "mode": "lines+markers",
         "name": "Valencia Street",
         "type": "scatter",
         "x": {
          "bdata": "AAAAAAEAAAACAAAABQAAAAYAAAAHAAAACAAAAAkAAAAKAAAACwAAAAwAAAANAAAADgAAAA8AAAAQAAAAEQAAABIAAAATAAAAFAAAABUAAAAWAAAAFwAAAA==",
          "dtype": "i4"
         },
         "y": {
          "bdata": "BwYGAQIGEw0LDw8RDw8gJTEaGgsMDA==",
          "dtype": "i1"
         }
        },
        {
         "line": {
          "color": "red"
         },
         "mode": "lines+markers",
         "name": "All Streets",
         "type": "scatter",
         "x": {
          "bdata": "AAAAAAEAAAACAAAAAwAAAAQAAAAFAAAABgAAAAcAAAAIAAAACQAAAAoAAAALAAAADAAAAA0AAAAOAAAADwAAABAAAAARAAAAEgAAABMAAAAUAAAAFQAAABYAAAAXAAAA",
          "dtype": "i4"
         },
         "y": {
          "bdata": "owB9AF8AIAAdADUAngCcAfkCrwLfAeEB9gFTAnwCZQI9A9IDegNBApwBZwEtAfMA",
          "dtype": "i2"
         },
         "yaxis": "y2"
        }
       ],
       "layout": {
        "legend": {
         "title": {
          "text": "Crash Location"
         },
         "x": 0.01,
         "y": 0.99
        },
        "template": {
         "data": {
          "bar": [
           {
            "error_x": {
             "color": "#2a3f5f"
            },
            "error_y": {
             "color": "#2a3f5f"
            },
            "marker": {
             "line": {
              "color": "#E5ECF6",
              "width": 0.5
             },
             "pattern": {
              "fillmode": "overlay",
              "size": 10,
              "solidity": 0.2
             }
            },
            "type": "bar"
           }
          ],
          "barpolar": [
           {
            "marker": {
             "line": {
              "color": "#E5ECF6",
              "width": 0.5
             },
             "pattern": {
              "fillmode": "overlay",
              "size": 10,
              "solidity": 0.2
             }
            },
            "type": "barpolar"
           }
          ],
          "carpet": [
           {
            "aaxis": {
             "endlinecolor": "#2a3f5f",
             "gridcolor": "white",
             "linecolor": "white",
             "minorgridcolor": "white",
             "startlinecolor": "#2a3f5f"
            },
            "baxis": {
             "endlinecolor": "#2a3f5f",
             "gridcolor": "white",
             "linecolor": "white",
             "minorgridcolor": "white",
             "startlinecolor": "#2a3f5f"
            },
            "type": "carpet"
           }
          ],
          "choropleth": [
           {
            "colorbar": {
             "outlinewidth": 0,
             "ticks": ""
            },
            "type": "choropleth"
           }
          ],
          "contour": [
           {
            "colorbar": {
             "outlinewidth": 0,
             "ticks": ""
            },
            "colorscale": [
             [
              0,
              "#0d0887"
             ],
             [
              0.1111111111111111,
              "#46039f"
             ],
             [
              0.2222222222222222,
              "#7201a8"
             ],
             [
              0.3333333333333333,
              "#9c179e"
             ],
             [
              0.4444444444444444,
              "#bd3786"
             ],
             [
              0.5555555555555556,
              "#d8576b"
             ],
             [
              0.6666666666666666,
              "#ed7953"
             ],
             [
              0.7777777777777778,
              "#fb9f3a"
             ],
             [
              0.8888888888888888,
              "#fdca26"
             ],
             [
              1,
              "#f0f921"
             ]
            ],
            "type": "contour"
           }
          ],
          "contourcarpet": [
           {
            "colorbar": {
             "outlinewidth": 0,
             "ticks": ""
            },
            "type": "contourcarpet"
           }
          ],
          "heatmap": [
           {
            "colorbar": {
             "outlinewidth": 0,
             "ticks": ""
            },
            "colorscale": [
             [
              0,
              "#0d0887"
             ],
             [
              0.1111111111111111,
              "#46039f"
             ],
             [
              0.2222222222222222,
              "#7201a8"
             ],
             [
              0.3333333333333333,
              "#9c179e"
             ],
             [
              0.4444444444444444,
              "#bd3786"
             ],
             [
              0.5555555555555556,
              "#d8576b"
             ],
             [
              0.6666666666666666,
              "#ed7953"
             ],
             [
              0.7777777777777778,
              "#fb9f3a"
             ],
             [
              0.8888888888888888,
              "#fdca26"
             ],
             [
              1,
              "#f0f921"
             ]
            ],
            "type": "heatmap"
           }
          ],
          "histogram": [
           {
            "marker": {
             "pattern": {
              "fillmode": "overlay",
              "size": 10,
              "solidity": 0.2
             }
            },
            "type": "histogram"
           }
          ],
          "histogram2d": [
           {
            "colorbar": {
             "outlinewidth": 0,
             "ticks": ""
            },
            "colorscale": [
             [
              0,
              "#0d0887"
             ],
             [
              0.1111111111111111,
              "#46039f"
             ],
             [
              0.2222222222222222,
              "#7201a8"
             ],
             [
              0.3333333333333333,
              "#9c179e"
             ],
             [
              0.4444444444444444,
              "#bd3786"
             ],
             [
              0.5555555555555556,
              "#d8576b"
             ],
             [
              0.6666666666666666,
              "#ed7953"
             ],
             [
              0.7777777777777778,
              "#fb9f3a"
             ],
             [
              0.8888888888888888,
              "#fdca26"
             ],
             [
              1,
              "#f0f921"
             ]
            ],
            "type": "histogram2d"
           }
          ],
          "histogram2dcontour": [
           {
            "colorbar": {
             "outlinewidth": 0,
             "ticks": ""
            },
            "colorscale": [
             [
              0,
              "#0d0887"
             ],
             [
              0.1111111111111111,
              "#46039f"
             ],
             [
              0.2222222222222222,
              "#7201a8"
             ],
             [
              0.3333333333333333,
              "#9c179e"
             ],
             [
              0.4444444444444444,
              "#bd3786"
             ],
             [
              0.5555555555555556,
              "#d8576b"
             ],
             [
              0.6666666666666666,
              "#ed7953"
             ],
             [
              0.7777777777777778,
              "#fb9f3a"
             ],
             [
              0.8888888888888888,
              "#fdca26"
             ],
             [
              1,
              "#f0f921"
             ]
            ],
            "type": "histogram2dcontour"
           }
          ],
          "mesh3d": [
           {
            "colorbar": {
             "outlinewidth": 0,
             "ticks": ""
            },
            "type": "mesh3d"
           }
          ],
          "parcoords": [
           {
            "line": {
             "colorbar": {
              "outlinewidth": 0,
              "ticks": ""
             }
            },
            "type": "parcoords"
           }
          ],
          "pie": [
           {
            "automargin": true,
            "type": "pie"
           }
          ],
          "scatter": [
           {
            "fillpattern": {
             "fillmode": "overlay",
             "size": 10,
             "solidity": 0.2
            },
            "type": "scatter"
           }
          ],
          "scatter3d": [
           {
            "line": {
             "colorbar": {
              "outlinewidth": 0,
              "ticks": ""
             }
            },
            "marker": {
             "colorbar": {
              "outlinewidth": 0,
              "ticks": ""
             }
            },
            "type": "scatter3d"
           }
          ],
          "scattercarpet": [
           {
            "marker": {
             "colorbar": {
              "outlinewidth": 0,
              "ticks": ""
             }
            },
            "type": "scattercarpet"
           }
          ],
          "scattergeo": [
           {
            "marker": {
             "colorbar": {
              "outlinewidth": 0,
              "ticks": ""
             }
            },
            "type": "scattergeo"
           }
          ],
          "scattergl": [
           {
            "marker": {
             "colorbar": {
              "outlinewidth": 0,
              "ticks": ""
             }
            },
            "type": "scattergl"
           }
          ],
          "scattermap": [
           {
            "marker": {
             "colorbar": {
              "outlinewidth": 0,
              "ticks": ""
             }
            },
            "type": "scattermap"
           }
          ],
          "scattermapbox": [
           {
            "marker": {
             "colorbar": {
              "outlinewidth": 0,
              "ticks": ""
             }
            },
            "type": "scattermapbox"
           }
          ],
          "scatterpolar": [
           {
            "marker": {
             "colorbar": {
              "outlinewidth": 0,
              "ticks": ""
             }
            },
            "type": "scatterpolar"
           }
          ],
          "scatterpolargl": [
           {
            "marker": {
             "colorbar": {
              "outlinewidth": 0,
              "ticks": ""
             }
            },
            "type": "scatterpolargl"
           }
          ],
          "scatterternary": [
           {
            "marker": {
             "colorbar": {
              "outlinewidth": 0,
              "ticks": ""
             }
            },
            "type": "scatterternary"
           }
          ],
          "surface": [
           {
            "colorbar": {
             "outlinewidth": 0,
             "ticks": ""
            },
            "colorscale": [
             [
              0,
              "#0d0887"
             ],
             [
              0.1111111111111111,
              "#46039f"
             ],
             [
              0.2222222222222222,
              "#7201a8"
             ],
             [
              0.3333333333333333,
              "#9c179e"
             ],
             [
              0.4444444444444444,
              "#bd3786"
             ],
             [
              0.5555555555555556,
              "#d8576b"
             ],
             [
              0.6666666666666666,
              "#ed7953"
             ],
             [
              0.7777777777777778,
              "#fb9f3a"
             ],
             [
              0.8888888888888888,
              "#fdca26"
             ],
             [
              1,
              "#f0f921"
             ]
            ],
            "type": "surface"
           }
          ],
          "table": [
           {
            "cells": {
             "fill": {
              "color": "#EBF0F8"
             },
             "line": {
              "color": "white"
             }
            },
            "header": {
             "fill": {
              "color": "#C8D4E3"
             },
             "line": {
              "color": "white"
             }
            },
            "type": "table"
           }
          ]
         },
         "layout": {
          "annotationdefaults": {
           "arrowcolor": "#2a3f5f",
           "arrowhead": 0,
           "arrowwidth": 1
          },
          "autotypenumbers": "strict",
          "coloraxis": {
           "colorbar": {
            "outlinewidth": 0,
            "ticks": ""
           }
          },
          "colorscale": {
           "diverging": [
            [
             0,
             "#8e0152"
            ],
            [
             0.1,
             "#c51b7d"
            ],
            [
             0.2,
             "#de77ae"
            ],
            [
             0.3,
             "#f1b6da"
            ],
            [
             0.4,
             "#fde0ef"
            ],
            [
             0.5,
             "#f7f7f7"
            ],
            [
             0.6,
             "#e6f5d0"
            ],
            [
             0.7,
             "#b8e186"
            ],
            [
             0.8,
             "#7fbc41"
            ],
            [
             0.9,
             "#4d9221"
            ],
            [
             1,
             "#276419"
            ]
           ],
           "sequential": [
            [
             0,
             "#0d0887"
            ],
            [
             0.1111111111111111,
             "#46039f"
            ],
            [
             0.2222222222222222,
             "#7201a8"
            ],
            [
             0.3333333333333333,
             "#9c179e"
            ],
            [
             0.4444444444444444,
             "#bd3786"
            ],
            [
             0.5555555555555556,
             "#d8576b"
            ],
            [
             0.6666666666666666,
             "#ed7953"
            ],
            [
             0.7777777777777778,
             "#fb9f3a"
            ],
            [
             0.8888888888888888,
             "#fdca26"
            ],
            [
             1,
             "#f0f921"
            ]
           ],
           "sequentialminus": [
            [
             0,
             "#0d0887"
            ],
            [
             0.1111111111111111,
             "#46039f"
            ],
            [
             0.2222222222222222,
             "#7201a8"
            ],
            [
             0.3333333333333333,
             "#9c179e"
            ],
            [
             0.4444444444444444,
             "#bd3786"
            ],
            [
             0.5555555555555556,
             "#d8576b"
            ],
            [
             0.6666666666666666,
             "#ed7953"
            ],
            [
             0.7777777777777778,
             "#fb9f3a"
            ],
            [
             0.8888888888888888,
             "#fdca26"
            ],
            [
             1,
             "#f0f921"
            ]
           ]
          },
          "colorway": [
           "#636efa",
           "#EF553B",
           "#00cc96",
           "#ab63fa",
           "#FFA15A",
           "#19d3f3",
           "#FF6692",
           "#B6E880",
           "#FF97FF",
           "#FECB52"
          ],
          "font": {
           "color": "#2a3f5f"
          },
          "geo": {
           "bgcolor": "white",
           "lakecolor": "white",
           "landcolor": "#E5ECF6",
           "showlakes": true,
           "showland": true,
           "subunitcolor": "white"
          },
          "hoverlabel": {
           "align": "left"
          },
          "hovermode": "closest",
          "mapbox": {
           "style": "light"
          },
          "paper_bgcolor": "white",
          "plot_bgcolor": "#E5ECF6",
          "polar": {
           "angularaxis": {
            "gridcolor": "white",
            "linecolor": "white",
            "ticks": ""
           },
           "bgcolor": "#E5ECF6",
           "radialaxis": {
            "gridcolor": "white",
            "linecolor": "white",
            "ticks": ""
           }
          },
          "scene": {
           "xaxis": {
            "backgroundcolor": "#E5ECF6",
            "gridcolor": "white",
            "gridwidth": 2,
            "linecolor": "white",
            "showbackground": true,
            "ticks": "",
            "zerolinecolor": "white"
           },
           "yaxis": {
            "backgroundcolor": "#E5ECF6",
            "gridcolor": "white",
            "gridwidth": 2,
            "linecolor": "white",
            "showbackground": true,
            "ticks": "",
            "zerolinecolor": "white"
           },
           "zaxis": {
            "backgroundcolor": "#E5ECF6",
            "gridcolor": "white",
            "gridwidth": 2,
            "linecolor": "white",
            "showbackground": true,
            "ticks": "",
            "zerolinecolor": "white"
           }
          },
          "shapedefaults": {
           "line": {
            "color": "#2a3f5f"
           }
          },
          "ternary": {
           "aaxis": {
            "gridcolor": "white",
            "linecolor": "white",
            "ticks": ""
           },
           "baxis": {
            "gridcolor": "white",
            "linecolor": "white",
            "ticks": ""
           },
           "bgcolor": "#E5ECF6",
           "caxis": {
            "gridcolor": "white",
            "linecolor": "white",
            "ticks": ""
           }
          },
          "title": {
           "x": 0.05
          },
          "xaxis": {
           "automargin": true,
           "gridcolor": "white",
           "linecolor": "white",
           "ticks": "",
           "title": {
            "standoff": 15
           },
           "zerolinecolor": "white",
           "zerolinewidth": 2
          },
          "yaxis": {
           "automargin": true,
           "gridcolor": "white",
           "linecolor": "white",
           "ticks": "",
           "title": {
            "standoff": 15
           },
           "zerolinecolor": "white",
           "zerolinewidth": 2
          }
         }
        },
        "title": {
         "text": "Time of Bike Crashes: Valencia Street vs All Streets"
        },
        "xaxis": {
         "title": {
          "text": "Hour of Day"
         }
        },
        "yaxis": {
         "nticks": 10,
         "range": [
          0,
          50
         ],
         "showgrid": true,
         "title": {
          "text": "Valencia Street Crash Count"
         }
        },
        "yaxis2": {
         "nticks": 10,
         "overlaying": "y",
         "range": [
          0,
          1000
         ],
         "showgrid": false,
         "side": "right",
         "title": {
          "text": "All Streets Crash Count"
         }
        }
       }
      }
     },
     "metadata": {},
     "output_type": "display_data"
    },
    {
     "name": "stdout",
     "output_type": "stream",
     "text": [
      "Valencia Morning Peak vs Evening Peak: 30.61%\n",
      "All bike crashes Morning Peak vs Evening Peak: 77.81%\n"
     ]
    }
   ],
   "source": [
    "\n",
    "# Filter Valencia bike crashes\n",
    "valencia_bike_crashes = crash_data[ii_valencia & ii_bike_crashes].copy()\n",
    "\n",
    "# Metrics for Valencia bike crashes\n",
    "valencia_crash_types = valencia_bike_crashes['type_of_collision'].value_counts()\n",
    "valencia_crash_severity = valencia_bike_crashes['collision_severity'].value_counts()\n",
    "valencia_crash_times = valencia_bike_crashes['collision_datetime'].dt.hour.value_counts().sort_index()\n",
    "\n",
    "# Metrics for all bike crashes\n",
    "all_bike_crash_types = crash_data[ii_bike_crashes]['type_of_collision'].value_counts()\n",
    "all_bike_crash_severity = crash_data[ii_bike_crashes]['collision_severity'].value_counts()\n",
    "all_bike_crash_times = crash_data[ii_bike_crashes]['collision_datetime'].dt.hour.value_counts().sort_index()\n",
    "\n",
    "# Create subplots for crash types\n",
    "fig_types_pie = make_subplots(rows=1, cols=2, specs=[[{'type': 'domain'}, {'type': 'domain'}]],\n",
    "                              subplot_titles=[\"Types of Bike Crashes<br>on Valencia Street\", \"Types of Bike Crashes<br>(All Streets)\"])\n",
    "\n",
    "# Valencia Street pie chart\n",
    "fig_types_pie.add_trace(\n",
    "    go.Pie(labels=valencia_crash_types.index, values=valencia_crash_types.values, name=\"Valencia Street\"),\n",
    "    row=1, col=1\n",
    ")\n",
    "\n",
    "# All Streets pie chart\n",
    "fig_types_pie.add_trace(\n",
    "    go.Pie(labels=all_bike_crash_types.index, values=all_bike_crash_types.values, name=\"All Streets\"),\n",
    "    row=1, col=2\n",
    ")\n",
    "\n",
    "# Update layout\n",
    "fig_types_pie.update_layout(title_text=\"Comparison of Crash Types: Valencia Street vs All Streets\")\n",
    "fig_types_pie.show()\n",
    "\n",
    "\n",
    "# Add car action analysis\n",
    "# Create subplots for car action comparison\n",
    "fig_car_action = make_subplots(rows=1, cols=2, specs=[[{'type': 'domain'}, {'type': 'domain'}]],\n",
    "                               subplot_titles=[\"Top 5 Car Actions<br>Valencia Street\", \"Top 5 Car Actions<br>(All Streets)\"])\n",
    "\n",
    "# Get car actions for Valencia Street (top 5)\n",
    "valencia_car_action = valencia_bike_crashes.groupby(['car_action']).size()\n",
    "valencia_car_action = valencia_car_action.dropna()\n",
    "valencia_car_action_sorted = valencia_car_action.sort_values(ascending=False)\n",
    "top_5_valencia_actions = valencia_car_action_sorted.head(5)\n",
    "\n",
    "# Get car actions for All Streets (top 5)\n",
    "all_bike_crashes = crash_data[ii_bike_crashes]\n",
    "all_car_action = all_bike_crashes.groupby(['car_action']).size()\n",
    "all_car_action = all_car_action.dropna()\n",
    "all_car_action_sorted = all_car_action.sort_values(ascending=False)\n",
    "top_5_all_actions = all_car_action_sorted.head(5)\n",
    "\n",
    "# Valencia Street car actions pie chart\n",
    "fig_car_action.add_trace(\n",
    "    go.Pie(\n",
    "        labels=top_5_valencia_actions.index,\n",
    "        values=top_5_valencia_actions.values,\n",
    "        name=\"Valencia Street\"\n",
    "    ),\n",
    "    row=1, col=1\n",
    ")\n",
    "\n",
    "# All Streets car actions pie chart\n",
    "fig_car_action.add_trace(\n",
    "    go.Pie(\n",
    "        labels=top_5_all_actions.index,\n",
    "        values=top_5_all_actions.values,\n",
    "        name=\"All Streets\"\n",
    "    ),\n",
    "    row=1, col=2\n",
    ")\n",
    "\n",
    "# Update layout\n",
    "fig_car_action.update_layout(title_text=\"Comparison of Top 5 Car Actions: Valencia Street vs All Streets\")\n",
    "fig_car_action.show()\n",
    "\n",
    "# Create subplots for crash severity\n",
    "fig_severity_pie = make_subplots(rows=1, cols=2, specs=[[{'type': 'domain'}, {'type': 'domain'}]],\n",
    "                                 subplot_titles=[\"Severity of Bike Crashes<br>on Valencia Street\", \"Severity of Bike Crashes<br>(All Streets)\"])\n",
    "\n",
    "# Valencia Street pie chart\n",
    "fig_severity_pie.add_trace(\n",
    "    go.Pie(labels=valencia_crash_severity.index, values=valencia_crash_severity.values, name=\"Valencia Street\"),\n",
    "    row=1, col=1\n",
    ")\n",
    "\n",
    "# All Streets pie chart\n",
    "fig_severity_pie.add_trace(\n",
    "    go.Pie(labels=all_bike_crash_severity.index, values=all_bike_crash_severity.values, name=\"All Streets\"),\n",
    "    row=1, col=2\n",
    ")\n",
    "\n",
    "# Update layout\n",
    "fig_severity_pie.update_layout(title_text=\"Comparison of Crash Severity: Valencia Street vs All Streets\")\n",
    "fig_severity_pie.show()\n",
    "\n",
    "# Create a figure for time of crashes\n",
    "fig_times_combined = go.Figure()\n",
    "\n",
    "# Add Valencia Street data\n",
    "fig_times_combined.add_trace(\n",
    "    go.Scatter(\n",
    "        x=valencia_crash_times.index,\n",
    "        y=valencia_crash_times.values,\n",
    "        mode='lines+markers',\n",
    "        name='Valencia Street',\n",
    "        line=dict(color='blue')\n",
    "    )\n",
    ")\n",
    "\n",
    "# Add All Streets data\n",
    "fig_times_combined.add_trace(\n",
    "    go.Scatter(\n",
    "        x=all_bike_crash_times.index,\n",
    "        y=all_bike_crash_times.values,\n",
    "        mode='lines+markers',\n",
    "        name='All Streets',\n",
    "        line=dict(color='red'),\n",
    "        yaxis='y2'  # Assign to secondary y-axis\n",
    "    )\n",
    ")\n",
    "\n",
    "# look at crash party type\n",
    "# Create subplots for crash party type comparison\n",
    "fig_party_pie = make_subplots(rows=1, cols=2, specs=[[{'type': 'domain'}, {'type': 'domain'}]],\n",
    "                              subplot_titles=[\"Crash Party Types<br>on Valencia Street\", \"Crash Party Types<br>(All Streets)\"])\n",
    "\n",
    "# Get crash party types for Valencia and All Streets\n",
    "valencia_party_types = valencia_bike_crashes['crash_party_type'].value_counts()\n",
    "all_party_types = crash_data[ii_bike_crashes]['crash_party_type'].value_counts()\n",
    "\n",
    "# Format labels by replacing underscores with spaces and capitalizing\n",
    "valencia_party_labels = [label.replace('_', ' ').title() for label in valencia_party_types.index]\n",
    "all_party_labels = [label.replace('_', ' ').title() for label in all_party_types.index]\n",
    "\n",
    "# Valencia Street pie chart\n",
    "fig_party_pie.add_trace(\n",
    "    go.Pie(labels=valencia_party_labels, values=valencia_party_types.values, name=\"Valencia Street\"),\n",
    "    row=1, col=1\n",
    ")\n",
    "\n",
    "# All Streets pie chart\n",
    "fig_party_pie.add_trace(\n",
    "    go.Pie(labels=all_party_labels, values=all_party_types.values, name=\"All Streets\"),\n",
    "    row=1, col=2\n",
    ")\n",
    "\n",
    "# Update layout\n",
    "fig_party_pie.update_layout(title_text=\"Comparison of Crash Party Types: Valencia Street vs All Streets\")\n",
    "fig_party_pie.show()\n",
    "\n",
    "# Update layout for dual y-axes and move the legend\n",
    "fig_times_combined.update_layout(\n",
    "    title=\"Time of Bike Crashes: Valencia Street vs All Streets\",\n",
    "    xaxis_title=\"Hour of Day\",\n",
    "    yaxis=dict(\n",
    "        title=\"Valencia Street Crash Count\",\n",
    "        showgrid=True, # Enable grid lines for the left y-axis\n",
    "        range=(0, 50),\n",
    "        nticks=10,  # Set number of ticks for the left y-axis\n",
    "    ),\n",
    "    yaxis2=dict(\n",
    "        title=\"All Streets Crash Count\",\n",
    "        overlaying='y',  # Overlay the right y-axis on the left y-axis\n",
    "        side='right',\n",
    "        showgrid=False,  # Enable grid lines for the right y-axis\n",
    "        range=(0, 1000),\n",
    "        nticks=10  # Set number of ticks for the right y-axis\n",
    "    ),\n",
    "    legend=dict(\n",
    "        title=\"Crash Location\",\n",
    "        x=0.01,  # Move legend to the top left\n",
    "        y=0.99   # Move legend vertically near the top\n",
    "    )\n",
    ")\n",
    "\n",
    "# Show the plot\n",
    "fig_times_combined.show()\n",
    "\n",
    "# show percentage of morning peak crashes vs evening peak crashes\n",
    "\n",
    "print(f\"Valencia Morning Peak vs Evening Peak: {valencia_crash_times[7:10].max() / valencia_crash_times[16:19].max() * 100:.2f}%\")\n",
    "print(f\"All bike crashes Morning Peak vs Evening Peak: {all_bike_crash_times[7:10].max() / all_bike_crash_times[16:19].max() * 100:.2f}%\")\n",
    "# grab the center lane crash where the car was parked"
   ]
  },
  {
   "cell_type": "markdown",
   "id": "617a461a",
   "metadata": {},
   "source": [
    "### Spatial and Temporal Distribution of Valencia Bike Crashes\n",
    "\n",
    "Analyzing the spatial and temporal distribution of bicycle crashes on Valencia Street helps place individual months and locations in the context of broader patterns. This perspective is useful for identifying trends as well as flagging potential outliers or anomalies.\n",
    "\n",
    "Over the sampled time period, the average number of crashes per month on Valencia Street was **1.44**, with a variance of **1.14**. The maximum number of crashes observed in a single month was **six**, which occurred only twice—an event with an estimated probability of just **0.82%**, suggesting these were statistically rare occurrences.\n",
    "\n",
    "Crash locations along Valencia Street were not evenly distributed. The blocks near **16th, 17th, and 18th Streets** recorded the highest individual crash counts. Within this central segment of the corridor, crash locations were relatively balanced between **intersections and midblock segments**. However, certain areas stand out as having distinct patterns. For example, **Brosnan Street** stands out: **92%** of crashes there occurred within **20 feet** of the intersection, indicating a localized risk pattern.\n"
   ]
  },
  {
   "cell_type": "code",
   "execution_count": 15,
   "id": "e08c7a2a",
   "metadata": {},
   "outputs": [
    {
     "data": {
      "application/vnd.plotly.v1+json": {
       "config": {
        "plotlyServerURL": "https://plot.ly"
       },
       "data": [
        {
         "marker": {
          "color": "#FF5733"
         },
         "name": "Intersection <= 20ft",
         "type": "bar",
         "x": [
          "16TH ST",
          "18TH ST",
          "17TH ST",
          "DUBOCE AVE",
          "19TH ST",
          "14TH ST",
          "15TH ST",
          "20TH ST",
          "23RD ST",
          "BROSNAN ST",
          "SYCAMORE ST",
          "22ND ST",
          "MCCOPPIN ST",
          "CESAR CHAVEZ ST",
          "24TH ST"
         ],
         "y": {
          "bdata": "EBIPEQgPCQ0EDAYGBQYF",
          "dtype": "i1"
         }
        },
        {
         "marker": {
          "color": "#FF8C42"
         },
         "name": "Intersection Rear End <= 150ft",
         "type": "bar",
         "x": [
          "16TH ST",
          "18TH ST",
          "17TH ST",
          "DUBOCE AVE",
          "19TH ST",
          "14TH ST",
          "15TH ST",
          "20TH ST",
          "23RD ST",
          "BROSNAN ST",
          "SYCAMORE ST",
          "22ND ST",
          "MCCOPPIN ST",
          "CESAR CHAVEZ ST",
          "24TH ST"
         ],
         "y": {
          "bdata": "AgMBAQEAAAAAAAABAAAB",
          "dtype": "i1"
         }
        },
        {
         "marker": {
          "color": "#FFB347"
         },
         "name": "Midblock > 20ft",
         "type": "bar",
         "x": [
          "16TH ST",
          "18TH ST",
          "17TH ST",
          "DUBOCE AVE",
          "19TH ST",
          "14TH ST",
          "15TH ST",
          "20TH ST",
          "23RD ST",
          "BROSNAN ST",
          "SYCAMORE ST",
          "22ND ST",
          "MCCOPPIN ST",
          "CESAR CHAVEZ ST",
          "24TH ST"
         ],
         "y": {
          "bdata": "FBAPBg4GDAcKAQYFBgQE",
          "dtype": "i1"
         }
        }
       ],
       "layout": {
        "barmode": "stack",
        "legend": {
         "title": {
          "text": "Crash Location Type"
         }
        },
        "template": {
         "data": {
          "bar": [
           {
            "error_x": {
             "color": "#2a3f5f"
            },
            "error_y": {
             "color": "#2a3f5f"
            },
            "marker": {
             "line": {
              "color": "#E5ECF6",
              "width": 0.5
             },
             "pattern": {
              "fillmode": "overlay",
              "size": 10,
              "solidity": 0.2
             }
            },
            "type": "bar"
           }
          ],
          "barpolar": [
           {
            "marker": {
             "line": {
              "color": "#E5ECF6",
              "width": 0.5
             },
             "pattern": {
              "fillmode": "overlay",
              "size": 10,
              "solidity": 0.2
             }
            },
            "type": "barpolar"
           }
          ],
          "carpet": [
           {
            "aaxis": {
             "endlinecolor": "#2a3f5f",
             "gridcolor": "white",
             "linecolor": "white",
             "minorgridcolor": "white",
             "startlinecolor": "#2a3f5f"
            },
            "baxis": {
             "endlinecolor": "#2a3f5f",
             "gridcolor": "white",
             "linecolor": "white",
             "minorgridcolor": "white",
             "startlinecolor": "#2a3f5f"
            },
            "type": "carpet"
           }
          ],
          "choropleth": [
           {
            "colorbar": {
             "outlinewidth": 0,
             "ticks": ""
            },
            "type": "choropleth"
           }
          ],
          "contour": [
           {
            "colorbar": {
             "outlinewidth": 0,
             "ticks": ""
            },
            "colorscale": [
             [
              0,
              "#0d0887"
             ],
             [
              0.1111111111111111,
              "#46039f"
             ],
             [
              0.2222222222222222,
              "#7201a8"
             ],
             [
              0.3333333333333333,
              "#9c179e"
             ],
             [
              0.4444444444444444,
              "#bd3786"
             ],
             [
              0.5555555555555556,
              "#d8576b"
             ],
             [
              0.6666666666666666,
              "#ed7953"
             ],
             [
              0.7777777777777778,
              "#fb9f3a"
             ],
             [
              0.8888888888888888,
              "#fdca26"
             ],
             [
              1,
              "#f0f921"
             ]
            ],
            "type": "contour"
           }
          ],
          "contourcarpet": [
           {
            "colorbar": {
             "outlinewidth": 0,
             "ticks": ""
            },
            "type": "contourcarpet"
           }
          ],
          "heatmap": [
           {
            "colorbar": {
             "outlinewidth": 0,
             "ticks": ""
            },
            "colorscale": [
             [
              0,
              "#0d0887"
             ],
             [
              0.1111111111111111,
              "#46039f"
             ],
             [
              0.2222222222222222,
              "#7201a8"
             ],
             [
              0.3333333333333333,
              "#9c179e"
             ],
             [
              0.4444444444444444,
              "#bd3786"
             ],
             [
              0.5555555555555556,
              "#d8576b"
             ],
             [
              0.6666666666666666,
              "#ed7953"
             ],
             [
              0.7777777777777778,
              "#fb9f3a"
             ],
             [
              0.8888888888888888,
              "#fdca26"
             ],
             [
              1,
              "#f0f921"
             ]
            ],
            "type": "heatmap"
           }
          ],
          "histogram": [
           {
            "marker": {
             "pattern": {
              "fillmode": "overlay",
              "size": 10,
              "solidity": 0.2
             }
            },
            "type": "histogram"
           }
          ],
          "histogram2d": [
           {
            "colorbar": {
             "outlinewidth": 0,
             "ticks": ""
            },
            "colorscale": [
             [
              0,
              "#0d0887"
             ],
             [
              0.1111111111111111,
              "#46039f"
             ],
             [
              0.2222222222222222,
              "#7201a8"
             ],
             [
              0.3333333333333333,
              "#9c179e"
             ],
             [
              0.4444444444444444,
              "#bd3786"
             ],
             [
              0.5555555555555556,
              "#d8576b"
             ],
             [
              0.6666666666666666,
              "#ed7953"
             ],
             [
              0.7777777777777778,
              "#fb9f3a"
             ],
             [
              0.8888888888888888,
              "#fdca26"
             ],
             [
              1,
              "#f0f921"
             ]
            ],
            "type": "histogram2d"
           }
          ],
          "histogram2dcontour": [
           {
            "colorbar": {
             "outlinewidth": 0,
             "ticks": ""
            },
            "colorscale": [
             [
              0,
              "#0d0887"
             ],
             [
              0.1111111111111111,
              "#46039f"
             ],
             [
              0.2222222222222222,
              "#7201a8"
             ],
             [
              0.3333333333333333,
              "#9c179e"
             ],
             [
              0.4444444444444444,
              "#bd3786"
             ],
             [
              0.5555555555555556,
              "#d8576b"
             ],
             [
              0.6666666666666666,
              "#ed7953"
             ],
             [
              0.7777777777777778,
              "#fb9f3a"
             ],
             [
              0.8888888888888888,
              "#fdca26"
             ],
             [
              1,
              "#f0f921"
             ]
            ],
            "type": "histogram2dcontour"
           }
          ],
          "mesh3d": [
           {
            "colorbar": {
             "outlinewidth": 0,
             "ticks": ""
            },
            "type": "mesh3d"
           }
          ],
          "parcoords": [
           {
            "line": {
             "colorbar": {
              "outlinewidth": 0,
              "ticks": ""
             }
            },
            "type": "parcoords"
           }
          ],
          "pie": [
           {
            "automargin": true,
            "type": "pie"
           }
          ],
          "scatter": [
           {
            "fillpattern": {
             "fillmode": "overlay",
             "size": 10,
             "solidity": 0.2
            },
            "type": "scatter"
           }
          ],
          "scatter3d": [
           {
            "line": {
             "colorbar": {
              "outlinewidth": 0,
              "ticks": ""
             }
            },
            "marker": {
             "colorbar": {
              "outlinewidth": 0,
              "ticks": ""
             }
            },
            "type": "scatter3d"
           }
          ],
          "scattercarpet": [
           {
            "marker": {
             "colorbar": {
              "outlinewidth": 0,
              "ticks": ""
             }
            },
            "type": "scattercarpet"
           }
          ],
          "scattergeo": [
           {
            "marker": {
             "colorbar": {
              "outlinewidth": 0,
              "ticks": ""
             }
            },
            "type": "scattergeo"
           }
          ],
          "scattergl": [
           {
            "marker": {
             "colorbar": {
              "outlinewidth": 0,
              "ticks": ""
             }
            },
            "type": "scattergl"
           }
          ],
          "scattermap": [
           {
            "marker": {
             "colorbar": {
              "outlinewidth": 0,
              "ticks": ""
             }
            },
            "type": "scattermap"
           }
          ],
          "scattermapbox": [
           {
            "marker": {
             "colorbar": {
              "outlinewidth": 0,
              "ticks": ""
             }
            },
            "type": "scattermapbox"
           }
          ],
          "scatterpolar": [
           {
            "marker": {
             "colorbar": {
              "outlinewidth": 0,
              "ticks": ""
             }
            },
            "type": "scatterpolar"
           }
          ],
          "scatterpolargl": [
           {
            "marker": {
             "colorbar": {
              "outlinewidth": 0,
              "ticks": ""
             }
            },
            "type": "scatterpolargl"
           }
          ],
          "scatterternary": [
           {
            "marker": {
             "colorbar": {
              "outlinewidth": 0,
              "ticks": ""
             }
            },
            "type": "scatterternary"
           }
          ],
          "surface": [
           {
            "colorbar": {
             "outlinewidth": 0,
             "ticks": ""
            },
            "colorscale": [
             [
              0,
              "#0d0887"
             ],
             [
              0.1111111111111111,
              "#46039f"
             ],
             [
              0.2222222222222222,
              "#7201a8"
             ],
             [
              0.3333333333333333,
              "#9c179e"
             ],
             [
              0.4444444444444444,
              "#bd3786"
             ],
             [
              0.5555555555555556,
              "#d8576b"
             ],
             [
              0.6666666666666666,
              "#ed7953"
             ],
             [
              0.7777777777777778,
              "#fb9f3a"
             ],
             [
              0.8888888888888888,
              "#fdca26"
             ],
             [
              1,
              "#f0f921"
             ]
            ],
            "type": "surface"
           }
          ],
          "table": [
           {
            "cells": {
             "fill": {
              "color": "#EBF0F8"
             },
             "line": {
              "color": "white"
             }
            },
            "header": {
             "fill": {
              "color": "#C8D4E3"
             },
             "line": {
              "color": "white"
             }
            },
            "type": "table"
           }
          ]
         },
         "layout": {
          "annotationdefaults": {
           "arrowcolor": "#2a3f5f",
           "arrowhead": 0,
           "arrowwidth": 1
          },
          "autotypenumbers": "strict",
          "coloraxis": {
           "colorbar": {
            "outlinewidth": 0,
            "ticks": ""
           }
          },
          "colorscale": {
           "diverging": [
            [
             0,
             "#8e0152"
            ],
            [
             0.1,
             "#c51b7d"
            ],
            [
             0.2,
             "#de77ae"
            ],
            [
             0.3,
             "#f1b6da"
            ],
            [
             0.4,
             "#fde0ef"
            ],
            [
             0.5,
             "#f7f7f7"
            ],
            [
             0.6,
             "#e6f5d0"
            ],
            [
             0.7,
             "#b8e186"
            ],
            [
             0.8,
             "#7fbc41"
            ],
            [
             0.9,
             "#4d9221"
            ],
            [
             1,
             "#276419"
            ]
           ],
           "sequential": [
            [
             0,
             "#0d0887"
            ],
            [
             0.1111111111111111,
             "#46039f"
            ],
            [
             0.2222222222222222,
             "#7201a8"
            ],
            [
             0.3333333333333333,
             "#9c179e"
            ],
            [
             0.4444444444444444,
             "#bd3786"
            ],
            [
             0.5555555555555556,
             "#d8576b"
            ],
            [
             0.6666666666666666,
             "#ed7953"
            ],
            [
             0.7777777777777778,
             "#fb9f3a"
            ],
            [
             0.8888888888888888,
             "#fdca26"
            ],
            [
             1,
             "#f0f921"
            ]
           ],
           "sequentialminus": [
            [
             0,
             "#0d0887"
            ],
            [
             0.1111111111111111,
             "#46039f"
            ],
            [
             0.2222222222222222,
             "#7201a8"
            ],
            [
             0.3333333333333333,
             "#9c179e"
            ],
            [
             0.4444444444444444,
             "#bd3786"
            ],
            [
             0.5555555555555556,
             "#d8576b"
            ],
            [
             0.6666666666666666,
             "#ed7953"
            ],
            [
             0.7777777777777778,
             "#fb9f3a"
            ],
            [
             0.8888888888888888,
             "#fdca26"
            ],
            [
             1,
             "#f0f921"
            ]
           ]
          },
          "colorway": [
           "#636efa",
           "#EF553B",
           "#00cc96",
           "#ab63fa",
           "#FFA15A",
           "#19d3f3",
           "#FF6692",
           "#B6E880",
           "#FF97FF",
           "#FECB52"
          ],
          "font": {
           "color": "#2a3f5f"
          },
          "geo": {
           "bgcolor": "white",
           "lakecolor": "white",
           "landcolor": "#E5ECF6",
           "showlakes": true,
           "showland": true,
           "subunitcolor": "white"
          },
          "hoverlabel": {
           "align": "left"
          },
          "hovermode": "closest",
          "mapbox": {
           "style": "light"
          },
          "paper_bgcolor": "white",
          "plot_bgcolor": "#E5ECF6",
          "polar": {
           "angularaxis": {
            "gridcolor": "white",
            "linecolor": "white",
            "ticks": ""
           },
           "bgcolor": "#E5ECF6",
           "radialaxis": {
            "gridcolor": "white",
            "linecolor": "white",
            "ticks": ""
           }
          },
          "scene": {
           "xaxis": {
            "backgroundcolor": "#E5ECF6",
            "gridcolor": "white",
            "gridwidth": 2,
            "linecolor": "white",
            "showbackground": true,
            "ticks": "",
            "zerolinecolor": "white"
           },
           "yaxis": {
            "backgroundcolor": "#E5ECF6",
            "gridcolor": "white",
            "gridwidth": 2,
            "linecolor": "white",
            "showbackground": true,
            "ticks": "",
            "zerolinecolor": "white"
           },
           "zaxis": {
            "backgroundcolor": "#E5ECF6",
            "gridcolor": "white",
            "gridwidth": 2,
            "linecolor": "white",
            "showbackground": true,
            "ticks": "",
            "zerolinecolor": "white"
           }
          },
          "shapedefaults": {
           "line": {
            "color": "#2a3f5f"
           }
          },
          "ternary": {
           "aaxis": {
            "gridcolor": "white",
            "linecolor": "white",
            "ticks": ""
           },
           "baxis": {
            "gridcolor": "white",
            "linecolor": "white",
            "ticks": ""
           },
           "bgcolor": "#E5ECF6",
           "caxis": {
            "gridcolor": "white",
            "linecolor": "white",
            "ticks": ""
           }
          },
          "title": {
           "x": 0.05
          },
          "xaxis": {
           "automargin": true,
           "gridcolor": "white",
           "linecolor": "white",
           "ticks": "",
           "title": {
            "standoff": 15
           },
           "zerolinecolor": "white",
           "zerolinewidth": 2
          },
          "yaxis": {
           "automargin": true,
           "gridcolor": "white",
           "linecolor": "white",
           "ticks": "",
           "title": {
            "standoff": 15
           },
           "zerolinecolor": "white",
           "zerolinewidth": 2
          }
         }
        },
        "title": {
         "text": "Valencia Street Bike Crashes by Cross Street and Location Type (Top 15)"
        },
        "xaxis": {
         "tickangle": -45,
         "title": {
          "text": "Cross Street"
         }
        },
        "yaxis": {
         "title": {
          "text": "Number of Crashes"
         }
        }
       }
      }
     },
     "metadata": {},
     "output_type": "display_data"
    },
    {
     "data": {
      "application/vnd.plotly.v1+json": {
       "config": {
        "plotlyServerURL": "https://plot.ly"
       },
       "data": [
        {
         "histnorm": "probability",
         "marker": {
          "color": "blue"
         },
         "name": "Valencia Bike Crashes",
         "nbinsx": 20,
         "opacity": 0.6,
         "type": "histogram",
         "x": {
          "bdata": "AAAAAAAAAAAAAAAAAADwPwAAAAAAAPA/AAAAAAAA8D8AAAAAAAAAAAAAAAAAAABAAAAAAAAAAAAAAAAAAAAAAAAAAAAAAPA/AAAAAAAAAEAAAAAAAAAAAAAAAAAAAAAAAAAAAAAAAEAAAAAAAAAAAAAAAAAAAABAAAAAAAAAAEAAAAAAAAAAAAAAAAAAAPA/AAAAAAAAAAAAAAAAAAAAAAAAAAAAAAAAAAAAAAAAAEAAAAAAAAAAAAAAAAAAAPA/AAAAAAAA8D8AAAAAAADwPwAAAAAAAAAAAAAAAAAAAAAAAAAAAADwPwAAAAAAAABAAAAAAAAA8D8AAAAAAADwPwAAAAAAAAhAAAAAAAAA8D8AAAAAAAAAAAAAAAAAAAAAAAAAAAAA8D8AAAAAAAAQQAAAAAAAAPA/AAAAAAAAAAAAAAAAAAAAQAAAAAAAAPA/AAAAAAAAAEAAAAAAAADwPwAAAAAAAPA/AAAAAAAAEEAAAAAAAAAAQAAAAAAAAABAAAAAAAAACEAAAAAAAAAAQAAAAAAAAPA/AAAAAAAA8D8AAAAAAAAAQAAAAAAAAABAAAAAAAAACEAAAAAAAADwPwAAAAAAAPA/AAAAAAAAAAAAAAAAAAAIQAAAAAAAAAAAAAAAAAAAAAAAAAAAAAAAQAAAAAAAAABAAAAAAAAAAEAAAAAAAAAAQAAAAAAAAPA/AAAAAAAA8D8AAAAAAAAAQAAAAAAAAAhAAAAAAAAAAAAAAAAAAAAAQAAAAAAAAAhAAAAAAAAAAEAAAAAAAAAAQAAAAAAAAABAAAAAAAAAEEAAAAAAAAAIQAAAAAAAAAhAAAAAAAAACEAAAAAAAADwPwAAAAAAAABAAAAAAAAAAAAAAAAAAAAAQAAAAAAAAAAAAAAAAAAA8D8AAAAAAAAQQAAAAAAAAABAAAAAAAAAAEAAAAAAAAAAAAAAAAAAAABAAAAAAAAA8D8AAAAAAADwPwAAAAAAAAhAAAAAAAAAAEAAAAAAAAAIQAAAAAAAAPA/AAAAAAAACEAAAAAAAAAAAAAAAAAAAPA/AAAAAAAAFEAAAAAAAAAUQAAAAAAAAABAAAAAAAAAEEAAAAAAAADwPwAAAAAAABhAAAAAAAAAAAAAAAAAAAAAAAAAAAAAAAhAAAAAAAAAAAAAAAAAAAAAAAAAAAAAAPA/AAAAAAAA8D8AAAAAAAAAQAAAAAAAAABAAAAAAAAAAEAAAAAAAADwPwAAAAAAAABAAAAAAAAAAEAAAAAAAADwPwAAAAAAAPA/AAAAAAAA8D8AAAAAAADwPwAAAAAAAPA/AAAAAAAACEAAAAAAAAAIQAAAAAAAAPA/AAAAAAAAAAAAAAAAAAAAAAAAAAAAAAAAAAAAAAAA8D8AAAAAAADwPwAAAAAAAPA/AAAAAAAAAEAAAAAAAAAAAAAAAAAAAPA/AAAAAAAAEEAAAAAAAAAIQAAAAAAAAAAAAAAAAAAAAAAAAAAAAAAIQAAAAAAAAAhAAAAAAAAA8D8AAAAAAAAAQAAAAAAAAABAAAAAAAAAFEAAAAAAAAAAAAAAAAAAAABAAAAAAAAAAEAAAAAAAAAAAAAAAAAAAAhAAAAAAAAA8D8AAAAAAAAAQAAAAAAAAABAAAAAAAAA8D8AAAAAAAAAQAAAAAAAAABAAAAAAAAAAEAAAAAAAAAAQAAAAAAAAAhAAAAAAAAAAAAAAAAAAADwPwAAAAAAAAhAAAAAAAAAEEAAAAAAAAAQQAAAAAAAAAAAAAAAAAAAAEAAAAAAAAAIQAAAAAAAAAhAAAAAAAAAAEAAAAAAAADwPwAAAAAAAABAAAAAAAAAEEAAAAAAAADwPwAAAAAAABBAAAAAAAAAEEAAAAAAAAAAAAAAAAAAAAhAAAAAAAAAEEAAAAAAAAAAQAAAAAAAAAAAAAAAAAAAAEAAAAAAAADwPwAAAAAAAAhAAAAAAAAAAEAAAAAAAAAAAAAAAAAAAAAAAAAAAAAA8D8AAAAAAAAAAAAAAAAAAPA/AAAAAAAAAAAAAAAAAAAAQAAAAAAAAAAAAAAAAAAAAAAAAAAAAADwPwAAAAAAAAAAAAAAAAAAAAAAAAAAAAAAAAAAAAAAAPA/AAAAAAAAAAAAAAAAAAAAAAAAAAAAAPA/AAAAAAAAAAAAAAAAAAAAAAAAAAAAAAAAAAAAAAAA8D8AAAAAAADwPwAAAAAAAPA/AAAAAAAAAEAAAAAAAAAAAAAAAAAAAABAAAAAAAAAAAAAAAAAAADwPwAAAAAAAPA/AAAAAAAA8D8AAAAAAAAAQAAAAAAAAPA/AAAAAAAA8D8AAAAAAADwPwAAAAAAAAAAAAAAAAAAAAAAAAAAAAAAAAAAAAAAAPA/AAAAAAAAAEAAAAAAAAAAQAAAAAAAAABAAAAAAAAAAAAAAAAAAADwPwAAAAAAAPA/AAAAAAAA8D8AAAAAAAAAAAAAAAAAAAhAAAAAAAAA8D8AAAAAAAAAAAAAAAAAAPA/AAAAAAAA8D8AAAAAAAAAQAAAAAAAABhAAAAAAAAAFEAAAAAAAAAAAAAAAAAAAAAAAAAAAAAAAEAAAAAAAAAAAAAAAAAAAPA/AAAAAAAAAAAAAAAAAADwPw==",
          "dtype": "f8"
         }
        }
       ],
       "layout": {
        "showlegend": false,
        "template": {
         "data": {
          "bar": [
           {
            "error_x": {
             "color": "#2a3f5f"
            },
            "error_y": {
             "color": "#2a3f5f"
            },
            "marker": {
             "line": {
              "color": "#E5ECF6",
              "width": 0.5
             },
             "pattern": {
              "fillmode": "overlay",
              "size": 10,
              "solidity": 0.2
             }
            },
            "type": "bar"
           }
          ],
          "barpolar": [
           {
            "marker": {
             "line": {
              "color": "#E5ECF6",
              "width": 0.5
             },
             "pattern": {
              "fillmode": "overlay",
              "size": 10,
              "solidity": 0.2
             }
            },
            "type": "barpolar"
           }
          ],
          "carpet": [
           {
            "aaxis": {
             "endlinecolor": "#2a3f5f",
             "gridcolor": "white",
             "linecolor": "white",
             "minorgridcolor": "white",
             "startlinecolor": "#2a3f5f"
            },
            "baxis": {
             "endlinecolor": "#2a3f5f",
             "gridcolor": "white",
             "linecolor": "white",
             "minorgridcolor": "white",
             "startlinecolor": "#2a3f5f"
            },
            "type": "carpet"
           }
          ],
          "choropleth": [
           {
            "colorbar": {
             "outlinewidth": 0,
             "ticks": ""
            },
            "type": "choropleth"
           }
          ],
          "contour": [
           {
            "colorbar": {
             "outlinewidth": 0,
             "ticks": ""
            },
            "colorscale": [
             [
              0,
              "#0d0887"
             ],
             [
              0.1111111111111111,
              "#46039f"
             ],
             [
              0.2222222222222222,
              "#7201a8"
             ],
             [
              0.3333333333333333,
              "#9c179e"
             ],
             [
              0.4444444444444444,
              "#bd3786"
             ],
             [
              0.5555555555555556,
              "#d8576b"
             ],
             [
              0.6666666666666666,
              "#ed7953"
             ],
             [
              0.7777777777777778,
              "#fb9f3a"
             ],
             [
              0.8888888888888888,
              "#fdca26"
             ],
             [
              1,
              "#f0f921"
             ]
            ],
            "type": "contour"
           }
          ],
          "contourcarpet": [
           {
            "colorbar": {
             "outlinewidth": 0,
             "ticks": ""
            },
            "type": "contourcarpet"
           }
          ],
          "heatmap": [
           {
            "colorbar": {
             "outlinewidth": 0,
             "ticks": ""
            },
            "colorscale": [
             [
              0,
              "#0d0887"
             ],
             [
              0.1111111111111111,
              "#46039f"
             ],
             [
              0.2222222222222222,
              "#7201a8"
             ],
             [
              0.3333333333333333,
              "#9c179e"
             ],
             [
              0.4444444444444444,
              "#bd3786"
             ],
             [
              0.5555555555555556,
              "#d8576b"
             ],
             [
              0.6666666666666666,
              "#ed7953"
             ],
             [
              0.7777777777777778,
              "#fb9f3a"
             ],
             [
              0.8888888888888888,
              "#fdca26"
             ],
             [
              1,
              "#f0f921"
             ]
            ],
            "type": "heatmap"
           }
          ],
          "histogram": [
           {
            "marker": {
             "pattern": {
              "fillmode": "overlay",
              "size": 10,
              "solidity": 0.2
             }
            },
            "type": "histogram"
           }
          ],
          "histogram2d": [
           {
            "colorbar": {
             "outlinewidth": 0,
             "ticks": ""
            },
            "colorscale": [
             [
              0,
              "#0d0887"
             ],
             [
              0.1111111111111111,
              "#46039f"
             ],
             [
              0.2222222222222222,
              "#7201a8"
             ],
             [
              0.3333333333333333,
              "#9c179e"
             ],
             [
              0.4444444444444444,
              "#bd3786"
             ],
             [
              0.5555555555555556,
              "#d8576b"
             ],
             [
              0.6666666666666666,
              "#ed7953"
             ],
             [
              0.7777777777777778,
              "#fb9f3a"
             ],
             [
              0.8888888888888888,
              "#fdca26"
             ],
             [
              1,
              "#f0f921"
             ]
            ],
            "type": "histogram2d"
           }
          ],
          "histogram2dcontour": [
           {
            "colorbar": {
             "outlinewidth": 0,
             "ticks": ""
            },
            "colorscale": [
             [
              0,
              "#0d0887"
             ],
             [
              0.1111111111111111,
              "#46039f"
             ],
             [
              0.2222222222222222,
              "#7201a8"
             ],
             [
              0.3333333333333333,
              "#9c179e"
             ],
             [
              0.4444444444444444,
              "#bd3786"
             ],
             [
              0.5555555555555556,
              "#d8576b"
             ],
             [
              0.6666666666666666,
              "#ed7953"
             ],
             [
              0.7777777777777778,
              "#fb9f3a"
             ],
             [
              0.8888888888888888,
              "#fdca26"
             ],
             [
              1,
              "#f0f921"
             ]
            ],
            "type": "histogram2dcontour"
           }
          ],
          "mesh3d": [
           {
            "colorbar": {
             "outlinewidth": 0,
             "ticks": ""
            },
            "type": "mesh3d"
           }
          ],
          "parcoords": [
           {
            "line": {
             "colorbar": {
              "outlinewidth": 0,
              "ticks": ""
             }
            },
            "type": "parcoords"
           }
          ],
          "pie": [
           {
            "automargin": true,
            "type": "pie"
           }
          ],
          "scatter": [
           {
            "fillpattern": {
             "fillmode": "overlay",
             "size": 10,
             "solidity": 0.2
            },
            "type": "scatter"
           }
          ],
          "scatter3d": [
           {
            "line": {
             "colorbar": {
              "outlinewidth": 0,
              "ticks": ""
             }
            },
            "marker": {
             "colorbar": {
              "outlinewidth": 0,
              "ticks": ""
             }
            },
            "type": "scatter3d"
           }
          ],
          "scattercarpet": [
           {
            "marker": {
             "colorbar": {
              "outlinewidth": 0,
              "ticks": ""
             }
            },
            "type": "scattercarpet"
           }
          ],
          "scattergeo": [
           {
            "marker": {
             "colorbar": {
              "outlinewidth": 0,
              "ticks": ""
             }
            },
            "type": "scattergeo"
           }
          ],
          "scattergl": [
           {
            "marker": {
             "colorbar": {
              "outlinewidth": 0,
              "ticks": ""
             }
            },
            "type": "scattergl"
           }
          ],
          "scattermap": [
           {
            "marker": {
             "colorbar": {
              "outlinewidth": 0,
              "ticks": ""
             }
            },
            "type": "scattermap"
           }
          ],
          "scattermapbox": [
           {
            "marker": {
             "colorbar": {
              "outlinewidth": 0,
              "ticks": ""
             }
            },
            "type": "scattermapbox"
           }
          ],
          "scatterpolar": [
           {
            "marker": {
             "colorbar": {
              "outlinewidth": 0,
              "ticks": ""
             }
            },
            "type": "scatterpolar"
           }
          ],
          "scatterpolargl": [
           {
            "marker": {
             "colorbar": {
              "outlinewidth": 0,
              "ticks": ""
             }
            },
            "type": "scatterpolargl"
           }
          ],
          "scatterternary": [
           {
            "marker": {
             "colorbar": {
              "outlinewidth": 0,
              "ticks": ""
             }
            },
            "type": "scatterternary"
           }
          ],
          "surface": [
           {
            "colorbar": {
             "outlinewidth": 0,
             "ticks": ""
            },
            "colorscale": [
             [
              0,
              "#0d0887"
             ],
             [
              0.1111111111111111,
              "#46039f"
             ],
             [
              0.2222222222222222,
              "#7201a8"
             ],
             [
              0.3333333333333333,
              "#9c179e"
             ],
             [
              0.4444444444444444,
              "#bd3786"
             ],
             [
              0.5555555555555556,
              "#d8576b"
             ],
             [
              0.6666666666666666,
              "#ed7953"
             ],
             [
              0.7777777777777778,
              "#fb9f3a"
             ],
             [
              0.8888888888888888,
              "#fdca26"
             ],
             [
              1,
              "#f0f921"
             ]
            ],
            "type": "surface"
           }
          ],
          "table": [
           {
            "cells": {
             "fill": {
              "color": "#EBF0F8"
             },
             "line": {
              "color": "white"
             }
            },
            "header": {
             "fill": {
              "color": "#C8D4E3"
             },
             "line": {
              "color": "white"
             }
            },
            "type": "table"
           }
          ]
         },
         "layout": {
          "annotationdefaults": {
           "arrowcolor": "#2a3f5f",
           "arrowhead": 0,
           "arrowwidth": 1
          },
          "autotypenumbers": "strict",
          "coloraxis": {
           "colorbar": {
            "outlinewidth": 0,
            "ticks": ""
           }
          },
          "colorscale": {
           "diverging": [
            [
             0,
             "#8e0152"
            ],
            [
             0.1,
             "#c51b7d"
            ],
            [
             0.2,
             "#de77ae"
            ],
            [
             0.3,
             "#f1b6da"
            ],
            [
             0.4,
             "#fde0ef"
            ],
            [
             0.5,
             "#f7f7f7"
            ],
            [
             0.6,
             "#e6f5d0"
            ],
            [
             0.7,
             "#b8e186"
            ],
            [
             0.8,
             "#7fbc41"
            ],
            [
             0.9,
             "#4d9221"
            ],
            [
             1,
             "#276419"
            ]
           ],
           "sequential": [
            [
             0,
             "#0d0887"
            ],
            [
             0.1111111111111111,
             "#46039f"
            ],
            [
             0.2222222222222222,
             "#7201a8"
            ],
            [
             0.3333333333333333,
             "#9c179e"
            ],
            [
             0.4444444444444444,
             "#bd3786"
            ],
            [
             0.5555555555555556,
             "#d8576b"
            ],
            [
             0.6666666666666666,
             "#ed7953"
            ],
            [
             0.7777777777777778,
             "#fb9f3a"
            ],
            [
             0.8888888888888888,
             "#fdca26"
            ],
            [
             1,
             "#f0f921"
            ]
           ],
           "sequentialminus": [
            [
             0,
             "#0d0887"
            ],
            [
             0.1111111111111111,
             "#46039f"
            ],
            [
             0.2222222222222222,
             "#7201a8"
            ],
            [
             0.3333333333333333,
             "#9c179e"
            ],
            [
             0.4444444444444444,
             "#bd3786"
            ],
            [
             0.5555555555555556,
             "#d8576b"
            ],
            [
             0.6666666666666666,
             "#ed7953"
            ],
            [
             0.7777777777777778,
             "#fb9f3a"
            ],
            [
             0.8888888888888888,
             "#fdca26"
            ],
            [
             1,
             "#f0f921"
            ]
           ]
          },
          "colorway": [
           "#636efa",
           "#EF553B",
           "#00cc96",
           "#ab63fa",
           "#FFA15A",
           "#19d3f3",
           "#FF6692",
           "#B6E880",
           "#FF97FF",
           "#FECB52"
          ],
          "font": {
           "color": "#2a3f5f"
          },
          "geo": {
           "bgcolor": "white",
           "lakecolor": "white",
           "landcolor": "#E5ECF6",
           "showlakes": true,
           "showland": true,
           "subunitcolor": "white"
          },
          "hoverlabel": {
           "align": "left"
          },
          "hovermode": "closest",
          "mapbox": {
           "style": "light"
          },
          "paper_bgcolor": "white",
          "plot_bgcolor": "#E5ECF6",
          "polar": {
           "angularaxis": {
            "gridcolor": "white",
            "linecolor": "white",
            "ticks": ""
           },
           "bgcolor": "#E5ECF6",
           "radialaxis": {
            "gridcolor": "white",
            "linecolor": "white",
            "ticks": ""
           }
          },
          "scene": {
           "xaxis": {
            "backgroundcolor": "#E5ECF6",
            "gridcolor": "white",
            "gridwidth": 2,
            "linecolor": "white",
            "showbackground": true,
            "ticks": "",
            "zerolinecolor": "white"
           },
           "yaxis": {
            "backgroundcolor": "#E5ECF6",
            "gridcolor": "white",
            "gridwidth": 2,
            "linecolor": "white",
            "showbackground": true,
            "ticks": "",
            "zerolinecolor": "white"
           },
           "zaxis": {
            "backgroundcolor": "#E5ECF6",
            "gridcolor": "white",
            "gridwidth": 2,
            "linecolor": "white",
            "showbackground": true,
            "ticks": "",
            "zerolinecolor": "white"
           }
          },
          "shapedefaults": {
           "line": {
            "color": "#2a3f5f"
           }
          },
          "ternary": {
           "aaxis": {
            "gridcolor": "white",
            "linecolor": "white",
            "ticks": ""
           },
           "baxis": {
            "gridcolor": "white",
            "linecolor": "white",
            "ticks": ""
           },
           "bgcolor": "#E5ECF6",
           "caxis": {
            "gridcolor": "white",
            "linecolor": "white",
            "ticks": ""
           }
          },
          "title": {
           "x": 0.05
          },
          "xaxis": {
           "automargin": true,
           "gridcolor": "white",
           "linecolor": "white",
           "ticks": "",
           "title": {
            "standoff": 15
           },
           "zerolinecolor": "white",
           "zerolinewidth": 2
          },
          "yaxis": {
           "automargin": true,
           "gridcolor": "white",
           "linecolor": "white",
           "ticks": "",
           "title": {
            "standoff": 15
           },
           "zerolinecolor": "white",
           "zerolinewidth": 2
          }
         }
        },
        "title": {
         "text": "Distribution of Valencia Street Bike Crash Frequency"
        },
        "xaxis": {
         "title": {
          "text": "Number of Crashes per Month"
         }
        },
        "yaxis": {
         "title": {
          "text": "Probability"
         }
        }
       }
      }
     },
     "metadata": {},
     "output_type": "display_data"
    },
    {
     "name": "stdout",
     "output_type": "stream",
     "text": [
      "Valencia bike crashes summary statistics:\n",
      "Total months with data: 245\n",
      "Mean crashes per month: 1.44\n",
      "Median crashes per month: 1.00\n",
      "Standard deviation: 1.29\n",
      "Time period covered: 2005-01 to 2025-05\n",
      "Total time span: 245 months\n"
     ]
    }
   ],
   "source": [
    "# where do valencia bike crashes happen?\n",
    "\n",
    "# Get the cross streets from valencia bike crashes with intersection data\n",
    "cross_street_intersection_data = valencia_bike_crashes.groupby(['secondary_rd', 'intersection']).size().unstack(fill_value=0)\n",
    "\n",
    "# Remove any rows where secondary_rd is NaN and get top 15 cross streets by total crashes\n",
    "cross_street_intersection_data = cross_street_intersection_data.dropna()\n",
    "cross_street_totals = cross_street_intersection_data.sum(axis=1).sort_values(ascending=False)\n",
    "top_15_streets = cross_street_totals.head(15).index\n",
    "cross_street_intersection_data = cross_street_intersection_data.loc[top_15_streets]\n",
    "\n",
    "# Create a stacked bar chart\n",
    "fig_cross_streets = go.Figure()\n",
    "\n",
    "# Define colors for each intersection type (crimson-orange palette)\n",
    "colors = {\n",
    "    'Midblock > 20ft': '#FFB347',           # vibrant orange-red\n",
    "    'Intersection <= 20ft': '#FF5733',      # orange\n",
    "    'Intersection Rear End <= 150ft': '#FF8C42'  # light orange\n",
    "}\n",
    "\n",
    "# Add each intersection type as a separate bar\n",
    "for intersection_type in cross_street_intersection_data.columns:\n",
    "    fig_cross_streets.add_trace(go.Bar(\n",
    "        name=intersection_type,\n",
    "        x=cross_street_intersection_data.index,\n",
    "        y=cross_street_intersection_data[intersection_type],\n",
    "        marker_color=colors.get(intersection_type, 'gray')\n",
    "    ))\n",
    "\n",
    "# Update layout for stacked bar chart\n",
    "fig_cross_streets.update_layout(\n",
    "    title='Valencia Street Bike Crashes by Cross Street and Location Type (Top 15)',\n",
    "    xaxis_title='Cross Street',\n",
    "    yaxis_title='Number of Crashes',\n",
    "    xaxis_tickangle=-45,\n",
    "    barmode='stack',\n",
    "    legend_title='Crash Location Type'\n",
    ")\n",
    "\n",
    "fig_cross_streets.show()\n",
    "\n",
    "# Extract year-month from valencia_bike_crashes\n",
    "valencia_bike_crashes_copy = valencia_bike_crashes.copy()\n",
    "valencia_bike_crashes_copy['year_month'] = valencia_bike_crashes_copy['collision_datetime'].dt.to_period('M')\n",
    "\n",
    "# Count crashes per month\n",
    "crashes_per_month_raw = valencia_bike_crashes_copy['year_month'].value_counts().sort_index()\n",
    "\n",
    "# Create a complete date range from min to max date in the entire crash dataset\n",
    "all_crash_dates = crash_data['collision_datetime'].dropna()\n",
    "date_range = pd.period_range(\n",
    "    start=all_crash_dates.min().to_period('M'),\n",
    "    end=all_crash_dates.max().to_period('M'),\n",
    "    freq='M'\n",
    ")\n",
    "\n",
    "# Create a complete dataframe with all months, filling missing values with 0\n",
    "complete_df = pd.DataFrame({'year_month': date_range})\n",
    "crashes_per_month_df = pd.DataFrame({\n",
    "    'year_month': crashes_per_month_raw.index,\n",
    "    'crash_count': crashes_per_month_raw.values\n",
    "})\n",
    "\n",
    "# Merge to get complete time series with zeros for missing months\n",
    "complete_crashes = complete_df.merge(crashes_per_month_df, on='year_month', how='left')\n",
    "complete_crashes['crash_count'] = complete_crashes['crash_count'].fillna(0)\n",
    "\n",
    "# Convert back to Series for consistency with existing code\n",
    "crashes_per_month = pd.Series(\n",
    "    data=complete_crashes['crash_count'].values,\n",
    "    index=complete_crashes['year_month']\n",
    ").sort_index()\n",
    "\n",
    "# Create histogram\n",
    "fig_histogram = go.Figure()\n",
    "\n",
    "fig_histogram.add_trace(go.Histogram(\n",
    "    x=crashes_per_month.values,\n",
    "    nbinsx=20,\n",
    "    histnorm='probability',  # This normalizes to show probability\n",
    "    name='Valencia Bike Crashes',\n",
    "    marker_color='blue',\n",
    "    opacity=0.6\n",
    "))\n",
    "\n",
    "fig_histogram.update_layout(\n",
    "    title='Distribution of Valencia Street Bike Crash Frequency',\n",
    "    xaxis_title='Number of Crashes per Month',\n",
    "    yaxis_title='Probability',\n",
    "    showlegend=False\n",
    ")\n",
    "\n",
    "fig_histogram.show()\n",
    "\n",
    "# Print summary statistics\n",
    "print(f\"Valencia bike crashes summary statistics:\")\n",
    "print(f\"Total months with data: {len(crashes_per_month)}\")\n",
    "print(f\"Mean crashes per month: {crashes_per_month.mean():.2f}\")\n",
    "print(f\"Median crashes per month: {crashes_per_month.median():.2f}\")\n",
    "print(f\"Standard deviation: {crashes_per_month.std():.2f}\")\n",
    "\n",
    "\n",
    "# Print time range information\n",
    "print(f\"Time period covered: {crashes_per_month.index.min()} to {crashes_per_month.index.max()}\")\n",
    "print(f\"Total time span: {len(crashes_per_month)} months\")"
   ]
  },
  {
   "cell_type": "markdown",
   "id": "51ed8edf",
   "metadata": {},
   "source": [
    "### Comparing Types and Severity of Crashes on The Valencia Street Center Bike Lane vs. Side-Running\n",
    "\n",
    "The crash data on Valencia Street is divided into two periods: crashes that occurred during the center-running bike lane pilot in 2024, and crashes that occurred both before and after the pilot. To ensure consistency, both datasets are limited to the same geographic corridor between 15th and 23rd Streets. Absolute crash metrics are reported for each period. Notably, only 13 crashes were recorded during the center bike lane pilot, compared to 187 crashes outside the pilot period. As such, it’s important to recognize that the center lane data represents a much smaller sample size and is therefore more vulnerable to statistical noise.\n",
    "\n",
    "This analysis addresses the investigation question: *How did the types and severity of crashes under the center-running design compare to those under the previous side-running bike lanes?* As expected, the center bike lane in 2024 had zero crashes resulting from vehicles making right turns into cyclists, and zero crashes from parked cars -- which infers no cyclists were \"doored\". Both of these crash mechanisms were highly prevelant with side running bike lanes. There was a relative increase in bike-on-bike and bike-on-pedestrian crashes during the center lane period, though this shift should be interpreted with caution due to the small sample size. Overall, crash severity remained broadly similar between the two periods.\n",
    "\n",
    "In terms of location, Sycamore Street had the highest number of crashes during the 2024 pilot, followed by 16th Street and the segment spanning 17th to 20th Streets. The elevated crash count near 16th Street is consistent with pre-pilot patterns. However, the spike in crashes at Sycamore Street stands out as a potential anomaly: in 2024 alone, there were four crashes at or near Sycamore, compared to only seven crashes at that location over the previous 17.5 years.\n"
   ]
  },
  {
   "cell_type": "code",
   "execution_count": 18,
   "id": "9881fd7b",
   "metadata": {},
   "outputs": [
    {
     "data": {
      "application/vnd.plotly.v1+json": {
       "config": {
        "plotlyServerURL": "https://plot.ly"
       },
       "data": [
        {
         "domain": {
          "x": [
           0,
           0.45
          ],
          "y": [
           0,
           1
          ]
         },
         "labels": [
          "Broadside",
          "Head-On",
          "Sideswipe",
          "Other",
          "Overturned"
         ],
         "name": "Center Lane 2024",
         "type": "pie",
         "values": {
          "bdata": "BgMCAQE=",
          "dtype": "i1"
         }
        },
        {
         "domain": {
          "x": [
           0.55,
           1
          ],
          "y": [
           0,
           1
          ]
         },
         "labels": [
          "Sideswipe",
          "Broadside",
          "Other",
          "Rear End",
          "Head-On",
          "Overturned",
          "Hit Object",
          "Vehicle/Pedestrian",
          "Not Stated"
         ],
         "name": "Before/After Center Lane",
         "type": "pie",
         "values": {
          "bdata": "PS4gEgoGBgUD",
          "dtype": "i1"
         }
        }
       ],
       "layout": {
        "annotations": [
         {
          "font": {
           "size": 16
          },
          "showarrow": false,
          "text": "Types of Bike Crashes<br>Center Lane 2024",
          "x": 0.225,
          "xanchor": "center",
          "xref": "paper",
          "y": 1,
          "yanchor": "bottom",
          "yref": "paper"
         },
         {
          "font": {
           "size": 16
          },
          "showarrow": false,
          "text": "Types of Bike Crashes<br>Valencia Before/After Center Lane",
          "x": 0.775,
          "xanchor": "center",
          "xref": "paper",
          "y": 1,
          "yanchor": "bottom",
          "yref": "paper"
         }
        ],
        "template": {
         "data": {
          "bar": [
           {
            "error_x": {
             "color": "#2a3f5f"
            },
            "error_y": {
             "color": "#2a3f5f"
            },
            "marker": {
             "line": {
              "color": "#E5ECF6",
              "width": 0.5
             },
             "pattern": {
              "fillmode": "overlay",
              "size": 10,
              "solidity": 0.2
             }
            },
            "type": "bar"
           }
          ],
          "barpolar": [
           {
            "marker": {
             "line": {
              "color": "#E5ECF6",
              "width": 0.5
             },
             "pattern": {
              "fillmode": "overlay",
              "size": 10,
              "solidity": 0.2
             }
            },
            "type": "barpolar"
           }
          ],
          "carpet": [
           {
            "aaxis": {
             "endlinecolor": "#2a3f5f",
             "gridcolor": "white",
             "linecolor": "white",
             "minorgridcolor": "white",
             "startlinecolor": "#2a3f5f"
            },
            "baxis": {
             "endlinecolor": "#2a3f5f",
             "gridcolor": "white",
             "linecolor": "white",
             "minorgridcolor": "white",
             "startlinecolor": "#2a3f5f"
            },
            "type": "carpet"
           }
          ],
          "choropleth": [
           {
            "colorbar": {
             "outlinewidth": 0,
             "ticks": ""
            },
            "type": "choropleth"
           }
          ],
          "contour": [
           {
            "colorbar": {
             "outlinewidth": 0,
             "ticks": ""
            },
            "colorscale": [
             [
              0,
              "#0d0887"
             ],
             [
              0.1111111111111111,
              "#46039f"
             ],
             [
              0.2222222222222222,
              "#7201a8"
             ],
             [
              0.3333333333333333,
              "#9c179e"
             ],
             [
              0.4444444444444444,
              "#bd3786"
             ],
             [
              0.5555555555555556,
              "#d8576b"
             ],
             [
              0.6666666666666666,
              "#ed7953"
             ],
             [
              0.7777777777777778,
              "#fb9f3a"
             ],
             [
              0.8888888888888888,
              "#fdca26"
             ],
             [
              1,
              "#f0f921"
             ]
            ],
            "type": "contour"
           }
          ],
          "contourcarpet": [
           {
            "colorbar": {
             "outlinewidth": 0,
             "ticks": ""
            },
            "type": "contourcarpet"
           }
          ],
          "heatmap": [
           {
            "colorbar": {
             "outlinewidth": 0,
             "ticks": ""
            },
            "colorscale": [
             [
              0,
              "#0d0887"
             ],
             [
              0.1111111111111111,
              "#46039f"
             ],
             [
              0.2222222222222222,
              "#7201a8"
             ],
             [
              0.3333333333333333,
              "#9c179e"
             ],
             [
              0.4444444444444444,
              "#bd3786"
             ],
             [
              0.5555555555555556,
              "#d8576b"
             ],
             [
              0.6666666666666666,
              "#ed7953"
             ],
             [
              0.7777777777777778,
              "#fb9f3a"
             ],
             [
              0.8888888888888888,
              "#fdca26"
             ],
             [
              1,
              "#f0f921"
             ]
            ],
            "type": "heatmap"
           }
          ],
          "histogram": [
           {
            "marker": {
             "pattern": {
              "fillmode": "overlay",
              "size": 10,
              "solidity": 0.2
             }
            },
            "type": "histogram"
           }
          ],
          "histogram2d": [
           {
            "colorbar": {
             "outlinewidth": 0,
             "ticks": ""
            },
            "colorscale": [
             [
              0,
              "#0d0887"
             ],
             [
              0.1111111111111111,
              "#46039f"
             ],
             [
              0.2222222222222222,
              "#7201a8"
             ],
             [
              0.3333333333333333,
              "#9c179e"
             ],
             [
              0.4444444444444444,
              "#bd3786"
             ],
             [
              0.5555555555555556,
              "#d8576b"
             ],
             [
              0.6666666666666666,
              "#ed7953"
             ],
             [
              0.7777777777777778,
              "#fb9f3a"
             ],
             [
              0.8888888888888888,
              "#fdca26"
             ],
             [
              1,
              "#f0f921"
             ]
            ],
            "type": "histogram2d"
           }
          ],
          "histogram2dcontour": [
           {
            "colorbar": {
             "outlinewidth": 0,
             "ticks": ""
            },
            "colorscale": [
             [
              0,
              "#0d0887"
             ],
             [
              0.1111111111111111,
              "#46039f"
             ],
             [
              0.2222222222222222,
              "#7201a8"
             ],
             [
              0.3333333333333333,
              "#9c179e"
             ],
             [
              0.4444444444444444,
              "#bd3786"
             ],
             [
              0.5555555555555556,
              "#d8576b"
             ],
             [
              0.6666666666666666,
              "#ed7953"
             ],
             [
              0.7777777777777778,
              "#fb9f3a"
             ],
             [
              0.8888888888888888,
              "#fdca26"
             ],
             [
              1,
              "#f0f921"
             ]
            ],
            "type": "histogram2dcontour"
           }
          ],
          "mesh3d": [
           {
            "colorbar": {
             "outlinewidth": 0,
             "ticks": ""
            },
            "type": "mesh3d"
           }
          ],
          "parcoords": [
           {
            "line": {
             "colorbar": {
              "outlinewidth": 0,
              "ticks": ""
             }
            },
            "type": "parcoords"
           }
          ],
          "pie": [
           {
            "automargin": true,
            "type": "pie"
           }
          ],
          "scatter": [
           {
            "fillpattern": {
             "fillmode": "overlay",
             "size": 10,
             "solidity": 0.2
            },
            "type": "scatter"
           }
          ],
          "scatter3d": [
           {
            "line": {
             "colorbar": {
              "outlinewidth": 0,
              "ticks": ""
             }
            },
            "marker": {
             "colorbar": {
              "outlinewidth": 0,
              "ticks": ""
             }
            },
            "type": "scatter3d"
           }
          ],
          "scattercarpet": [
           {
            "marker": {
             "colorbar": {
              "outlinewidth": 0,
              "ticks": ""
             }
            },
            "type": "scattercarpet"
           }
          ],
          "scattergeo": [
           {
            "marker": {
             "colorbar": {
              "outlinewidth": 0,
              "ticks": ""
             }
            },
            "type": "scattergeo"
           }
          ],
          "scattergl": [
           {
            "marker": {
             "colorbar": {
              "outlinewidth": 0,
              "ticks": ""
             }
            },
            "type": "scattergl"
           }
          ],
          "scattermap": [
           {
            "marker": {
             "colorbar": {
              "outlinewidth": 0,
              "ticks": ""
             }
            },
            "type": "scattermap"
           }
          ],
          "scattermapbox": [
           {
            "marker": {
             "colorbar": {
              "outlinewidth": 0,
              "ticks": ""
             }
            },
            "type": "scattermapbox"
           }
          ],
          "scatterpolar": [
           {
            "marker": {
             "colorbar": {
              "outlinewidth": 0,
              "ticks": ""
             }
            },
            "type": "scatterpolar"
           }
          ],
          "scatterpolargl": [
           {
            "marker": {
             "colorbar": {
              "outlinewidth": 0,
              "ticks": ""
             }
            },
            "type": "scatterpolargl"
           }
          ],
          "scatterternary": [
           {
            "marker": {
             "colorbar": {
              "outlinewidth": 0,
              "ticks": ""
             }
            },
            "type": "scatterternary"
           }
          ],
          "surface": [
           {
            "colorbar": {
             "outlinewidth": 0,
             "ticks": ""
            },
            "colorscale": [
             [
              0,
              "#0d0887"
             ],
             [
              0.1111111111111111,
              "#46039f"
             ],
             [
              0.2222222222222222,
              "#7201a8"
             ],
             [
              0.3333333333333333,
              "#9c179e"
             ],
             [
              0.4444444444444444,
              "#bd3786"
             ],
             [
              0.5555555555555556,
              "#d8576b"
             ],
             [
              0.6666666666666666,
              "#ed7953"
             ],
             [
              0.7777777777777778,
              "#fb9f3a"
             ],
             [
              0.8888888888888888,
              "#fdca26"
             ],
             [
              1,
              "#f0f921"
             ]
            ],
            "type": "surface"
           }
          ],
          "table": [
           {
            "cells": {
             "fill": {
              "color": "#EBF0F8"
             },
             "line": {
              "color": "white"
             }
            },
            "header": {
             "fill": {
              "color": "#C8D4E3"
             },
             "line": {
              "color": "white"
             }
            },
            "type": "table"
           }
          ]
         },
         "layout": {
          "annotationdefaults": {
           "arrowcolor": "#2a3f5f",
           "arrowhead": 0,
           "arrowwidth": 1
          },
          "autotypenumbers": "strict",
          "coloraxis": {
           "colorbar": {
            "outlinewidth": 0,
            "ticks": ""
           }
          },
          "colorscale": {
           "diverging": [
            [
             0,
             "#8e0152"
            ],
            [
             0.1,
             "#c51b7d"
            ],
            [
             0.2,
             "#de77ae"
            ],
            [
             0.3,
             "#f1b6da"
            ],
            [
             0.4,
             "#fde0ef"
            ],
            [
             0.5,
             "#f7f7f7"
            ],
            [
             0.6,
             "#e6f5d0"
            ],
            [
             0.7,
             "#b8e186"
            ],
            [
             0.8,
             "#7fbc41"
            ],
            [
             0.9,
             "#4d9221"
            ],
            [
             1,
             "#276419"
            ]
           ],
           "sequential": [
            [
             0,
             "#0d0887"
            ],
            [
             0.1111111111111111,
             "#46039f"
            ],
            [
             0.2222222222222222,
             "#7201a8"
            ],
            [
             0.3333333333333333,
             "#9c179e"
            ],
            [
             0.4444444444444444,
             "#bd3786"
            ],
            [
             0.5555555555555556,
             "#d8576b"
            ],
            [
             0.6666666666666666,
             "#ed7953"
            ],
            [
             0.7777777777777778,
             "#fb9f3a"
            ],
            [
             0.8888888888888888,
             "#fdca26"
            ],
            [
             1,
             "#f0f921"
            ]
           ],
           "sequentialminus": [
            [
             0,
             "#0d0887"
            ],
            [
             0.1111111111111111,
             "#46039f"
            ],
            [
             0.2222222222222222,
             "#7201a8"
            ],
            [
             0.3333333333333333,
             "#9c179e"
            ],
            [
             0.4444444444444444,
             "#bd3786"
            ],
            [
             0.5555555555555556,
             "#d8576b"
            ],
            [
             0.6666666666666666,
             "#ed7953"
            ],
            [
             0.7777777777777778,
             "#fb9f3a"
            ],
            [
             0.8888888888888888,
             "#fdca26"
            ],
            [
             1,
             "#f0f921"
            ]
           ]
          },
          "colorway": [
           "#636efa",
           "#EF553B",
           "#00cc96",
           "#ab63fa",
           "#FFA15A",
           "#19d3f3",
           "#FF6692",
           "#B6E880",
           "#FF97FF",
           "#FECB52"
          ],
          "font": {
           "color": "#2a3f5f"
          },
          "geo": {
           "bgcolor": "white",
           "lakecolor": "white",
           "landcolor": "#E5ECF6",
           "showlakes": true,
           "showland": true,
           "subunitcolor": "white"
          },
          "hoverlabel": {
           "align": "left"
          },
          "hovermode": "closest",
          "mapbox": {
           "style": "light"
          },
          "paper_bgcolor": "white",
          "plot_bgcolor": "#E5ECF6",
          "polar": {
           "angularaxis": {
            "gridcolor": "white",
            "linecolor": "white",
            "ticks": ""
           },
           "bgcolor": "#E5ECF6",
           "radialaxis": {
            "gridcolor": "white",
            "linecolor": "white",
            "ticks": ""
           }
          },
          "scene": {
           "xaxis": {
            "backgroundcolor": "#E5ECF6",
            "gridcolor": "white",
            "gridwidth": 2,
            "linecolor": "white",
            "showbackground": true,
            "ticks": "",
            "zerolinecolor": "white"
           },
           "yaxis": {
            "backgroundcolor": "#E5ECF6",
            "gridcolor": "white",
            "gridwidth": 2,
            "linecolor": "white",
            "showbackground": true,
            "ticks": "",
            "zerolinecolor": "white"
           },
           "zaxis": {
            "backgroundcolor": "#E5ECF6",
            "gridcolor": "white",
            "gridwidth": 2,
            "linecolor": "white",
            "showbackground": true,
            "ticks": "",
            "zerolinecolor": "white"
           }
          },
          "shapedefaults": {
           "line": {
            "color": "#2a3f5f"
           }
          },
          "ternary": {
           "aaxis": {
            "gridcolor": "white",
            "linecolor": "white",
            "ticks": ""
           },
           "baxis": {
            "gridcolor": "white",
            "linecolor": "white",
            "ticks": ""
           },
           "bgcolor": "#E5ECF6",
           "caxis": {
            "gridcolor": "white",
            "linecolor": "white",
            "ticks": ""
           }
          },
          "title": {
           "x": 0.05
          },
          "xaxis": {
           "automargin": true,
           "gridcolor": "white",
           "linecolor": "white",
           "ticks": "",
           "title": {
            "standoff": 15
           },
           "zerolinecolor": "white",
           "zerolinewidth": 2
          },
          "yaxis": {
           "automargin": true,
           "gridcolor": "white",
           "linecolor": "white",
           "ticks": "",
           "title": {
            "standoff": 15
           },
           "zerolinecolor": "white",
           "zerolinewidth": 2
          }
         }
        },
        "title": {
         "text": "Comparison of Crash Types: Center Lane 2024 vs Before/After Center Lane"
        }
       }
      }
     },
     "metadata": {},
     "output_type": "display_data"
    },
    {
     "data": {
      "application/vnd.plotly.v1+json": {
       "config": {
        "plotlyServerURL": "https://plot.ly"
       },
       "data": [
        {
         "domain": {
          "x": [
           0,
           0.45
          ],
          "y": [
           0,
           1
          ]
         },
         "labels": [
          "Proceeding Straight",
          "Making Left Turn",
          "Changing Lanes",
          "Making U Turn"
         ],
         "name": "Center Lane 2024",
         "type": "pie",
         "values": {
          "bdata": "BAMBAQ==",
          "dtype": "i1"
         }
        },
        {
         "domain": {
          "x": [
           0.55,
           1
          ],
          "y": [
           0,
           1
          ]
         },
         "labels": [
          "Making Left Turn",
          "Proceeding Straight",
          "Parked",
          "Making Right Turn",
          "Stopped In Road"
         ],
         "name": "Before Center Lane",
         "type": "pie",
         "values": {
          "bdata": "HBQREAw=",
          "dtype": "i1"
         }
        }
       ],
       "layout": {
        "annotations": [
         {
          "font": {
           "size": 16
          },
          "showarrow": false,
          "text": "Top 5 Car Actions<br>Center Lane 2024",
          "x": 0.225,
          "xanchor": "center",
          "xref": "paper",
          "y": 1,
          "yanchor": "bottom",
          "yref": "paper"
         },
         {
          "font": {
           "size": 16
          },
          "showarrow": false,
          "text": "Top 5 Car Actions<br>Before/After Center Lane",
          "x": 0.775,
          "xanchor": "center",
          "xref": "paper",
          "y": 1,
          "yanchor": "bottom",
          "yref": "paper"
         }
        ],
        "barmode": "stack",
        "height": 600,
        "legend": {
         "title": {
          "text": "Car Action Type"
         }
        },
        "template": {
         "data": {
          "bar": [
           {
            "error_x": {
             "color": "#2a3f5f"
            },
            "error_y": {
             "color": "#2a3f5f"
            },
            "marker": {
             "line": {
              "color": "#E5ECF6",
              "width": 0.5
             },
             "pattern": {
              "fillmode": "overlay",
              "size": 10,
              "solidity": 0.2
             }
            },
            "type": "bar"
           }
          ],
          "barpolar": [
           {
            "marker": {
             "line": {
              "color": "#E5ECF6",
              "width": 0.5
             },
             "pattern": {
              "fillmode": "overlay",
              "size": 10,
              "solidity": 0.2
             }
            },
            "type": "barpolar"
           }
          ],
          "carpet": [
           {
            "aaxis": {
             "endlinecolor": "#2a3f5f",
             "gridcolor": "white",
             "linecolor": "white",
             "minorgridcolor": "white",
             "startlinecolor": "#2a3f5f"
            },
            "baxis": {
             "endlinecolor": "#2a3f5f",
             "gridcolor": "white",
             "linecolor": "white",
             "minorgridcolor": "white",
             "startlinecolor": "#2a3f5f"
            },
            "type": "carpet"
           }
          ],
          "choropleth": [
           {
            "colorbar": {
             "outlinewidth": 0,
             "ticks": ""
            },
            "type": "choropleth"
           }
          ],
          "contour": [
           {
            "colorbar": {
             "outlinewidth": 0,
             "ticks": ""
            },
            "colorscale": [
             [
              0,
              "#0d0887"
             ],
             [
              0.1111111111111111,
              "#46039f"
             ],
             [
              0.2222222222222222,
              "#7201a8"
             ],
             [
              0.3333333333333333,
              "#9c179e"
             ],
             [
              0.4444444444444444,
              "#bd3786"
             ],
             [
              0.5555555555555556,
              "#d8576b"
             ],
             [
              0.6666666666666666,
              "#ed7953"
             ],
             [
              0.7777777777777778,
              "#fb9f3a"
             ],
             [
              0.8888888888888888,
              "#fdca26"
             ],
             [
              1,
              "#f0f921"
             ]
            ],
            "type": "contour"
           }
          ],
          "contourcarpet": [
           {
            "colorbar": {
             "outlinewidth": 0,
             "ticks": ""
            },
            "type": "contourcarpet"
           }
          ],
          "heatmap": [
           {
            "colorbar": {
             "outlinewidth": 0,
             "ticks": ""
            },
            "colorscale": [
             [
              0,
              "#0d0887"
             ],
             [
              0.1111111111111111,
              "#46039f"
             ],
             [
              0.2222222222222222,
              "#7201a8"
             ],
             [
              0.3333333333333333,
              "#9c179e"
             ],
             [
              0.4444444444444444,
              "#bd3786"
             ],
             [
              0.5555555555555556,
              "#d8576b"
             ],
             [
              0.6666666666666666,
              "#ed7953"
             ],
             [
              0.7777777777777778,
              "#fb9f3a"
             ],
             [
              0.8888888888888888,
              "#fdca26"
             ],
             [
              1,
              "#f0f921"
             ]
            ],
            "type": "heatmap"
           }
          ],
          "histogram": [
           {
            "marker": {
             "pattern": {
              "fillmode": "overlay",
              "size": 10,
              "solidity": 0.2
             }
            },
            "type": "histogram"
           }
          ],
          "histogram2d": [
           {
            "colorbar": {
             "outlinewidth": 0,
             "ticks": ""
            },
            "colorscale": [
             [
              0,
              "#0d0887"
             ],
             [
              0.1111111111111111,
              "#46039f"
             ],
             [
              0.2222222222222222,
              "#7201a8"
             ],
             [
              0.3333333333333333,
              "#9c179e"
             ],
             [
              0.4444444444444444,
              "#bd3786"
             ],
             [
              0.5555555555555556,
              "#d8576b"
             ],
             [
              0.6666666666666666,
              "#ed7953"
             ],
             [
              0.7777777777777778,
              "#fb9f3a"
             ],
             [
              0.8888888888888888,
              "#fdca26"
             ],
             [
              1,
              "#f0f921"
             ]
            ],
            "type": "histogram2d"
           }
          ],
          "histogram2dcontour": [
           {
            "colorbar": {
             "outlinewidth": 0,
             "ticks": ""
            },
            "colorscale": [
             [
              0,
              "#0d0887"
             ],
             [
              0.1111111111111111,
              "#46039f"
             ],
             [
              0.2222222222222222,
              "#7201a8"
             ],
             [
              0.3333333333333333,
              "#9c179e"
             ],
             [
              0.4444444444444444,
              "#bd3786"
             ],
             [
              0.5555555555555556,
              "#d8576b"
             ],
             [
              0.6666666666666666,
              "#ed7953"
             ],
             [
              0.7777777777777778,
              "#fb9f3a"
             ],
             [
              0.8888888888888888,
              "#fdca26"
             ],
             [
              1,
              "#f0f921"
             ]
            ],
            "type": "histogram2dcontour"
           }
          ],
          "mesh3d": [
           {
            "colorbar": {
             "outlinewidth": 0,
             "ticks": ""
            },
            "type": "mesh3d"
           }
          ],
          "parcoords": [
           {
            "line": {
             "colorbar": {
              "outlinewidth": 0,
              "ticks": ""
             }
            },
            "type": "parcoords"
           }
          ],
          "pie": [
           {
            "automargin": true,
            "type": "pie"
           }
          ],
          "scatter": [
           {
            "fillpattern": {
             "fillmode": "overlay",
             "size": 10,
             "solidity": 0.2
            },
            "type": "scatter"
           }
          ],
          "scatter3d": [
           {
            "line": {
             "colorbar": {
              "outlinewidth": 0,
              "ticks": ""
             }
            },
            "marker": {
             "colorbar": {
              "outlinewidth": 0,
              "ticks": ""
             }
            },
            "type": "scatter3d"
           }
          ],
          "scattercarpet": [
           {
            "marker": {
             "colorbar": {
              "outlinewidth": 0,
              "ticks": ""
             }
            },
            "type": "scattercarpet"
           }
          ],
          "scattergeo": [
           {
            "marker": {
             "colorbar": {
              "outlinewidth": 0,
              "ticks": ""
             }
            },
            "type": "scattergeo"
           }
          ],
          "scattergl": [
           {
            "marker": {
             "colorbar": {
              "outlinewidth": 0,
              "ticks": ""
             }
            },
            "type": "scattergl"
           }
          ],
          "scattermap": [
           {
            "marker": {
             "colorbar": {
              "outlinewidth": 0,
              "ticks": ""
             }
            },
            "type": "scattermap"
           }
          ],
          "scattermapbox": [
           {
            "marker": {
             "colorbar": {
              "outlinewidth": 0,
              "ticks": ""
             }
            },
            "type": "scattermapbox"
           }
          ],
          "scatterpolar": [
           {
            "marker": {
             "colorbar": {
              "outlinewidth": 0,
              "ticks": ""
             }
            },
            "type": "scatterpolar"
           }
          ],
          "scatterpolargl": [
           {
            "marker": {
             "colorbar": {
              "outlinewidth": 0,
              "ticks": ""
             }
            },
            "type": "scatterpolargl"
           }
          ],
          "scatterternary": [
           {
            "marker": {
             "colorbar": {
              "outlinewidth": 0,
              "ticks": ""
             }
            },
            "type": "scatterternary"
           }
          ],
          "surface": [
           {
            "colorbar": {
             "outlinewidth": 0,
             "ticks": ""
            },
            "colorscale": [
             [
              0,
              "#0d0887"
             ],
             [
              0.1111111111111111,
              "#46039f"
             ],
             [
              0.2222222222222222,
              "#7201a8"
             ],
             [
              0.3333333333333333,
              "#9c179e"
             ],
             [
              0.4444444444444444,
              "#bd3786"
             ],
             [
              0.5555555555555556,
              "#d8576b"
             ],
             [
              0.6666666666666666,
              "#ed7953"
             ],
             [
              0.7777777777777778,
              "#fb9f3a"
             ],
             [
              0.8888888888888888,
              "#fdca26"
             ],
             [
              1,
              "#f0f921"
             ]
            ],
            "type": "surface"
           }
          ],
          "table": [
           {
            "cells": {
             "fill": {
              "color": "#EBF0F8"
             },
             "line": {
              "color": "white"
             }
            },
            "header": {
             "fill": {
              "color": "#C8D4E3"
             },
             "line": {
              "color": "white"
             }
            },
            "type": "table"
           }
          ]
         },
         "layout": {
          "annotationdefaults": {
           "arrowcolor": "#2a3f5f",
           "arrowhead": 0,
           "arrowwidth": 1
          },
          "autotypenumbers": "strict",
          "coloraxis": {
           "colorbar": {
            "outlinewidth": 0,
            "ticks": ""
           }
          },
          "colorscale": {
           "diverging": [
            [
             0,
             "#8e0152"
            ],
            [
             0.1,
             "#c51b7d"
            ],
            [
             0.2,
             "#de77ae"
            ],
            [
             0.3,
             "#f1b6da"
            ],
            [
             0.4,
             "#fde0ef"
            ],
            [
             0.5,
             "#f7f7f7"
            ],
            [
             0.6,
             "#e6f5d0"
            ],
            [
             0.7,
             "#b8e186"
            ],
            [
             0.8,
             "#7fbc41"
            ],
            [
             0.9,
             "#4d9221"
            ],
            [
             1,
             "#276419"
            ]
           ],
           "sequential": [
            [
             0,
             "#0d0887"
            ],
            [
             0.1111111111111111,
             "#46039f"
            ],
            [
             0.2222222222222222,
             "#7201a8"
            ],
            [
             0.3333333333333333,
             "#9c179e"
            ],
            [
             0.4444444444444444,
             "#bd3786"
            ],
            [
             0.5555555555555556,
             "#d8576b"
            ],
            [
             0.6666666666666666,
             "#ed7953"
            ],
            [
             0.7777777777777778,
             "#fb9f3a"
            ],
            [
             0.8888888888888888,
             "#fdca26"
            ],
            [
             1,
             "#f0f921"
            ]
           ],
           "sequentialminus": [
            [
             0,
             "#0d0887"
            ],
            [
             0.1111111111111111,
             "#46039f"
            ],
            [
             0.2222222222222222,
             "#7201a8"
            ],
            [
             0.3333333333333333,
             "#9c179e"
            ],
            [
             0.4444444444444444,
             "#bd3786"
            ],
            [
             0.5555555555555556,
             "#d8576b"
            ],
            [
             0.6666666666666666,
             "#ed7953"
            ],
            [
             0.7777777777777778,
             "#fb9f3a"
            ],
            [
             0.8888888888888888,
             "#fdca26"
            ],
            [
             1,
             "#f0f921"
            ]
           ]
          },
          "colorway": [
           "#636efa",
           "#EF553B",
           "#00cc96",
           "#ab63fa",
           "#FFA15A",
           "#19d3f3",
           "#FF6692",
           "#B6E880",
           "#FF97FF",
           "#FECB52"
          ],
          "font": {
           "color": "#2a3f5f"
          },
          "geo": {
           "bgcolor": "white",
           "lakecolor": "white",
           "landcolor": "#E5ECF6",
           "showlakes": true,
           "showland": true,
           "subunitcolor": "white"
          },
          "hoverlabel": {
           "align": "left"
          },
          "hovermode": "closest",
          "mapbox": {
           "style": "light"
          },
          "paper_bgcolor": "white",
          "plot_bgcolor": "#E5ECF6",
          "polar": {
           "angularaxis": {
            "gridcolor": "white",
            "linecolor": "white",
            "ticks": ""
           },
           "bgcolor": "#E5ECF6",
           "radialaxis": {
            "gridcolor": "white",
            "linecolor": "white",
            "ticks": ""
           }
          },
          "scene": {
           "xaxis": {
            "backgroundcolor": "#E5ECF6",
            "gridcolor": "white",
            "gridwidth": 2,
            "linecolor": "white",
            "showbackground": true,
            "ticks": "",
            "zerolinecolor": "white"
           },
           "yaxis": {
            "backgroundcolor": "#E5ECF6",
            "gridcolor": "white",
            "gridwidth": 2,
            "linecolor": "white",
            "showbackground": true,
            "ticks": "",
            "zerolinecolor": "white"
           },
           "zaxis": {
            "backgroundcolor": "#E5ECF6",
            "gridcolor": "white",
            "gridwidth": 2,
            "linecolor": "white",
            "showbackground": true,
            "ticks": "",
            "zerolinecolor": "white"
           }
          },
          "shapedefaults": {
           "line": {
            "color": "#2a3f5f"
           }
          },
          "ternary": {
           "aaxis": {
            "gridcolor": "white",
            "linecolor": "white",
            "ticks": ""
           },
           "baxis": {
            "gridcolor": "white",
            "linecolor": "white",
            "ticks": ""
           },
           "bgcolor": "#E5ECF6",
           "caxis": {
            "gridcolor": "white",
            "linecolor": "white",
            "ticks": ""
           }
          },
          "title": {
           "x": 0.05
          },
          "xaxis": {
           "automargin": true,
           "gridcolor": "white",
           "linecolor": "white",
           "ticks": "",
           "title": {
            "standoff": 15
           },
           "zerolinecolor": "white",
           "zerolinewidth": 2
          },
          "yaxis": {
           "automargin": true,
           "gridcolor": "white",
           "linecolor": "white",
           "ticks": "",
           "title": {
            "standoff": 15
           },
           "zerolinecolor": "white",
           "zerolinewidth": 2
          }
         }
        },
        "title": {
         "text": "Comparison of Car Actions by Intersection Type: Center Lane 2024 vs Before/After Center Lane"
        },
        "xaxis": {
         "tickangle": -45,
         "title": {
          "text": "Car Action"
         }
        },
        "yaxis": {
         "title": {
          "text": "Number of Car Actions"
         }
        }
       }
      }
     },
     "metadata": {},
     "output_type": "display_data"
    },
    {
     "data": {
      "application/vnd.plotly.v1+json": {
       "config": {
        "plotlyServerURL": "https://plot.ly"
       },
       "data": [
        {
         "domain": {
          "x": [
           0,
           0.45
          ],
          "y": [
           0,
           1
          ]
         },
         "labels": [
          "Car On Bike",
          "Bike On Pedestrian",
          "Unknown",
          "Bike On Bike"
         ],
         "name": "Center Lane 2024",
         "type": "pie",
         "values": {
          "bdata": "CQIBAQ==",
          "dtype": "i1"
         }
        },
        {
         "domain": {
          "x": [
           0.55,
           1
          ],
          "y": [
           0,
           1
          ]
         },
         "labels": [
          "Car On Bike",
          "Other",
          "Unknown",
          "Bike On Pedestrian",
          "Bike On Bike"
         ],
         "name": "Before/After Center Lane",
         "type": "pie",
         "values": {
          "bdata": "jwAYAAkACQACAA==",
          "dtype": "i2"
         }
        }
       ],
       "layout": {
        "annotations": [
         {
          "font": {
           "size": 16
          },
          "showarrow": false,
          "text": "Crash Party Types<br>on Center Lane 2024",
          "x": 0.225,
          "xanchor": "center",
          "xref": "paper",
          "y": 1,
          "yanchor": "bottom",
          "yref": "paper"
         },
         {
          "font": {
           "size": 16
          },
          "showarrow": false,
          "text": "Crash Party Types<br>(Before/After Center Lane)",
          "x": 0.775,
          "xanchor": "center",
          "xref": "paper",
          "y": 1,
          "yanchor": "bottom",
          "yref": "paper"
         }
        ],
        "template": {
         "data": {
          "bar": [
           {
            "error_x": {
             "color": "#2a3f5f"
            },
            "error_y": {
             "color": "#2a3f5f"
            },
            "marker": {
             "line": {
              "color": "#E5ECF6",
              "width": 0.5
             },
             "pattern": {
              "fillmode": "overlay",
              "size": 10,
              "solidity": 0.2
             }
            },
            "type": "bar"
           }
          ],
          "barpolar": [
           {
            "marker": {
             "line": {
              "color": "#E5ECF6",
              "width": 0.5
             },
             "pattern": {
              "fillmode": "overlay",
              "size": 10,
              "solidity": 0.2
             }
            },
            "type": "barpolar"
           }
          ],
          "carpet": [
           {
            "aaxis": {
             "endlinecolor": "#2a3f5f",
             "gridcolor": "white",
             "linecolor": "white",
             "minorgridcolor": "white",
             "startlinecolor": "#2a3f5f"
            },
            "baxis": {
             "endlinecolor": "#2a3f5f",
             "gridcolor": "white",
             "linecolor": "white",
             "minorgridcolor": "white",
             "startlinecolor": "#2a3f5f"
            },
            "type": "carpet"
           }
          ],
          "choropleth": [
           {
            "colorbar": {
             "outlinewidth": 0,
             "ticks": ""
            },
            "type": "choropleth"
           }
          ],
          "contour": [
           {
            "colorbar": {
             "outlinewidth": 0,
             "ticks": ""
            },
            "colorscale": [
             [
              0,
              "#0d0887"
             ],
             [
              0.1111111111111111,
              "#46039f"
             ],
             [
              0.2222222222222222,
              "#7201a8"
             ],
             [
              0.3333333333333333,
              "#9c179e"
             ],
             [
              0.4444444444444444,
              "#bd3786"
             ],
             [
              0.5555555555555556,
              "#d8576b"
             ],
             [
              0.6666666666666666,
              "#ed7953"
             ],
             [
              0.7777777777777778,
              "#fb9f3a"
             ],
             [
              0.8888888888888888,
              "#fdca26"
             ],
             [
              1,
              "#f0f921"
             ]
            ],
            "type": "contour"
           }
          ],
          "contourcarpet": [
           {
            "colorbar": {
             "outlinewidth": 0,
             "ticks": ""
            },
            "type": "contourcarpet"
           }
          ],
          "heatmap": [
           {
            "colorbar": {
             "outlinewidth": 0,
             "ticks": ""
            },
            "colorscale": [
             [
              0,
              "#0d0887"
             ],
             [
              0.1111111111111111,
              "#46039f"
             ],
             [
              0.2222222222222222,
              "#7201a8"
             ],
             [
              0.3333333333333333,
              "#9c179e"
             ],
             [
              0.4444444444444444,
              "#bd3786"
             ],
             [
              0.5555555555555556,
              "#d8576b"
             ],
             [
              0.6666666666666666,
              "#ed7953"
             ],
             [
              0.7777777777777778,
              "#fb9f3a"
             ],
             [
              0.8888888888888888,
              "#fdca26"
             ],
             [
              1,
              "#f0f921"
             ]
            ],
            "type": "heatmap"
           }
          ],
          "histogram": [
           {
            "marker": {
             "pattern": {
              "fillmode": "overlay",
              "size": 10,
              "solidity": 0.2
             }
            },
            "type": "histogram"
           }
          ],
          "histogram2d": [
           {
            "colorbar": {
             "outlinewidth": 0,
             "ticks": ""
            },
            "colorscale": [
             [
              0,
              "#0d0887"
             ],
             [
              0.1111111111111111,
              "#46039f"
             ],
             [
              0.2222222222222222,
              "#7201a8"
             ],
             [
              0.3333333333333333,
              "#9c179e"
             ],
             [
              0.4444444444444444,
              "#bd3786"
             ],
             [
              0.5555555555555556,
              "#d8576b"
             ],
             [
              0.6666666666666666,
              "#ed7953"
             ],
             [
              0.7777777777777778,
              "#fb9f3a"
             ],
             [
              0.8888888888888888,
              "#fdca26"
             ],
             [
              1,
              "#f0f921"
             ]
            ],
            "type": "histogram2d"
           }
          ],
          "histogram2dcontour": [
           {
            "colorbar": {
             "outlinewidth": 0,
             "ticks": ""
            },
            "colorscale": [
             [
              0,
              "#0d0887"
             ],
             [
              0.1111111111111111,
              "#46039f"
             ],
             [
              0.2222222222222222,
              "#7201a8"
             ],
             [
              0.3333333333333333,
              "#9c179e"
             ],
             [
              0.4444444444444444,
              "#bd3786"
             ],
             [
              0.5555555555555556,
              "#d8576b"
             ],
             [
              0.6666666666666666,
              "#ed7953"
             ],
             [
              0.7777777777777778,
              "#fb9f3a"
             ],
             [
              0.8888888888888888,
              "#fdca26"
             ],
             [
              1,
              "#f0f921"
             ]
            ],
            "type": "histogram2dcontour"
           }
          ],
          "mesh3d": [
           {
            "colorbar": {
             "outlinewidth": 0,
             "ticks": ""
            },
            "type": "mesh3d"
           }
          ],
          "parcoords": [
           {
            "line": {
             "colorbar": {
              "outlinewidth": 0,
              "ticks": ""
             }
            },
            "type": "parcoords"
           }
          ],
          "pie": [
           {
            "automargin": true,
            "type": "pie"
           }
          ],
          "scatter": [
           {
            "fillpattern": {
             "fillmode": "overlay",
             "size": 10,
             "solidity": 0.2
            },
            "type": "scatter"
           }
          ],
          "scatter3d": [
           {
            "line": {
             "colorbar": {
              "outlinewidth": 0,
              "ticks": ""
             }
            },
            "marker": {
             "colorbar": {
              "outlinewidth": 0,
              "ticks": ""
             }
            },
            "type": "scatter3d"
           }
          ],
          "scattercarpet": [
           {
            "marker": {
             "colorbar": {
              "outlinewidth": 0,
              "ticks": ""
             }
            },
            "type": "scattercarpet"
           }
          ],
          "scattergeo": [
           {
            "marker": {
             "colorbar": {
              "outlinewidth": 0,
              "ticks": ""
             }
            },
            "type": "scattergeo"
           }
          ],
          "scattergl": [
           {
            "marker": {
             "colorbar": {
              "outlinewidth": 0,
              "ticks": ""
             }
            },
            "type": "scattergl"
           }
          ],
          "scattermap": [
           {
            "marker": {
             "colorbar": {
              "outlinewidth": 0,
              "ticks": ""
             }
            },
            "type": "scattermap"
           }
          ],
          "scattermapbox": [
           {
            "marker": {
             "colorbar": {
              "outlinewidth": 0,
              "ticks": ""
             }
            },
            "type": "scattermapbox"
           }
          ],
          "scatterpolar": [
           {
            "marker": {
             "colorbar": {
              "outlinewidth": 0,
              "ticks": ""
             }
            },
            "type": "scatterpolar"
           }
          ],
          "scatterpolargl": [
           {
            "marker": {
             "colorbar": {
              "outlinewidth": 0,
              "ticks": ""
             }
            },
            "type": "scatterpolargl"
           }
          ],
          "scatterternary": [
           {
            "marker": {
             "colorbar": {
              "outlinewidth": 0,
              "ticks": ""
             }
            },
            "type": "scatterternary"
           }
          ],
          "surface": [
           {
            "colorbar": {
             "outlinewidth": 0,
             "ticks": ""
            },
            "colorscale": [
             [
              0,
              "#0d0887"
             ],
             [
              0.1111111111111111,
              "#46039f"
             ],
             [
              0.2222222222222222,
              "#7201a8"
             ],
             [
              0.3333333333333333,
              "#9c179e"
             ],
             [
              0.4444444444444444,
              "#bd3786"
             ],
             [
              0.5555555555555556,
              "#d8576b"
             ],
             [
              0.6666666666666666,
              "#ed7953"
             ],
             [
              0.7777777777777778,
              "#fb9f3a"
             ],
             [
              0.8888888888888888,
              "#fdca26"
             ],
             [
              1,
              "#f0f921"
             ]
            ],
            "type": "surface"
           }
          ],
          "table": [
           {
            "cells": {
             "fill": {
              "color": "#EBF0F8"
             },
             "line": {
              "color": "white"
             }
            },
            "header": {
             "fill": {
              "color": "#C8D4E3"
             },
             "line": {
              "color": "white"
             }
            },
            "type": "table"
           }
          ]
         },
         "layout": {
          "annotationdefaults": {
           "arrowcolor": "#2a3f5f",
           "arrowhead": 0,
           "arrowwidth": 1
          },
          "autotypenumbers": "strict",
          "coloraxis": {
           "colorbar": {
            "outlinewidth": 0,
            "ticks": ""
           }
          },
          "colorscale": {
           "diverging": [
            [
             0,
             "#8e0152"
            ],
            [
             0.1,
             "#c51b7d"
            ],
            [
             0.2,
             "#de77ae"
            ],
            [
             0.3,
             "#f1b6da"
            ],
            [
             0.4,
             "#fde0ef"
            ],
            [
             0.5,
             "#f7f7f7"
            ],
            [
             0.6,
             "#e6f5d0"
            ],
            [
             0.7,
             "#b8e186"
            ],
            [
             0.8,
             "#7fbc41"
            ],
            [
             0.9,
             "#4d9221"
            ],
            [
             1,
             "#276419"
            ]
           ],
           "sequential": [
            [
             0,
             "#0d0887"
            ],
            [
             0.1111111111111111,
             "#46039f"
            ],
            [
             0.2222222222222222,
             "#7201a8"
            ],
            [
             0.3333333333333333,
             "#9c179e"
            ],
            [
             0.4444444444444444,
             "#bd3786"
            ],
            [
             0.5555555555555556,
             "#d8576b"
            ],
            [
             0.6666666666666666,
             "#ed7953"
            ],
            [
             0.7777777777777778,
             "#fb9f3a"
            ],
            [
             0.8888888888888888,
             "#fdca26"
            ],
            [
             1,
             "#f0f921"
            ]
           ],
           "sequentialminus": [
            [
             0,
             "#0d0887"
            ],
            [
             0.1111111111111111,
             "#46039f"
            ],
            [
             0.2222222222222222,
             "#7201a8"
            ],
            [
             0.3333333333333333,
             "#9c179e"
            ],
            [
             0.4444444444444444,
             "#bd3786"
            ],
            [
             0.5555555555555556,
             "#d8576b"
            ],
            [
             0.6666666666666666,
             "#ed7953"
            ],
            [
             0.7777777777777778,
             "#fb9f3a"
            ],
            [
             0.8888888888888888,
             "#fdca26"
            ],
            [
             1,
             "#f0f921"
            ]
           ]
          },
          "colorway": [
           "#636efa",
           "#EF553B",
           "#00cc96",
           "#ab63fa",
           "#FFA15A",
           "#19d3f3",
           "#FF6692",
           "#B6E880",
           "#FF97FF",
           "#FECB52"
          ],
          "font": {
           "color": "#2a3f5f"
          },
          "geo": {
           "bgcolor": "white",
           "lakecolor": "white",
           "landcolor": "#E5ECF6",
           "showlakes": true,
           "showland": true,
           "subunitcolor": "white"
          },
          "hoverlabel": {
           "align": "left"
          },
          "hovermode": "closest",
          "mapbox": {
           "style": "light"
          },
          "paper_bgcolor": "white",
          "plot_bgcolor": "#E5ECF6",
          "polar": {
           "angularaxis": {
            "gridcolor": "white",
            "linecolor": "white",
            "ticks": ""
           },
           "bgcolor": "#E5ECF6",
           "radialaxis": {
            "gridcolor": "white",
            "linecolor": "white",
            "ticks": ""
           }
          },
          "scene": {
           "xaxis": {
            "backgroundcolor": "#E5ECF6",
            "gridcolor": "white",
            "gridwidth": 2,
            "linecolor": "white",
            "showbackground": true,
            "ticks": "",
            "zerolinecolor": "white"
           },
           "yaxis": {
            "backgroundcolor": "#E5ECF6",
            "gridcolor": "white",
            "gridwidth": 2,
            "linecolor": "white",
            "showbackground": true,
            "ticks": "",
            "zerolinecolor": "white"
           },
           "zaxis": {
            "backgroundcolor": "#E5ECF6",
            "gridcolor": "white",
            "gridwidth": 2,
            "linecolor": "white",
            "showbackground": true,
            "ticks": "",
            "zerolinecolor": "white"
           }
          },
          "shapedefaults": {
           "line": {
            "color": "#2a3f5f"
           }
          },
          "ternary": {
           "aaxis": {
            "gridcolor": "white",
            "linecolor": "white",
            "ticks": ""
           },
           "baxis": {
            "gridcolor": "white",
            "linecolor": "white",
            "ticks": ""
           },
           "bgcolor": "#E5ECF6",
           "caxis": {
            "gridcolor": "white",
            "linecolor": "white",
            "ticks": ""
           }
          },
          "title": {
           "x": 0.05
          },
          "xaxis": {
           "automargin": true,
           "gridcolor": "white",
           "linecolor": "white",
           "ticks": "",
           "title": {
            "standoff": 15
           },
           "zerolinecolor": "white",
           "zerolinewidth": 2
          },
          "yaxis": {
           "automargin": true,
           "gridcolor": "white",
           "linecolor": "white",
           "ticks": "",
           "title": {
            "standoff": 15
           },
           "zerolinecolor": "white",
           "zerolinewidth": 2
          }
         }
        },
        "title": {
         "text": "Comparison of Crash Party Types: Center Lane 2024 vs Before/After Center Lane"
        }
       }
      }
     },
     "metadata": {},
     "output_type": "display_data"
    },
    {
     "data": {
      "application/vnd.plotly.v1+json": {
       "config": {
        "plotlyServerURL": "https://plot.ly"
       },
       "data": [
        {
         "domain": {
          "x": [
           0,
           0.45
          ],
          "y": [
           0,
           1
          ]
         },
         "labels": [
          "Injury (Other Visible)",
          "Injury (Complaint of Pain)",
          "Injury (Severe)"
         ],
         "name": "Center Lane 2024",
         "type": "pie",
         "values": {
          "bdata": "BwUB",
          "dtype": "i1"
         }
        },
        {
         "domain": {
          "x": [
           0.55,
           1
          ],
          "y": [
           0,
           1
          ]
         },
         "labels": [
          "Injury (Complaint of Pain)",
          "Injury (Other Visible)",
          "Injury (Severe)"
         ],
         "name": "Before/After Center Lane",
         "type": "pie",
         "values": {
          "bdata": "W1IO",
          "dtype": "i1"
         }
        }
       ],
       "layout": {
        "annotations": [
         {
          "font": {
           "size": 16
          },
          "showarrow": false,
          "text": "Severity of Bike Crashes<br>Center Lane 2024",
          "x": 0.225,
          "xanchor": "center",
          "xref": "paper",
          "y": 1,
          "yanchor": "bottom",
          "yref": "paper"
         },
         {
          "font": {
           "size": 16
          },
          "showarrow": false,
          "text": "Severity of Bike Crashes<br>Valencia Before/After Center Lane",
          "x": 0.775,
          "xanchor": "center",
          "xref": "paper",
          "y": 1,
          "yanchor": "bottom",
          "yref": "paper"
         }
        ],
        "template": {
         "data": {
          "bar": [
           {
            "error_x": {
             "color": "#2a3f5f"
            },
            "error_y": {
             "color": "#2a3f5f"
            },
            "marker": {
             "line": {
              "color": "#E5ECF6",
              "width": 0.5
             },
             "pattern": {
              "fillmode": "overlay",
              "size": 10,
              "solidity": 0.2
             }
            },
            "type": "bar"
           }
          ],
          "barpolar": [
           {
            "marker": {
             "line": {
              "color": "#E5ECF6",
              "width": 0.5
             },
             "pattern": {
              "fillmode": "overlay",
              "size": 10,
              "solidity": 0.2
             }
            },
            "type": "barpolar"
           }
          ],
          "carpet": [
           {
            "aaxis": {
             "endlinecolor": "#2a3f5f",
             "gridcolor": "white",
             "linecolor": "white",
             "minorgridcolor": "white",
             "startlinecolor": "#2a3f5f"
            },
            "baxis": {
             "endlinecolor": "#2a3f5f",
             "gridcolor": "white",
             "linecolor": "white",
             "minorgridcolor": "white",
             "startlinecolor": "#2a3f5f"
            },
            "type": "carpet"
           }
          ],
          "choropleth": [
           {
            "colorbar": {
             "outlinewidth": 0,
             "ticks": ""
            },
            "type": "choropleth"
           }
          ],
          "contour": [
           {
            "colorbar": {
             "outlinewidth": 0,
             "ticks": ""
            },
            "colorscale": [
             [
              0,
              "#0d0887"
             ],
             [
              0.1111111111111111,
              "#46039f"
             ],
             [
              0.2222222222222222,
              "#7201a8"
             ],
             [
              0.3333333333333333,
              "#9c179e"
             ],
             [
              0.4444444444444444,
              "#bd3786"
             ],
             [
              0.5555555555555556,
              "#d8576b"
             ],
             [
              0.6666666666666666,
              "#ed7953"
             ],
             [
              0.7777777777777778,
              "#fb9f3a"
             ],
             [
              0.8888888888888888,
              "#fdca26"
             ],
             [
              1,
              "#f0f921"
             ]
            ],
            "type": "contour"
           }
          ],
          "contourcarpet": [
           {
            "colorbar": {
             "outlinewidth": 0,
             "ticks": ""
            },
            "type": "contourcarpet"
           }
          ],
          "heatmap": [
           {
            "colorbar": {
             "outlinewidth": 0,
             "ticks": ""
            },
            "colorscale": [
             [
              0,
              "#0d0887"
             ],
             [
              0.1111111111111111,
              "#46039f"
             ],
             [
              0.2222222222222222,
              "#7201a8"
             ],
             [
              0.3333333333333333,
              "#9c179e"
             ],
             [
              0.4444444444444444,
              "#bd3786"
             ],
             [
              0.5555555555555556,
              "#d8576b"
             ],
             [
              0.6666666666666666,
              "#ed7953"
             ],
             [
              0.7777777777777778,
              "#fb9f3a"
             ],
             [
              0.8888888888888888,
              "#fdca26"
             ],
             [
              1,
              "#f0f921"
             ]
            ],
            "type": "heatmap"
           }
          ],
          "histogram": [
           {
            "marker": {
             "pattern": {
              "fillmode": "overlay",
              "size": 10,
              "solidity": 0.2
             }
            },
            "type": "histogram"
           }
          ],
          "histogram2d": [
           {
            "colorbar": {
             "outlinewidth": 0,
             "ticks": ""
            },
            "colorscale": [
             [
              0,
              "#0d0887"
             ],
             [
              0.1111111111111111,
              "#46039f"
             ],
             [
              0.2222222222222222,
              "#7201a8"
             ],
             [
              0.3333333333333333,
              "#9c179e"
             ],
             [
              0.4444444444444444,
              "#bd3786"
             ],
             [
              0.5555555555555556,
              "#d8576b"
             ],
             [
              0.6666666666666666,
              "#ed7953"
             ],
             [
              0.7777777777777778,
              "#fb9f3a"
             ],
             [
              0.8888888888888888,
              "#fdca26"
             ],
             [
              1,
              "#f0f921"
             ]
            ],
            "type": "histogram2d"
           }
          ],
          "histogram2dcontour": [
           {
            "colorbar": {
             "outlinewidth": 0,
             "ticks": ""
            },
            "colorscale": [
             [
              0,
              "#0d0887"
             ],
             [
              0.1111111111111111,
              "#46039f"
             ],
             [
              0.2222222222222222,
              "#7201a8"
             ],
             [
              0.3333333333333333,
              "#9c179e"
             ],
             [
              0.4444444444444444,
              "#bd3786"
             ],
             [
              0.5555555555555556,
              "#d8576b"
             ],
             [
              0.6666666666666666,
              "#ed7953"
             ],
             [
              0.7777777777777778,
              "#fb9f3a"
             ],
             [
              0.8888888888888888,
              "#fdca26"
             ],
             [
              1,
              "#f0f921"
             ]
            ],
            "type": "histogram2dcontour"
           }
          ],
          "mesh3d": [
           {
            "colorbar": {
             "outlinewidth": 0,
             "ticks": ""
            },
            "type": "mesh3d"
           }
          ],
          "parcoords": [
           {
            "line": {
             "colorbar": {
              "outlinewidth": 0,
              "ticks": ""
             }
            },
            "type": "parcoords"
           }
          ],
          "pie": [
           {
            "automargin": true,
            "type": "pie"
           }
          ],
          "scatter": [
           {
            "fillpattern": {
             "fillmode": "overlay",
             "size": 10,
             "solidity": 0.2
            },
            "type": "scatter"
           }
          ],
          "scatter3d": [
           {
            "line": {
             "colorbar": {
              "outlinewidth": 0,
              "ticks": ""
             }
            },
            "marker": {
             "colorbar": {
              "outlinewidth": 0,
              "ticks": ""
             }
            },
            "type": "scatter3d"
           }
          ],
          "scattercarpet": [
           {
            "marker": {
             "colorbar": {
              "outlinewidth": 0,
              "ticks": ""
             }
            },
            "type": "scattercarpet"
           }
          ],
          "scattergeo": [
           {
            "marker": {
             "colorbar": {
              "outlinewidth": 0,
              "ticks": ""
             }
            },
            "type": "scattergeo"
           }
          ],
          "scattergl": [
           {
            "marker": {
             "colorbar": {
              "outlinewidth": 0,
              "ticks": ""
             }
            },
            "type": "scattergl"
           }
          ],
          "scattermap": [
           {
            "marker": {
             "colorbar": {
              "outlinewidth": 0,
              "ticks": ""
             }
            },
            "type": "scattermap"
           }
          ],
          "scattermapbox": [
           {
            "marker": {
             "colorbar": {
              "outlinewidth": 0,
              "ticks": ""
             }
            },
            "type": "scattermapbox"
           }
          ],
          "scatterpolar": [
           {
            "marker": {
             "colorbar": {
              "outlinewidth": 0,
              "ticks": ""
             }
            },
            "type": "scatterpolar"
           }
          ],
          "scatterpolargl": [
           {
            "marker": {
             "colorbar": {
              "outlinewidth": 0,
              "ticks": ""
             }
            },
            "type": "scatterpolargl"
           }
          ],
          "scatterternary": [
           {
            "marker": {
             "colorbar": {
              "outlinewidth": 0,
              "ticks": ""
             }
            },
            "type": "scatterternary"
           }
          ],
          "surface": [
           {
            "colorbar": {
             "outlinewidth": 0,
             "ticks": ""
            },
            "colorscale": [
             [
              0,
              "#0d0887"
             ],
             [
              0.1111111111111111,
              "#46039f"
             ],
             [
              0.2222222222222222,
              "#7201a8"
             ],
             [
              0.3333333333333333,
              "#9c179e"
             ],
             [
              0.4444444444444444,
              "#bd3786"
             ],
             [
              0.5555555555555556,
              "#d8576b"
             ],
             [
              0.6666666666666666,
              "#ed7953"
             ],
             [
              0.7777777777777778,
              "#fb9f3a"
             ],
             [
              0.8888888888888888,
              "#fdca26"
             ],
             [
              1,
              "#f0f921"
             ]
            ],
            "type": "surface"
           }
          ],
          "table": [
           {
            "cells": {
             "fill": {
              "color": "#EBF0F8"
             },
             "line": {
              "color": "white"
             }
            },
            "header": {
             "fill": {
              "color": "#C8D4E3"
             },
             "line": {
              "color": "white"
             }
            },
            "type": "table"
           }
          ]
         },
         "layout": {
          "annotationdefaults": {
           "arrowcolor": "#2a3f5f",
           "arrowhead": 0,
           "arrowwidth": 1
          },
          "autotypenumbers": "strict",
          "coloraxis": {
           "colorbar": {
            "outlinewidth": 0,
            "ticks": ""
           }
          },
          "colorscale": {
           "diverging": [
            [
             0,
             "#8e0152"
            ],
            [
             0.1,
             "#c51b7d"
            ],
            [
             0.2,
             "#de77ae"
            ],
            [
             0.3,
             "#f1b6da"
            ],
            [
             0.4,
             "#fde0ef"
            ],
            [
             0.5,
             "#f7f7f7"
            ],
            [
             0.6,
             "#e6f5d0"
            ],
            [
             0.7,
             "#b8e186"
            ],
            [
             0.8,
             "#7fbc41"
            ],
            [
             0.9,
             "#4d9221"
            ],
            [
             1,
             "#276419"
            ]
           ],
           "sequential": [
            [
             0,
             "#0d0887"
            ],
            [
             0.1111111111111111,
             "#46039f"
            ],
            [
             0.2222222222222222,
             "#7201a8"
            ],
            [
             0.3333333333333333,
             "#9c179e"
            ],
            [
             0.4444444444444444,
             "#bd3786"
            ],
            [
             0.5555555555555556,
             "#d8576b"
            ],
            [
             0.6666666666666666,
             "#ed7953"
            ],
            [
             0.7777777777777778,
             "#fb9f3a"
            ],
            [
             0.8888888888888888,
             "#fdca26"
            ],
            [
             1,
             "#f0f921"
            ]
           ],
           "sequentialminus": [
            [
             0,
             "#0d0887"
            ],
            [
             0.1111111111111111,
             "#46039f"
            ],
            [
             0.2222222222222222,
             "#7201a8"
            ],
            [
             0.3333333333333333,
             "#9c179e"
            ],
            [
             0.4444444444444444,
             "#bd3786"
            ],
            [
             0.5555555555555556,
             "#d8576b"
            ],
            [
             0.6666666666666666,
             "#ed7953"
            ],
            [
             0.7777777777777778,
             "#fb9f3a"
            ],
            [
             0.8888888888888888,
             "#fdca26"
            ],
            [
             1,
             "#f0f921"
            ]
           ]
          },
          "colorway": [
           "#636efa",
           "#EF553B",
           "#00cc96",
           "#ab63fa",
           "#FFA15A",
           "#19d3f3",
           "#FF6692",
           "#B6E880",
           "#FF97FF",
           "#FECB52"
          ],
          "font": {
           "color": "#2a3f5f"
          },
          "geo": {
           "bgcolor": "white",
           "lakecolor": "white",
           "landcolor": "#E5ECF6",
           "showlakes": true,
           "showland": true,
           "subunitcolor": "white"
          },
          "hoverlabel": {
           "align": "left"
          },
          "hovermode": "closest",
          "mapbox": {
           "style": "light"
          },
          "paper_bgcolor": "white",
          "plot_bgcolor": "#E5ECF6",
          "polar": {
           "angularaxis": {
            "gridcolor": "white",
            "linecolor": "white",
            "ticks": ""
           },
           "bgcolor": "#E5ECF6",
           "radialaxis": {
            "gridcolor": "white",
            "linecolor": "white",
            "ticks": ""
           }
          },
          "scene": {
           "xaxis": {
            "backgroundcolor": "#E5ECF6",
            "gridcolor": "white",
            "gridwidth": 2,
            "linecolor": "white",
            "showbackground": true,
            "ticks": "",
            "zerolinecolor": "white"
           },
           "yaxis": {
            "backgroundcolor": "#E5ECF6",
            "gridcolor": "white",
            "gridwidth": 2,
            "linecolor": "white",
            "showbackground": true,
            "ticks": "",
            "zerolinecolor": "white"
           },
           "zaxis": {
            "backgroundcolor": "#E5ECF6",
            "gridcolor": "white",
            "gridwidth": 2,
            "linecolor": "white",
            "showbackground": true,
            "ticks": "",
            "zerolinecolor": "white"
           }
          },
          "shapedefaults": {
           "line": {
            "color": "#2a3f5f"
           }
          },
          "ternary": {
           "aaxis": {
            "gridcolor": "white",
            "linecolor": "white",
            "ticks": ""
           },
           "baxis": {
            "gridcolor": "white",
            "linecolor": "white",
            "ticks": ""
           },
           "bgcolor": "#E5ECF6",
           "caxis": {
            "gridcolor": "white",
            "linecolor": "white",
            "ticks": ""
           }
          },
          "title": {
           "x": 0.05
          },
          "xaxis": {
           "automargin": true,
           "gridcolor": "white",
           "linecolor": "white",
           "ticks": "",
           "title": {
            "standoff": 15
           },
           "zerolinecolor": "white",
           "zerolinewidth": 2
          },
          "yaxis": {
           "automargin": true,
           "gridcolor": "white",
           "linecolor": "white",
           "ticks": "",
           "title": {
            "standoff": 15
           },
           "zerolinecolor": "white",
           "zerolinewidth": 2
          }
         }
        },
        "title": {
         "text": "Comparison of Crash Severity: Center Lane 2024 vs Before/After Center Lane"
        }
       }
      }
     },
     "metadata": {},
     "output_type": "display_data"
    },
    {
     "data": {
      "application/vnd.plotly.v1+json": {
       "config": {
        "plotlyServerURL": "https://plot.ly"
       },
       "data": [
        {
         "marker": {
          "color": "#FF5733"
         },
         "name": "Intersection <= 20ft",
         "showlegend": false,
         "type": "bar",
         "x": [
          "SYCAMORE ST",
          "16TH ST",
          "20TH ST",
          "17TH ST",
          "18TH ST",
          "19TH ST",
          "CLARION ALY"
         ],
         "xaxis": "x",
         "y": {
          "bdata": "AwICAQEBAQ==",
          "dtype": "i1"
         },
         "yaxis": "y"
        },
        {
         "marker": {
          "color": "#FFB347"
         },
         "name": "Midblock > 20ft",
         "showlegend": false,
         "type": "bar",
         "x": [
          "SYCAMORE ST",
          "16TH ST",
          "20TH ST",
          "17TH ST",
          "18TH ST",
          "19TH ST",
          "CLARION ALY"
         ],
         "xaxis": "x",
         "y": {
          "bdata": "AQEAAAAAAA==",
          "dtype": "i1"
         },
         "yaxis": "y"
        },
        {
         "marker": {
          "color": "#FF5733"
         },
         "name": "Intersection <= 20ft",
         "showlegend": true,
         "type": "bar",
         "x": [
          "16TH ST",
          "18TH ST",
          "17TH ST",
          "19TH ST",
          "20TH ST",
          "22ND ST",
          "21ST ST",
          "LIBERTY ST",
          "SYCAMORE ST",
          "15TH ST"
         ],
         "xaxis": "x2",
         "y": {
          "bdata": "DQ4NBwsGBwICAA==",
          "dtype": "i1"
         },
         "yaxis": "y2"
        },
        {
         "marker": {
          "color": "#FF8C42"
         },
         "name": "Intersection Rear End <= 150ft",
         "showlegend": true,
         "type": "bar",
         "x": [
          "16TH ST",
          "18TH ST",
          "17TH ST",
          "19TH ST",
          "20TH ST",
          "22ND ST",
          "21ST ST",
          "LIBERTY ST",
          "SYCAMORE ST",
          "15TH ST"
         ],
         "xaxis": "x2",
         "y": {
          "bdata": "AgMBAQABAAEAAA==",
          "dtype": "i1"
         },
         "yaxis": "y2"
        },
        {
         "marker": {
          "color": "#FFB347"
         },
         "name": "Midblock > 20ft",
         "showlegend": true,
         "type": "bar",
         "x": [
          "16TH ST",
          "18TH ST",
          "17TH ST",
          "19TH ST",
          "20TH ST",
          "22ND ST",
          "21ST ST",
          "LIBERTY ST",
          "SYCAMORE ST",
          "15TH ST"
         ],
         "xaxis": "x2",
         "y": {
          "bdata": "ExAPDgcFAgQFBg==",
          "dtype": "i1"
         },
         "yaxis": "y2"
        }
       ],
       "layout": {
        "annotations": [
         {
          "font": {
           "size": 16
          },
          "showarrow": false,
          "text": "Cross Streets by Location Type<br>Center Lane 2024",
          "x": 0.225,
          "xanchor": "center",
          "xref": "paper",
          "y": 1,
          "yanchor": "bottom",
          "yref": "paper"
         },
         {
          "font": {
           "size": 16
          },
          "showarrow": false,
          "text": "Cross Streets by Location Type<br>Before/After Center Lane",
          "x": 0.775,
          "xanchor": "center",
          "xref": "paper",
          "y": 1,
          "yanchor": "bottom",
          "yref": "paper"
         }
        ],
        "barmode": "stack",
        "height": 600,
        "legend": {
         "title": {
          "text": "Crash Location Type"
         }
        },
        "template": {
         "data": {
          "bar": [
           {
            "error_x": {
             "color": "#2a3f5f"
            },
            "error_y": {
             "color": "#2a3f5f"
            },
            "marker": {
             "line": {
              "color": "#E5ECF6",
              "width": 0.5
             },
             "pattern": {
              "fillmode": "overlay",
              "size": 10,
              "solidity": 0.2
             }
            },
            "type": "bar"
           }
          ],
          "barpolar": [
           {
            "marker": {
             "line": {
              "color": "#E5ECF6",
              "width": 0.5
             },
             "pattern": {
              "fillmode": "overlay",
              "size": 10,
              "solidity": 0.2
             }
            },
            "type": "barpolar"
           }
          ],
          "carpet": [
           {
            "aaxis": {
             "endlinecolor": "#2a3f5f",
             "gridcolor": "white",
             "linecolor": "white",
             "minorgridcolor": "white",
             "startlinecolor": "#2a3f5f"
            },
            "baxis": {
             "endlinecolor": "#2a3f5f",
             "gridcolor": "white",
             "linecolor": "white",
             "minorgridcolor": "white",
             "startlinecolor": "#2a3f5f"
            },
            "type": "carpet"
           }
          ],
          "choropleth": [
           {
            "colorbar": {
             "outlinewidth": 0,
             "ticks": ""
            },
            "type": "choropleth"
           }
          ],
          "contour": [
           {
            "colorbar": {
             "outlinewidth": 0,
             "ticks": ""
            },
            "colorscale": [
             [
              0,
              "#0d0887"
             ],
             [
              0.1111111111111111,
              "#46039f"
             ],
             [
              0.2222222222222222,
              "#7201a8"
             ],
             [
              0.3333333333333333,
              "#9c179e"
             ],
             [
              0.4444444444444444,
              "#bd3786"
             ],
             [
              0.5555555555555556,
              "#d8576b"
             ],
             [
              0.6666666666666666,
              "#ed7953"
             ],
             [
              0.7777777777777778,
              "#fb9f3a"
             ],
             [
              0.8888888888888888,
              "#fdca26"
             ],
             [
              1,
              "#f0f921"
             ]
            ],
            "type": "contour"
           }
          ],
          "contourcarpet": [
           {
            "colorbar": {
             "outlinewidth": 0,
             "ticks": ""
            },
            "type": "contourcarpet"
           }
          ],
          "heatmap": [
           {
            "colorbar": {
             "outlinewidth": 0,
             "ticks": ""
            },
            "colorscale": [
             [
              0,
              "#0d0887"
             ],
             [
              0.1111111111111111,
              "#46039f"
             ],
             [
              0.2222222222222222,
              "#7201a8"
             ],
             [
              0.3333333333333333,
              "#9c179e"
             ],
             [
              0.4444444444444444,
              "#bd3786"
             ],
             [
              0.5555555555555556,
              "#d8576b"
             ],
             [
              0.6666666666666666,
              "#ed7953"
             ],
             [
              0.7777777777777778,
              "#fb9f3a"
             ],
             [
              0.8888888888888888,
              "#fdca26"
             ],
             [
              1,
              "#f0f921"
             ]
            ],
            "type": "heatmap"
           }
          ],
          "histogram": [
           {
            "marker": {
             "pattern": {
              "fillmode": "overlay",
              "size": 10,
              "solidity": 0.2
             }
            },
            "type": "histogram"
           }
          ],
          "histogram2d": [
           {
            "colorbar": {
             "outlinewidth": 0,
             "ticks": ""
            },
            "colorscale": [
             [
              0,
              "#0d0887"
             ],
             [
              0.1111111111111111,
              "#46039f"
             ],
             [
              0.2222222222222222,
              "#7201a8"
             ],
             [
              0.3333333333333333,
              "#9c179e"
             ],
             [
              0.4444444444444444,
              "#bd3786"
             ],
             [
              0.5555555555555556,
              "#d8576b"
             ],
             [
              0.6666666666666666,
              "#ed7953"
             ],
             [
              0.7777777777777778,
              "#fb9f3a"
             ],
             [
              0.8888888888888888,
              "#fdca26"
             ],
             [
              1,
              "#f0f921"
             ]
            ],
            "type": "histogram2d"
           }
          ],
          "histogram2dcontour": [
           {
            "colorbar": {
             "outlinewidth": 0,
             "ticks": ""
            },
            "colorscale": [
             [
              0,
              "#0d0887"
             ],
             [
              0.1111111111111111,
              "#46039f"
             ],
             [
              0.2222222222222222,
              "#7201a8"
             ],
             [
              0.3333333333333333,
              "#9c179e"
             ],
             [
              0.4444444444444444,
              "#bd3786"
             ],
             [
              0.5555555555555556,
              "#d8576b"
             ],
             [
              0.6666666666666666,
              "#ed7953"
             ],
             [
              0.7777777777777778,
              "#fb9f3a"
             ],
             [
              0.8888888888888888,
              "#fdca26"
             ],
             [
              1,
              "#f0f921"
             ]
            ],
            "type": "histogram2dcontour"
           }
          ],
          "mesh3d": [
           {
            "colorbar": {
             "outlinewidth": 0,
             "ticks": ""
            },
            "type": "mesh3d"
           }
          ],
          "parcoords": [
           {
            "line": {
             "colorbar": {
              "outlinewidth": 0,
              "ticks": ""
             }
            },
            "type": "parcoords"
           }
          ],
          "pie": [
           {
            "automargin": true,
            "type": "pie"
           }
          ],
          "scatter": [
           {
            "fillpattern": {
             "fillmode": "overlay",
             "size": 10,
             "solidity": 0.2
            },
            "type": "scatter"
           }
          ],
          "scatter3d": [
           {
            "line": {
             "colorbar": {
              "outlinewidth": 0,
              "ticks": ""
             }
            },
            "marker": {
             "colorbar": {
              "outlinewidth": 0,
              "ticks": ""
             }
            },
            "type": "scatter3d"
           }
          ],
          "scattercarpet": [
           {
            "marker": {
             "colorbar": {
              "outlinewidth": 0,
              "ticks": ""
             }
            },
            "type": "scattercarpet"
           }
          ],
          "scattergeo": [
           {
            "marker": {
             "colorbar": {
              "outlinewidth": 0,
              "ticks": ""
             }
            },
            "type": "scattergeo"
           }
          ],
          "scattergl": [
           {
            "marker": {
             "colorbar": {
              "outlinewidth": 0,
              "ticks": ""
             }
            },
            "type": "scattergl"
           }
          ],
          "scattermap": [
           {
            "marker": {
             "colorbar": {
              "outlinewidth": 0,
              "ticks": ""
             }
            },
            "type": "scattermap"
           }
          ],
          "scattermapbox": [
           {
            "marker": {
             "colorbar": {
              "outlinewidth": 0,
              "ticks": ""
             }
            },
            "type": "scattermapbox"
           }
          ],
          "scatterpolar": [
           {
            "marker": {
             "colorbar": {
              "outlinewidth": 0,
              "ticks": ""
             }
            },
            "type": "scatterpolar"
           }
          ],
          "scatterpolargl": [
           {
            "marker": {
             "colorbar": {
              "outlinewidth": 0,
              "ticks": ""
             }
            },
            "type": "scatterpolargl"
           }
          ],
          "scatterternary": [
           {
            "marker": {
             "colorbar": {
              "outlinewidth": 0,
              "ticks": ""
             }
            },
            "type": "scatterternary"
           }
          ],
          "surface": [
           {
            "colorbar": {
             "outlinewidth": 0,
             "ticks": ""
            },
            "colorscale": [
             [
              0,
              "#0d0887"
             ],
             [
              0.1111111111111111,
              "#46039f"
             ],
             [
              0.2222222222222222,
              "#7201a8"
             ],
             [
              0.3333333333333333,
              "#9c179e"
             ],
             [
              0.4444444444444444,
              "#bd3786"
             ],
             [
              0.5555555555555556,
              "#d8576b"
             ],
             [
              0.6666666666666666,
              "#ed7953"
             ],
             [
              0.7777777777777778,
              "#fb9f3a"
             ],
             [
              0.8888888888888888,
              "#fdca26"
             ],
             [
              1,
              "#f0f921"
             ]
            ],
            "type": "surface"
           }
          ],
          "table": [
           {
            "cells": {
             "fill": {
              "color": "#EBF0F8"
             },
             "line": {
              "color": "white"
             }
            },
            "header": {
             "fill": {
              "color": "#C8D4E3"
             },
             "line": {
              "color": "white"
             }
            },
            "type": "table"
           }
          ]
         },
         "layout": {
          "annotationdefaults": {
           "arrowcolor": "#2a3f5f",
           "arrowhead": 0,
           "arrowwidth": 1
          },
          "autotypenumbers": "strict",
          "coloraxis": {
           "colorbar": {
            "outlinewidth": 0,
            "ticks": ""
           }
          },
          "colorscale": {
           "diverging": [
            [
             0,
             "#8e0152"
            ],
            [
             0.1,
             "#c51b7d"
            ],
            [
             0.2,
             "#de77ae"
            ],
            [
             0.3,
             "#f1b6da"
            ],
            [
             0.4,
             "#fde0ef"
            ],
            [
             0.5,
             "#f7f7f7"
            ],
            [
             0.6,
             "#e6f5d0"
            ],
            [
             0.7,
             "#b8e186"
            ],
            [
             0.8,
             "#7fbc41"
            ],
            [
             0.9,
             "#4d9221"
            ],
            [
             1,
             "#276419"
            ]
           ],
           "sequential": [
            [
             0,
             "#0d0887"
            ],
            [
             0.1111111111111111,
             "#46039f"
            ],
            [
             0.2222222222222222,
             "#7201a8"
            ],
            [
             0.3333333333333333,
             "#9c179e"
            ],
            [
             0.4444444444444444,
             "#bd3786"
            ],
            [
             0.5555555555555556,
             "#d8576b"
            ],
            [
             0.6666666666666666,
             "#ed7953"
            ],
            [
             0.7777777777777778,
             "#fb9f3a"
            ],
            [
             0.8888888888888888,
             "#fdca26"
            ],
            [
             1,
             "#f0f921"
            ]
           ],
           "sequentialminus": [
            [
             0,
             "#0d0887"
            ],
            [
             0.1111111111111111,
             "#46039f"
            ],
            [
             0.2222222222222222,
             "#7201a8"
            ],
            [
             0.3333333333333333,
             "#9c179e"
            ],
            [
             0.4444444444444444,
             "#bd3786"
            ],
            [
             0.5555555555555556,
             "#d8576b"
            ],
            [
             0.6666666666666666,
             "#ed7953"
            ],
            [
             0.7777777777777778,
             "#fb9f3a"
            ],
            [
             0.8888888888888888,
             "#fdca26"
            ],
            [
             1,
             "#f0f921"
            ]
           ]
          },
          "colorway": [
           "#636efa",
           "#EF553B",
           "#00cc96",
           "#ab63fa",
           "#FFA15A",
           "#19d3f3",
           "#FF6692",
           "#B6E880",
           "#FF97FF",
           "#FECB52"
          ],
          "font": {
           "color": "#2a3f5f"
          },
          "geo": {
           "bgcolor": "white",
           "lakecolor": "white",
           "landcolor": "#E5ECF6",
           "showlakes": true,
           "showland": true,
           "subunitcolor": "white"
          },
          "hoverlabel": {
           "align": "left"
          },
          "hovermode": "closest",
          "mapbox": {
           "style": "light"
          },
          "paper_bgcolor": "white",
          "plot_bgcolor": "#E5ECF6",
          "polar": {
           "angularaxis": {
            "gridcolor": "white",
            "linecolor": "white",
            "ticks": ""
           },
           "bgcolor": "#E5ECF6",
           "radialaxis": {
            "gridcolor": "white",
            "linecolor": "white",
            "ticks": ""
           }
          },
          "scene": {
           "xaxis": {
            "backgroundcolor": "#E5ECF6",
            "gridcolor": "white",
            "gridwidth": 2,
            "linecolor": "white",
            "showbackground": true,
            "ticks": "",
            "zerolinecolor": "white"
           },
           "yaxis": {
            "backgroundcolor": "#E5ECF6",
            "gridcolor": "white",
            "gridwidth": 2,
            "linecolor": "white",
            "showbackground": true,
            "ticks": "",
            "zerolinecolor": "white"
           },
           "zaxis": {
            "backgroundcolor": "#E5ECF6",
            "gridcolor": "white",
            "gridwidth": 2,
            "linecolor": "white",
            "showbackground": true,
            "ticks": "",
            "zerolinecolor": "white"
           }
          },
          "shapedefaults": {
           "line": {
            "color": "#2a3f5f"
           }
          },
          "ternary": {
           "aaxis": {
            "gridcolor": "white",
            "linecolor": "white",
            "ticks": ""
           },
           "baxis": {
            "gridcolor": "white",
            "linecolor": "white",
            "ticks": ""
           },
           "bgcolor": "#E5ECF6",
           "caxis": {
            "gridcolor": "white",
            "linecolor": "white",
            "ticks": ""
           }
          },
          "title": {
           "x": 0.05
          },
          "xaxis": {
           "automargin": true,
           "gridcolor": "white",
           "linecolor": "white",
           "ticks": "",
           "title": {
            "standoff": 15
           },
           "zerolinecolor": "white",
           "zerolinewidth": 2
          },
          "yaxis": {
           "automargin": true,
           "gridcolor": "white",
           "linecolor": "white",
           "ticks": "",
           "title": {
            "standoff": 15
           },
           "zerolinecolor": "white",
           "zerolinewidth": 2
          }
         }
        },
        "title": {
         "text": "Comparison of Crash Locations by Intersection Type: Center Lane 2024 vs Before/After Center Lane"
        },
        "xaxis": {
         "anchor": "y",
         "domain": [
          0,
          0.45
         ],
         "tickangle": -45,
         "title": {
          "text": "Cross Street"
         }
        },
        "xaxis2": {
         "anchor": "y2",
         "domain": [
          0.55,
          1
         ],
         "tickangle": -45,
         "title": {
          "text": "Cross Street"
         }
        },
        "yaxis": {
         "anchor": "x",
         "domain": [
          0,
          1
         ],
         "title": {
          "text": "Number of Crashes"
         }
        },
        "yaxis2": {
         "anchor": "x2",
         "domain": [
          0,
          1
         ],
         "title": {
          "text": "Number of Crashes"
         }
        }
       }
      }
     },
     "metadata": {},
     "output_type": "display_data"
    },
    {
     "name": "stdout",
     "output_type": "stream",
     "text": [
      "Center lane crashes in 2024: 13\n",
      "Valencia crashes before center lane: 187\n"
     ]
    }
   ],
   "source": [
    "# index the data for center bike lane crashes\n",
    "center_lane_crashes = crash_data[ii_valencia & ii_center_bike_lane_geo & ii_center_bike_lane_time & ii_bike_crashes]\n",
    "center_lane_crashes_2024 = center_lane_crashes[center_lane_crashes['collision_datetime'].dt.year == 2024]\n",
    "valencia_crashes = crash_data[ii_valencia & ii_bike_crashes & ii_center_bike_lane_geo & ~ii_center_bike_lane_time]\n",
    "\n",
    "#valencia_crashes_2019 = valencia_crashes[valencia_crashes['collision_datetime'].dt.year == 2019]\n",
    "#valencia_crashes = valencia_crashes_2019\n",
    "\n",
    "#FIXME: make it clear the geo bounds on these plots\n",
    "\n",
    "# Metrics for center lane crashes in 2024\n",
    "center_crash_types = center_lane_crashes_2024['type_of_collision'].value_counts()\n",
    "center_crash_severity = center_lane_crashes_2024['collision_severity'].value_counts()\n",
    "\n",
    "# Metrics for Valencia crashes (before center bike lane)\n",
    "valencia_crash_types = valencia_crashes['type_of_collision'].value_counts()\n",
    "valencia_crash_severity = valencia_crashes['collision_severity'].value_counts()\n",
    "\n",
    "# Create subplots for crash types comparison\n",
    "fig_types_pie = make_subplots(rows=1, cols=2, specs=[[{'type': 'domain'}, {'type': 'domain'}]],\n",
    "                              subplot_titles=[\"Types of Bike Crashes<br>Center Lane 2024\", \"Types of Bike Crashes<br>Valencia Before/After Center Lane\"])\n",
    "\n",
    "# Center lane crashes 2024 pie chart\n",
    "fig_types_pie.add_trace(\n",
    "    go.Pie(labels=center_crash_types.index, values=center_crash_types.values, name=\"Center Lane 2024\"),\n",
    "    row=1, col=1\n",
    ")\n",
    "\n",
    "# Valencia crashes (before center lane) pie chart\n",
    "fig_types_pie.add_trace(\n",
    "    go.Pie(labels=valencia_crash_types.index, values=valencia_crash_types.values, name=\"Before/After Center Lane\"),\n",
    "    row=1, col=2\n",
    ")\n",
    "\n",
    "# Update layout\n",
    "fig_types_pie.update_layout(title_text=\"Comparison of Crash Types: Center Lane 2024 vs Before/After Center Lane\")\n",
    "fig_types_pie.show()\n",
    "\n",
    "\n",
    "# Create subplots for car action comparison\n",
    "\n",
    "# Get the cross streets from center lane crashes 2024 with intersection data\n",
    "center_car_action = center_lane_crashes_2024.groupby(['car_action']).size()\n",
    "center_car_action = center_car_action.dropna()\n",
    "center_car_action_sorted = center_car_action.sort_values(ascending=False)\n",
    "top_10_center_actions = center_car_action_sorted.head(5).index\n",
    "center_car_action = center_car_action.loc[top_10_center_actions]\n",
    "\n",
    "# Get the car actions from valencia crashes (before center lane)\n",
    "valencia_car_action = valencia_crashes.groupby(['car_action']).size()\n",
    "valencia_car_action = valencia_car_action.dropna()\n",
    "valencia_car_action_sorted = valencia_car_action.sort_values(ascending=False)\n",
    "top_10_valencia_actions = valencia_car_action_sorted.head(5).index\n",
    "valencia_car_action = valencia_car_action.loc[top_10_valencia_actions]\n",
    "\n",
    "fig_car_action = make_subplots(\n",
    "    rows=1, cols=2, \n",
    "    specs=[[{'type': 'domain'}, {'type': 'domain'}]],\n",
    "    subplot_titles=[\"Top 5 Car Actions<br>Center Lane 2024\", \"Top 5 Car Actions<br>Before/After Center Lane\"]\n",
    ")\n",
    "\n",
    "# Center lane 2024 car actions pie chart\n",
    "fig_car_action.add_trace(\n",
    "    go.Pie(\n",
    "        labels=center_car_action.index,\n",
    "        values=center_car_action.values,\n",
    "        name=\"Center Lane 2024\"\n",
    "    ),\n",
    "    row=1, col=1\n",
    ")\n",
    "\n",
    "# Before center lane car actions pie chart\n",
    "fig_car_action.add_trace(\n",
    "    go.Pie(\n",
    "        labels=valencia_car_action.index,\n",
    "        values=valencia_car_action.values,\n",
    "        name=\"Before Center Lane\"\n",
    "    ),\n",
    "    row=1, col=2\n",
    ")\n",
    "\n",
    "# Update layout for stacked bar charts\n",
    "fig_car_action.update_layout(\n",
    "    title_text=\"Comparison of Car Actions by Intersection Type: Center Lane 2024 vs Before/After Center Lane\",\n",
    "    height=600,\n",
    "    barmode='stack',\n",
    "    legend_title='Car Action Type'\n",
    ")\n",
    "\n",
    "# Update x-axis labels for both subplots\n",
    "fig_car_action.update_xaxes(tickangle=-45, title_text=\"Car Action\")\n",
    "fig_car_action.update_yaxes(title_text=\"Number of Car Actions\")\n",
    "\n",
    "fig_car_action.show()\n",
    "\n",
    "# look at crash party type\n",
    "# Create subplots for crash party type comparison\n",
    "fig_party_pie = make_subplots(rows=1, cols=2, specs=[[{'type': 'domain'}, {'type': 'domain'}]],\n",
    "                              subplot_titles=[\"Crash Party Types<br>on Center Lane 2024\", \"Crash Party Types<br>(Before/After Center Lane)\"])\n",
    "\n",
    "# Get crash party types for Center Lane 2024 and All Streets\n",
    "center_lane_party_types = center_lane_crashes_2024['crash_party_type'].value_counts()\n",
    "valencia_party_types = valencia_crashes['crash_party_type'].value_counts()\n",
    "\n",
    "# Format labels by replacing underscores with spaces and capitalizing\n",
    "center_lane_party_labels = [label.replace('_', ' ').title() for label in center_lane_party_types.index]\n",
    "valencia_party_labels = [label.replace('_', ' ').title() for label in valencia_party_types.index]\n",
    "\n",
    "# Center Lane 2024 pie chart\n",
    "fig_party_pie.add_trace(\n",
    "    go.Pie(labels=center_lane_party_labels, values=center_lane_party_types.values, name=\"Center Lane 2024\"),\n",
    "    row=1, col=1\n",
    ")\n",
    "\n",
    "# Before Center Lane pie chart\n",
    "fig_party_pie.add_trace(\n",
    "    go.Pie(labels=valencia_party_labels, values=valencia_party_types.values, name=\"Before/After Center Lane\"),\n",
    "    row=1, col=2\n",
    ")\n",
    "\n",
    "# Update layout\n",
    "fig_party_pie.update_layout(title_text=\"Comparison of Crash Party Types: Center Lane 2024 vs Before/After Center Lane\")\n",
    "fig_party_pie.show()\n",
    "\n",
    "\n",
    "# Create subplots for crash severity comparison\n",
    "fig_severity_pie = make_subplots(rows=1, cols=2, specs=[[{'type': 'domain'}, {'type': 'domain'}]],\n",
    "                                 subplot_titles=[\"Severity of Bike Crashes<br>Center Lane 2024\", \"Severity of Bike Crashes<br>Valencia Before/After Center Lane\"])\n",
    "\n",
    "# Center lane crashes 2024 pie chart\n",
    "fig_severity_pie.add_trace(\n",
    "    go.Pie(labels=center_crash_severity.index, values=center_crash_severity.values, name=\"Center Lane 2024\"),\n",
    "    row=1, col=1\n",
    ")\n",
    "\n",
    "# Valencia crashes (before center lane) pie chart\n",
    "fig_severity_pie.add_trace(\n",
    "    go.Pie(labels=valencia_crash_severity.index, values=valencia_crash_severity.values, name=\"Before/After Center Lane\"),\n",
    "    row=1, col=2\n",
    ")\n",
    "\n",
    "# Update layout\n",
    "fig_severity_pie.update_layout(title_text=\"Comparison of Crash Severity: Center Lane 2024 vs Before/After Center Lane\")\n",
    "fig_severity_pie.show()\n",
    "\n",
    "# Get the cross streets from center lane crashes 2024 with intersection data\n",
    "center_cross_street_intersection_data = center_lane_crashes_2024.groupby(['secondary_rd', 'intersection']).size().unstack(fill_value=0)\n",
    "center_cross_street_intersection_data = center_cross_street_intersection_data.dropna()\n",
    "center_cross_street_totals = center_cross_street_intersection_data.sum(axis=1).sort_values(ascending=False)\n",
    "top_10_center_streets = center_cross_street_totals.head(10).index\n",
    "center_cross_street_intersection_data = center_cross_street_intersection_data.loc[top_10_center_streets]\n",
    "\n",
    "# Get the cross streets from valencia crashes (before center lane) with intersection data\n",
    "valencia_cross_street_intersection_data = valencia_crashes.groupby(['secondary_rd', 'intersection']).size().unstack(fill_value=0)\n",
    "valencia_cross_street_intersection_data = valencia_cross_street_intersection_data.dropna()\n",
    "valencia_cross_street_totals = valencia_cross_street_intersection_data.sum(axis=1).sort_values(ascending=False)\n",
    "top_10_valencia_streets = valencia_cross_street_totals.head(10).index\n",
    "valencia_cross_street_intersection_data = valencia_cross_street_intersection_data.loc[top_10_valencia_streets]\n",
    "\n",
    "# Create subplots for cross streets comparison with stacked bars\n",
    "fig_cross_streets = make_subplots(\n",
    "    rows=1, cols=2, \n",
    "    specs=[[{'type': 'xy'}, {'type': 'xy'}]],\n",
    "    subplot_titles=[\"Cross Streets by Location Type<br>Center Lane 2024\", \"Cross Streets by Location Type<br>Before/After Center Lane\"]\n",
    ")\n",
    "\n",
    "# Define colors for each intersection type (same as the main stacked chart)\n",
    "colors = {\n",
    "    'Midblock > 20ft': '#FFB347',           # vibrant orange-red\n",
    "    'Intersection <= 20ft': '#FF5733',      # orange\n",
    "    'Intersection Rear End <= 150ft': '#FF8C42'  # light orange\n",
    "}\n",
    "\n",
    "# Add center lane 2024 stacked bars\n",
    "for intersection_type in center_cross_street_intersection_data.columns:\n",
    "    fig_cross_streets.add_trace(\n",
    "        go.Bar(\n",
    "            name=intersection_type,\n",
    "            x=center_cross_street_intersection_data.index,\n",
    "            y=center_cross_street_intersection_data[intersection_type],\n",
    "            marker_color=colors.get(intersection_type, 'gray'),\n",
    "            showlegend=False\n",
    "        ),\n",
    "        row=1, col=1\n",
    "    )\n",
    "\n",
    "# Add before center lane stacked bars\n",
    "for intersection_type in valencia_cross_street_intersection_data.columns:\n",
    "    fig_cross_streets.add_trace(\n",
    "        go.Bar(\n",
    "            name=intersection_type,\n",
    "            x=valencia_cross_street_intersection_data.index,\n",
    "            y=valencia_cross_street_intersection_data[intersection_type],\n",
    "            marker_color=colors.get(intersection_type, 'gray'),\n",
    "            showlegend=True\n",
    "        ),\n",
    "        row=1, col=2\n",
    "    )\n",
    "\n",
    "# Update layout for stacked bar charts\n",
    "fig_cross_streets.update_layout(\n",
    "    title_text=\"Comparison of Crash Locations by Intersection Type: Center Lane 2024 vs Before/After Center Lane\",\n",
    "    height=600,\n",
    "    barmode='stack',\n",
    "    legend_title='Crash Location Type'\n",
    ")\n",
    "\n",
    "# Update x-axis labels for both subplots\n",
    "fig_cross_streets.update_xaxes(tickangle=-45, title_text=\"Cross Street\")\n",
    "fig_cross_streets.update_yaxes(title_text=\"Number of Crashes\")\n",
    "\n",
    "fig_cross_streets.show()\n",
    "\n",
    "# Print summary statistics for comparison\n",
    "print(f\"Center lane crashes in 2024: {len(center_lane_crashes_2024)}\")\n",
    "print(f\"Valencia crashes before center lane: {len(valencia_crashes)}\")"
   ]
  },
  {
   "cell_type": "code",
   "execution_count": 11,
   "id": "8f6f01c1",
   "metadata": {},
   "outputs": [
    {
     "name": "stdout",
     "output_type": "stream",
     "text": [
      "2024 Sycamore Street crash details:\n",
      "   collision_datetime type_of_collision          collision_severity  \\\n",
      "0 2024-09-16 08:30:00         Sideswipe  Injury (Complaint of Pain)   \n",
      "1 2024-03-17 22:23:00           Head-On             Injury (Severe)   \n",
      "2 2024-06-28 19:25:00         Broadside      Injury (Other Visible)   \n",
      "3 2024-09-04 18:00:00         Broadside  Injury (Complaint of Pain)   \n",
      "\n",
      "            car_action          bike_action  \n",
      "0     Making Left Turn  Proceeding Straight  \n",
      "1  Proceeding Straight           Not Stated  \n",
      "2        Making U Turn  Proceeding Straight  \n",
      "3     Making Left Turn  Proceeding Straight  \n"
     ]
    }
   ],
   "source": [
    "# grab the center lane crash that occured on \"SYCAMORE ST\"\n",
    "\n",
    "sycamore_crash = center_lane_crashes_2024[center_lane_crashes_2024['secondary_rd'] == 'SYCAMORE ST'].reset_index(drop=True)\n",
    "\n",
    "print(f\"2024 Sycamore Street crash details:\\n{sycamore_crash[['collision_datetime', 'type_of_collision', 'collision_severity', 'car_action','bike_action']].head()}\")"
   ]
  },
  {
   "cell_type": "markdown",
   "id": "bd6c611a",
   "metadata": {},
   "source": [
    "### Quantifying Bicycle Traffic Patterns on Valencia Street\n",
    "\n",
    "To evaluate the safety impact of the center-running bike lane, it’s useful to measure crashes relative to the number of bike trips—essentially, crashes per ride. This metric and accompanying analysis will aim to answer the investigation questions, *did the center-running bike lane improve safety for cyclists?* and, *did the center-running bike lane lead to an increase in the number of cyclists using Valencia Street?*\n",
    "\n",
    "Answering these questions requires reliable estimates of how many cyclists used Valencia during the pilot. The SFMTA operates several automated bike counters across the city, including two on Valencia Street. However, these sensors can be [unreliable](https://www.sfmta.com/reports/average-weekday-bike-volumes-dashboard) due to downtime and incomplete coverage. To supplement this, Bay Wheels trip data—specifically rides starting or ending on Valencia—was used as a proxy for broader cycling activity.\n",
    "\n",
    "BaBike counter data shows only a slight increase in traffic past the Duboce–14th Street counter compared with the previous two years. In contrast, Bay Wheels trips to and from Valencia rose sharply during the center-running lane period: in 2024, rides increased by 25.6% compared with 2022. While this suggests greater cycling activity, the Bay Wheels dataset has limitations based on the assumptions stated previously, and furthermore, the increase could partly reflect growing use of the bike-share service itself rather than the new infrastructure. This analysis does not attempt to separate those effects.\n"
   ]
  },
  {
   "cell_type": "code",
   "execution_count": 12,
   "id": "94b0e377",
   "metadata": {},
   "outputs": [],
   "source": [
    "# look at bike counter data\n",
    "valencia_locations = ['Valencia St. SB Between Duboce & 14th',\n",
    "                      'Valencia St. Totem NB Between 16th & 17th']\n",
    "\n",
    "bike_counter_structure = {}\n",
    "for location in valencia_locations:\n",
    "    # Filter bike counter data for each location\n",
    "    filtered_data = bike_counter_data[bike_counter_data['Counter Location'].str.contains(location, case=False, na=False)]\n",
    "    \n",
    "    # Add to the structure\n",
    "    bike_counter_structure[location] = filtered_data\n"
   ]
  },
  {
   "cell_type": "code",
   "execution_count": 13,
   "id": "bdce88a6",
   "metadata": {},
   "outputs": [
    {
     "data": {
      "application/vnd.plotly.v1+json": {
       "config": {
        "plotlyServerURL": "https://plot.ly"
       },
       "data": [
        {
         "connectgaps": false,
         "line": {
          "color": "blue",
          "width": 2
         },
         "mode": "lines+markers",
         "name": "Valencia St. Sb Between Duboce & 14Th",
         "type": "scatter",
         "x": [
          "2018-01",
          "2018-02",
          "2018-03",
          "2018-04",
          "2018-05",
          "2018-06",
          "2018-07",
          "2018-08",
          "2018-09",
          "2018-10",
          "2018-11",
          "2018-12",
          "2019-01",
          "2019-02",
          "2019-03",
          "2019-04",
          "2019-05",
          "2019-06",
          "2019-07",
          "2019-08",
          "2019-09",
          "2019-10",
          "2019-11",
          "2019-12",
          "2020-01",
          "2020-02",
          "2020-03",
          "2020-04",
          "2020-05",
          "2020-06",
          "2020-07",
          "2020-08",
          "2020-09",
          "2020-10",
          "2020-11",
          "2020-12",
          "2021-01",
          "2021-02",
          "2021-03",
          "2021-04",
          "2021-05",
          "2021-06",
          "2021-07",
          "2021-08",
          "2021-09",
          "2021-10",
          "2021-11",
          "2021-12",
          "2022-01",
          "2022-02",
          "2022-03",
          "2022-04",
          "2022-05",
          "2022-06",
          "2022-07",
          "2022-08",
          "2022-09",
          "2022-10",
          "2022-11",
          "2022-12",
          "2023-01",
          "2023-02",
          "2023-03",
          "2023-04",
          "2023-05",
          "2023-06",
          "2023-07",
          "2023-08",
          "2023-09",
          "2023-10",
          "2023-11",
          "2023-12",
          "2024-01",
          "2024-02",
          "2024-03",
          "2024-04",
          "2024-05",
          "2024-06",
          "2024-07",
          "2024-08",
          "2024-09",
          "2024-10",
          "2024-11",
          "2024-12",
          "2025-01",
          "2025-02",
          "2025-03"
         ],
         "y": {
          "bdata": "AAAAAAAyzUAAAAAAQAnQQAAAAAAA4cxAAAAAAADU0EAAAAAAQFnSQAAAAACAUNJAAAAAAACW0UAAAAAAQDPSQAAAAADARdFAAAAAAIBV00AAAAAAgL3JQAAAAACAochAAAAAAABKzUAAAAAAAFXHQAAAAACApc1AAAAAAMA70UAAAAAAgKLQQAAAAADAu9BAAAAAAIBX0UAAAAAAgL/RQAAAAAAAhtFAAAAAAIBH00AAAAAAgOvOQAAAAACAvMVAAAAAAAAA+H8AAAAAAAD4fwAAAAAAAPh/AAAAAAAA+H8AAAAAAAD4fwAAAAAAAPh/AAAAAAAA+H8AAAAAAAD4fwAAAAAAAPh/AAAAAAAA+H8AAAAAAAD4fwAAAAAAAPh/AAAAAAAA+H8AAAAAAAD4fwAAAAAAAPh/AAAAAAAA+H8AAAAAAAD4fwAAAAAAAPh/AAAAAAAA+H8AAAAAAAD4fwAAAAAAAPh/AAAAAAAA+H8AAAAAAAD4fwAAAAAAAPh/AAAAAADCtEAAAAAAwJbXQAAAAAAAhNpAAAAAAMBz2UAAAAAAwMDaQAAAAAAAY9pAAAAAAEAe2EAAAAAAwIvbQAAAAAAANdxAAAAAAMBc3EAAAAAAQJDWQAAAAADAbtBAAAAAAMA/0kAAAAAAQI7SQAAAAABAfdNAAAAAAABT10AAAAAAwATXQAAAAAAAfNZAAAAAAMCq1kAAAAAAgB3aQAAAAABA4NlAAAAAAMCm2kAAAAAAAHzXQAAAAABA/9JAAAAAAEAa00AAAAAAgHPTQAAAAACAYNZAAAAAAABq2EAAAAAAADTaQAAAAABAWtpAAAAAAEAe2UAAAAAAwA/aQAAAAAAAQttAAAAAAECb3UAAAAAAgOHUQAAAAACAntJAAAAAAABY2EAAAAAAACHTQAAAAACAN9dA",
          "dtype": "f8"
         }
        },
        {
         "marker": {
          "color": "blue"
         },
         "name": "Yearly Total Valencia St. Sb Between Duboce & 14Th",
         "opacity": 0.6,
         "text": {
          "bdata": "AAAAAJCECEEAAAAAmL4HQQAAAADYkRFBAAAAAJjOEEEAAAAAHNcRQQAAAAAgrPBA",
          "dtype": "f8"
         },
         "textposition": "auto",
         "type": "bar",
         "visible": false,
         "x": {
          "bdata": "4gfjB+YH5wfoB+kH",
          "dtype": "i2"
         },
         "y": {
          "bdata": "khADANP3AgB2ZAQApjMEAMd1BADCCgEA",
          "dtype": "i4"
         }
        },
        {
         "connectgaps": false,
         "line": {
          "color": "orange",
          "width": 2
         },
         "mode": "lines+markers",
         "name": "Valencia St. Totem Nb Between 16Th & 17Th",
         "type": "scatter",
         "x": [
          "2018-01",
          "2018-02",
          "2018-03",
          "2018-04",
          "2018-05",
          "2018-06",
          "2018-07",
          "2018-08",
          "2018-09",
          "2018-10",
          "2018-11",
          "2018-12",
          "2019-01",
          "2019-02",
          "2019-03",
          "2019-04",
          "2019-05",
          "2019-06",
          "2019-07",
          "2019-08",
          "2019-09",
          "2019-10",
          "2019-11",
          "2019-12",
          "2020-01",
          "2020-02",
          "2020-03",
          "2020-04",
          "2020-05",
          "2020-06",
          "2020-07",
          "2020-08",
          "2020-09",
          "2020-10",
          "2020-11",
          "2020-12",
          "2021-01",
          "2021-02",
          "2021-03",
          "2021-04",
          "2021-05",
          "2021-06",
          "2021-07",
          "2021-08",
          "2021-09",
          "2021-10",
          "2021-11",
          "2021-12",
          "2022-01",
          "2022-02",
          "2022-03",
          "2022-04",
          "2022-05",
          "2022-06",
          "2022-07",
          "2022-08",
          "2022-09",
          "2022-10",
          "2022-11",
          "2022-12",
          "2023-01",
          "2023-02",
          "2023-03",
          "2023-04",
          "2023-05",
          "2023-06",
          "2023-07",
          "2023-08",
          "2023-09",
          "2023-10",
          "2023-11",
          "2023-12",
          "2024-01",
          "2024-02",
          "2024-03",
          "2024-04",
          "2024-05",
          "2024-06"
         ],
         "y": {
          "bdata": "XJAAAF6YAAB6jwAA+qMAAC+4AACPsQAAtq0AAFyyAAAGqwAA9b0AAI2CAABrgAAAT4wAAJlsAABukAAAR6AAAAWZAAClqAAAjK4AAPKwAACbrwAAWMMAADujAABzbQAATZ8AAFu4AAAZgQAAploAAHN2AADagQAAXnwAABdiAAD+ZAAApG4AAClXAAAeWAAAZFoAAE5SAABIXwAAYGIAAGNsAACnbgAA624AACp6AAAjhgAArXoAAENuAAAYUAAA6WQAABtwAADbfwAAo3YAAPF+AACLeQAAGHIAANCBAABRfwAAXn0AAGxlAAC/TQAAAhwAAAAAAAAAAAAAAAAAAAAAAAAAAAAAAAAAAAAAAAAAAAAAAAAAAAAAAAAAAAAAAAAAAAAAAAAAAAAABAAAAAAAAAAAAAAA",
          "dtype": "i4"
         }
        },
        {
         "marker": {
          "color": "orange"
         },
         "name": "Yearly Total Valencia St. Totem Nb Between 16Th & 17Th",
         "opacity": 0.6,
         "text": {
          "bdata": "AAAAAMRHHkEAAAAAmDkdQQAAAABINBZBAAAAAJDGE0EAAAAAAJ8VQQAAAAAAArxAAAAAAAAAEEA=",
          "dtype": "f8"
         },
         "textposition": "auto",
         "type": "bar",
         "visible": false,
         "x": {
          "bdata": "4gfjB+QH5QfmB+cH6Ac=",
          "dtype": "i2"
         },
         "y": {
          "bdata": "8ZEHAGZOBwASjQUApPEEAMBnBQACHAAABAAAAA==",
          "dtype": "i4"
         }
        }
       ],
       "layout": {
        "height": 500,
        "legend": {
         "x": 0.65,
         "y": 0.99
        },
        "template": {
         "data": {
          "bar": [
           {
            "error_x": {
             "color": "#2a3f5f"
            },
            "error_y": {
             "color": "#2a3f5f"
            },
            "marker": {
             "line": {
              "color": "#E5ECF6",
              "width": 0.5
             },
             "pattern": {
              "fillmode": "overlay",
              "size": 10,
              "solidity": 0.2
             }
            },
            "type": "bar"
           }
          ],
          "barpolar": [
           {
            "marker": {
             "line": {
              "color": "#E5ECF6",
              "width": 0.5
             },
             "pattern": {
              "fillmode": "overlay",
              "size": 10,
              "solidity": 0.2
             }
            },
            "type": "barpolar"
           }
          ],
          "carpet": [
           {
            "aaxis": {
             "endlinecolor": "#2a3f5f",
             "gridcolor": "white",
             "linecolor": "white",
             "minorgridcolor": "white",
             "startlinecolor": "#2a3f5f"
            },
            "baxis": {
             "endlinecolor": "#2a3f5f",
             "gridcolor": "white",
             "linecolor": "white",
             "minorgridcolor": "white",
             "startlinecolor": "#2a3f5f"
            },
            "type": "carpet"
           }
          ],
          "choropleth": [
           {
            "colorbar": {
             "outlinewidth": 0,
             "ticks": ""
            },
            "type": "choropleth"
           }
          ],
          "contour": [
           {
            "colorbar": {
             "outlinewidth": 0,
             "ticks": ""
            },
            "colorscale": [
             [
              0,
              "#0d0887"
             ],
             [
              0.1111111111111111,
              "#46039f"
             ],
             [
              0.2222222222222222,
              "#7201a8"
             ],
             [
              0.3333333333333333,
              "#9c179e"
             ],
             [
              0.4444444444444444,
              "#bd3786"
             ],
             [
              0.5555555555555556,
              "#d8576b"
             ],
             [
              0.6666666666666666,
              "#ed7953"
             ],
             [
              0.7777777777777778,
              "#fb9f3a"
             ],
             [
              0.8888888888888888,
              "#fdca26"
             ],
             [
              1,
              "#f0f921"
             ]
            ],
            "type": "contour"
           }
          ],
          "contourcarpet": [
           {
            "colorbar": {
             "outlinewidth": 0,
             "ticks": ""
            },
            "type": "contourcarpet"
           }
          ],
          "heatmap": [
           {
            "colorbar": {
             "outlinewidth": 0,
             "ticks": ""
            },
            "colorscale": [
             [
              0,
              "#0d0887"
             ],
             [
              0.1111111111111111,
              "#46039f"
             ],
             [
              0.2222222222222222,
              "#7201a8"
             ],
             [
              0.3333333333333333,
              "#9c179e"
             ],
             [
              0.4444444444444444,
              "#bd3786"
             ],
             [
              0.5555555555555556,
              "#d8576b"
             ],
             [
              0.6666666666666666,
              "#ed7953"
             ],
             [
              0.7777777777777778,
              "#fb9f3a"
             ],
             [
              0.8888888888888888,
              "#fdca26"
             ],
             [
              1,
              "#f0f921"
             ]
            ],
            "type": "heatmap"
           }
          ],
          "histogram": [
           {
            "marker": {
             "pattern": {
              "fillmode": "overlay",
              "size": 10,
              "solidity": 0.2
             }
            },
            "type": "histogram"
           }
          ],
          "histogram2d": [
           {
            "colorbar": {
             "outlinewidth": 0,
             "ticks": ""
            },
            "colorscale": [
             [
              0,
              "#0d0887"
             ],
             [
              0.1111111111111111,
              "#46039f"
             ],
             [
              0.2222222222222222,
              "#7201a8"
             ],
             [
              0.3333333333333333,
              "#9c179e"
             ],
             [
              0.4444444444444444,
              "#bd3786"
             ],
             [
              0.5555555555555556,
              "#d8576b"
             ],
             [
              0.6666666666666666,
              "#ed7953"
             ],
             [
              0.7777777777777778,
              "#fb9f3a"
             ],
             [
              0.8888888888888888,
              "#fdca26"
             ],
             [
              1,
              "#f0f921"
             ]
            ],
            "type": "histogram2d"
           }
          ],
          "histogram2dcontour": [
           {
            "colorbar": {
             "outlinewidth": 0,
             "ticks": ""
            },
            "colorscale": [
             [
              0,
              "#0d0887"
             ],
             [
              0.1111111111111111,
              "#46039f"
             ],
             [
              0.2222222222222222,
              "#7201a8"
             ],
             [
              0.3333333333333333,
              "#9c179e"
             ],
             [
              0.4444444444444444,
              "#bd3786"
             ],
             [
              0.5555555555555556,
              "#d8576b"
             ],
             [
              0.6666666666666666,
              "#ed7953"
             ],
             [
              0.7777777777777778,
              "#fb9f3a"
             ],
             [
              0.8888888888888888,
              "#fdca26"
             ],
             [
              1,
              "#f0f921"
             ]
            ],
            "type": "histogram2dcontour"
           }
          ],
          "mesh3d": [
           {
            "colorbar": {
             "outlinewidth": 0,
             "ticks": ""
            },
            "type": "mesh3d"
           }
          ],
          "parcoords": [
           {
            "line": {
             "colorbar": {
              "outlinewidth": 0,
              "ticks": ""
             }
            },
            "type": "parcoords"
           }
          ],
          "pie": [
           {
            "automargin": true,
            "type": "pie"
           }
          ],
          "scatter": [
           {
            "fillpattern": {
             "fillmode": "overlay",
             "size": 10,
             "solidity": 0.2
            },
            "type": "scatter"
           }
          ],
          "scatter3d": [
           {
            "line": {
             "colorbar": {
              "outlinewidth": 0,
              "ticks": ""
             }
            },
            "marker": {
             "colorbar": {
              "outlinewidth": 0,
              "ticks": ""
             }
            },
            "type": "scatter3d"
           }
          ],
          "scattercarpet": [
           {
            "marker": {
             "colorbar": {
              "outlinewidth": 0,
              "ticks": ""
             }
            },
            "type": "scattercarpet"
           }
          ],
          "scattergeo": [
           {
            "marker": {
             "colorbar": {
              "outlinewidth": 0,
              "ticks": ""
             }
            },
            "type": "scattergeo"
           }
          ],
          "scattergl": [
           {
            "marker": {
             "colorbar": {
              "outlinewidth": 0,
              "ticks": ""
             }
            },
            "type": "scattergl"
           }
          ],
          "scattermap": [
           {
            "marker": {
             "colorbar": {
              "outlinewidth": 0,
              "ticks": ""
             }
            },
            "type": "scattermap"
           }
          ],
          "scattermapbox": [
           {
            "marker": {
             "colorbar": {
              "outlinewidth": 0,
              "ticks": ""
             }
            },
            "type": "scattermapbox"
           }
          ],
          "scatterpolar": [
           {
            "marker": {
             "colorbar": {
              "outlinewidth": 0,
              "ticks": ""
             }
            },
            "type": "scatterpolar"
           }
          ],
          "scatterpolargl": [
           {
            "marker": {
             "colorbar": {
              "outlinewidth": 0,
              "ticks": ""
             }
            },
            "type": "scatterpolargl"
           }
          ],
          "scatterternary": [
           {
            "marker": {
             "colorbar": {
              "outlinewidth": 0,
              "ticks": ""
             }
            },
            "type": "scatterternary"
           }
          ],
          "surface": [
           {
            "colorbar": {
             "outlinewidth": 0,
             "ticks": ""
            },
            "colorscale": [
             [
              0,
              "#0d0887"
             ],
             [
              0.1111111111111111,
              "#46039f"
             ],
             [
              0.2222222222222222,
              "#7201a8"
             ],
             [
              0.3333333333333333,
              "#9c179e"
             ],
             [
              0.4444444444444444,
              "#bd3786"
             ],
             [
              0.5555555555555556,
              "#d8576b"
             ],
             [
              0.6666666666666666,
              "#ed7953"
             ],
             [
              0.7777777777777778,
              "#fb9f3a"
             ],
             [
              0.8888888888888888,
              "#fdca26"
             ],
             [
              1,
              "#f0f921"
             ]
            ],
            "type": "surface"
           }
          ],
          "table": [
           {
            "cells": {
             "fill": {
              "color": "#EBF0F8"
             },
             "line": {
              "color": "white"
             }
            },
            "header": {
             "fill": {
              "color": "#C8D4E3"
             },
             "line": {
              "color": "white"
             }
            },
            "type": "table"
           }
          ]
         },
         "layout": {
          "annotationdefaults": {
           "arrowcolor": "#2a3f5f",
           "arrowhead": 0,
           "arrowwidth": 1
          },
          "autotypenumbers": "strict",
          "coloraxis": {
           "colorbar": {
            "outlinewidth": 0,
            "ticks": ""
           }
          },
          "colorscale": {
           "diverging": [
            [
             0,
             "#8e0152"
            ],
            [
             0.1,
             "#c51b7d"
            ],
            [
             0.2,
             "#de77ae"
            ],
            [
             0.3,
             "#f1b6da"
            ],
            [
             0.4,
             "#fde0ef"
            ],
            [
             0.5,
             "#f7f7f7"
            ],
            [
             0.6,
             "#e6f5d0"
            ],
            [
             0.7,
             "#b8e186"
            ],
            [
             0.8,
             "#7fbc41"
            ],
            [
             0.9,
             "#4d9221"
            ],
            [
             1,
             "#276419"
            ]
           ],
           "sequential": [
            [
             0,
             "#0d0887"
            ],
            [
             0.1111111111111111,
             "#46039f"
            ],
            [
             0.2222222222222222,
             "#7201a8"
            ],
            [
             0.3333333333333333,
             "#9c179e"
            ],
            [
             0.4444444444444444,
             "#bd3786"
            ],
            [
             0.5555555555555556,
             "#d8576b"
            ],
            [
             0.6666666666666666,
             "#ed7953"
            ],
            [
             0.7777777777777778,
             "#fb9f3a"
            ],
            [
             0.8888888888888888,
             "#fdca26"
            ],
            [
             1,
             "#f0f921"
            ]
           ],
           "sequentialminus": [
            [
             0,
             "#0d0887"
            ],
            [
             0.1111111111111111,
             "#46039f"
            ],
            [
             0.2222222222222222,
             "#7201a8"
            ],
            [
             0.3333333333333333,
             "#9c179e"
            ],
            [
             0.4444444444444444,
             "#bd3786"
            ],
            [
             0.5555555555555556,
             "#d8576b"
            ],
            [
             0.6666666666666666,
             "#ed7953"
            ],
            [
             0.7777777777777778,
             "#fb9f3a"
            ],
            [
             0.8888888888888888,
             "#fdca26"
            ],
            [
             1,
             "#f0f921"
            ]
           ]
          },
          "colorway": [
           "#636efa",
           "#EF553B",
           "#00cc96",
           "#ab63fa",
           "#FFA15A",
           "#19d3f3",
           "#FF6692",
           "#B6E880",
           "#FF97FF",
           "#FECB52"
          ],
          "font": {
           "color": "#2a3f5f"
          },
          "geo": {
           "bgcolor": "white",
           "lakecolor": "white",
           "landcolor": "#E5ECF6",
           "showlakes": true,
           "showland": true,
           "subunitcolor": "white"
          },
          "hoverlabel": {
           "align": "left"
          },
          "hovermode": "closest",
          "mapbox": {
           "style": "light"
          },
          "paper_bgcolor": "white",
          "plot_bgcolor": "#E5ECF6",
          "polar": {
           "angularaxis": {
            "gridcolor": "white",
            "linecolor": "white",
            "ticks": ""
           },
           "bgcolor": "#E5ECF6",
           "radialaxis": {
            "gridcolor": "white",
            "linecolor": "white",
            "ticks": ""
           }
          },
          "scene": {
           "xaxis": {
            "backgroundcolor": "#E5ECF6",
            "gridcolor": "white",
            "gridwidth": 2,
            "linecolor": "white",
            "showbackground": true,
            "ticks": "",
            "zerolinecolor": "white"
           },
           "yaxis": {
            "backgroundcolor": "#E5ECF6",
            "gridcolor": "white",
            "gridwidth": 2,
            "linecolor": "white",
            "showbackground": true,
            "ticks": "",
            "zerolinecolor": "white"
           },
           "zaxis": {
            "backgroundcolor": "#E5ECF6",
            "gridcolor": "white",
            "gridwidth": 2,
            "linecolor": "white",
            "showbackground": true,
            "ticks": "",
            "zerolinecolor": "white"
           }
          },
          "shapedefaults": {
           "line": {
            "color": "#2a3f5f"
           }
          },
          "ternary": {
           "aaxis": {
            "gridcolor": "white",
            "linecolor": "white",
            "ticks": ""
           },
           "baxis": {
            "gridcolor": "white",
            "linecolor": "white",
            "ticks": ""
           },
           "bgcolor": "#E5ECF6",
           "caxis": {
            "gridcolor": "white",
            "linecolor": "white",
            "ticks": ""
           }
          },
          "title": {
           "x": 0.05
          },
          "xaxis": {
           "automargin": true,
           "gridcolor": "white",
           "linecolor": "white",
           "ticks": "",
           "title": {
            "standoff": 15
           },
           "zerolinecolor": "white",
           "zerolinewidth": 2
          },
          "yaxis": {
           "automargin": true,
           "gridcolor": "white",
           "linecolor": "white",
           "ticks": "",
           "title": {
            "standoff": 15
           },
           "zerolinecolor": "white",
           "zerolinewidth": 2
          }
         }
        },
        "title": {
         "text": "Rides vs Month/Year (Valencia Street Counters)"
        },
        "updatemenus": [
         {
          "buttons": [
           {
            "args": [
             {
              "visible": [
               true,
               false
              ]
             },
             {
              "title": "Bike Counter Data: Monthly Trends",
              "xaxis.title": "Month/Year",
              "yaxis.title": "Monthly Ride Count"
             }
            ],
            "label": "Monthly View",
            "method": "update"
           },
           {
            "args": [
             {
              "visible": [
               false,
               true
              ]
             },
             {
              "title": "Bike Counter Data: Yearly Totals",
              "xaxis.title": "Year",
              "yaxis.title": "Yearly Total Rides"
             }
            ],
            "label": "Yearly View",
            "method": "update"
           }
          ],
          "direction": "left",
          "pad": {
           "r": 10,
           "t": 10
          },
          "showactive": true,
          "type": "buttons",
          "x": 0.01,
          "xanchor": "left",
          "y": 1.15,
          "yanchor": "top"
         }
        ],
        "xaxis": {
         "title": {
          "text": "Month/Year"
         }
        },
        "yaxis": {
         "title": {
          "text": "Ride Count"
         }
        }
       }
      }
     },
     "metadata": {},
     "output_type": "display_data"
    }
   ],
   "source": [
    "# Extract year and month for grouping and plot both locations on the same axes\n",
    "fig_rides_month = go.Figure()\n",
    "\n",
    "colors = {\n",
    "    'Valencia St. SB Between Duboce & 14th': 'blue',\n",
    "    'Valencia St. Totem NB Between 16th & 17th': 'orange'\n",
    "}\n",
    "\n",
    "for key, valencia_counter_data_orig in bike_counter_structure.items():\n",
    "\n",
    "    # Create a copy to avoid the warning\n",
    "    valencia_counter_data = valencia_counter_data_orig.copy()\n",
    "    \n",
    "    # Convert 'Month of Date' to datetime\n",
    "    valencia_counter_data['Month of Date'] = pd.to_datetime(valencia_counter_data['Month of Date'], format='%B %Y', errors='coerce')\n",
    "    \n",
    "    # Extract year and month\n",
    "    valencia_counter_data['year_month'] = valencia_counter_data['Month of Date'].dt.to_period('M')\n",
    "    \n",
    "    # Group by year and month\n",
    "    rides_by_month = valencia_counter_data.groupby('year_month')['Total Bike Count'].sum().reset_index(name='ride_count')\n",
    "    \n",
    "    # Create a complete date range from min to max date\n",
    "    date_range = pd.period_range(\n",
    "        start=rides_by_month['year_month'].min(),\n",
    "        end=rides_by_month['year_month'].max(),\n",
    "        freq='M'\n",
    "    )\n",
    "    \n",
    "    # Create a complete dataframe with all months\n",
    "    complete_df = pd.DataFrame({'year_month': date_range})\n",
    "    \n",
    "    # Merge with actual data, leaving missing values as NaN\n",
    "    rides_by_month = complete_df.merge(rides_by_month, on='year_month', how='left')\n",
    "    \n",
    "    # Convert 'year_month' to string for Plotly compatibility\n",
    "    rides_by_month['year_month'] = rides_by_month['year_month'].astype(str)\n",
    "\n",
    "    # get yearly totals\n",
    "    yearly_totals = valencia_counter_data.copy()\n",
    "    yearly_totals['year'] = yearly_totals['year_month'].dt.year\n",
    "    yearly_totals = yearly_totals.groupby('year')['Total Bike Count'].sum().reset_index(name='yearly_total')\n",
    "\n",
    "    \n",
    "    # Add each location's trace to the same figure\n",
    "    fig_rides_month.add_trace(\n",
    "        go.Scatter(\n",
    "            x=rides_by_month['year_month'],\n",
    "            y=rides_by_month['ride_count'],\n",
    "            mode='lines+markers',\n",
    "            name=key.replace(\"_\", \" \").title(),\n",
    "            connectgaps=False,  # This will break the line at NaN values\n",
    "            line=dict(width=2, color=colors.get(key, 'gray'))\n",
    "        )\n",
    "    )\n",
    "\n",
    "    # Add yearly bar chart (hidden by default)\n",
    "    fig_rides_month.add_trace(\n",
    "        go.Bar(\n",
    "            x=yearly_totals['year'],\n",
    "            y=yearly_totals['yearly_total'],\n",
    "            name='Yearly Total ' + key.replace(\"_\", \" \").title(),\n",
    "            marker_color=colors.get(key, 'gray'),\n",
    "            opacity=0.6,\n",
    "            text=yearly_totals['yearly_total'],\n",
    "            textposition='auto',\n",
    "            visible=False  # Hidden by default\n",
    "        )\n",
    "    )\n",
    "\n",
    "\n",
    "# Add toggle buttons\n",
    "fig_rides_month.update_layout(\n",
    "    title='Rides vs Month/Year (Valencia Street Counters)',\n",
    "    xaxis_title='Time Period',\n",
    "    yaxis_title='Ride Count',\n",
    "    updatemenus=[\n",
    "        dict(\n",
    "            type=\"buttons\",\n",
    "            direction=\"left\",\n",
    "            buttons=list([\n",
    "                dict(\n",
    "                    args=[{\"visible\": [True, False]},\n",
    "                          {\"title\": \"Bike Counter Data: Monthly Trends\",\n",
    "                           \"xaxis.title\": \"Month/Year\",\n",
    "                           \"yaxis.title\": \"Monthly Ride Count\"}],\n",
    "                    label=\"Monthly View\",\n",
    "                    method=\"update\"\n",
    "                ),\n",
    "                dict(\n",
    "                    args=[{\"visible\": [False, True]},\n",
    "                          {\"title\": \"Bike Counter Data: Yearly Totals\",\n",
    "                           \"xaxis.title\": \"Year\",\n",
    "                           \"yaxis.title\": \"Yearly Total Rides\"}],\n",
    "                    label=\"Yearly View\",\n",
    "                    method=\"update\"\n",
    "                )\n",
    "            ]),\n",
    "            pad={\"r\": 10, \"t\": 10},\n",
    "            showactive=True,\n",
    "            x=0.01,\n",
    "            xanchor=\"left\",\n",
    "            y=1.15,\n",
    "            yanchor=\"top\"\n",
    "        ),\n",
    "    ],\n",
    "    legend=dict(\n",
    "        x=0.65,\n",
    "        y=0.99\n",
    "    ),\n",
    "    height=500\n",
    ")\n",
    "\n",
    "    \n",
    "\n",
    "fig_rides_month.update_layout(\n",
    "    title='Rides vs Month/Year (Valencia Street Counters)',\n",
    "    xaxis_title='Month/Year',\n",
    "    yaxis_title='Ride Count'\n",
    ")\n",
    "fig_rides_month.show()\n",
    "\n",
    "\n"
   ]
  },
  {
   "cell_type": "code",
   "execution_count": 19,
   "id": "b90db32d",
   "metadata": {},
   "outputs": [
    {
     "data": {
      "application/vnd.plotly.v1+json": {
       "config": {
        "plotlyServerURL": "https://plot.ly"
       },
       "data": [
        {
         "connectgaps": false,
         "line": {
          "color": "green",
          "width": 2
         },
         "marker": {
          "size": 6
         },
         "mode": "lines+markers",
         "name": "Monthly (Bay Wheels)",
         "type": "scatter",
         "visible": true,
         "x": [
          "2018-01",
          "2018-02",
          "2018-03",
          "2018-04",
          "2018-05",
          "2018-06",
          "2018-07",
          "2018-08",
          "2018-09",
          "2018-10",
          "2018-11",
          "2018-12",
          "2019-01",
          "2019-02",
          "2019-03",
          "2019-04",
          "2019-05",
          "2019-06",
          "2019-07",
          "2019-08",
          "2019-09",
          "2019-10",
          "2019-11",
          "2019-12",
          "2020-01",
          "2020-02",
          "2020-03",
          "2020-04",
          "2020-05",
          "2020-06",
          "2020-07",
          "2020-08",
          "2020-09",
          "2020-10",
          "2020-11",
          "2020-12",
          "2021-01",
          "2021-02",
          "2021-03",
          "2021-04",
          "2021-05",
          "2021-06",
          "2021-07",
          "2021-08",
          "2021-09",
          "2021-10",
          "2021-11",
          "2021-12",
          "2022-01",
          "2022-02",
          "2022-03",
          "2022-04",
          "2022-05",
          "2022-06",
          "2022-07",
          "2022-08",
          "2022-09",
          "2022-10",
          "2022-11",
          "2022-12",
          "2023-01",
          "2023-02",
          "2023-03",
          "2023-04",
          "2023-05",
          "2023-06",
          "2023-07",
          "2023-08",
          "2023-09",
          "2023-10",
          "2023-11",
          "2023-12",
          "2024-01",
          "2024-02",
          "2024-03",
          "2024-04",
          "2024-05",
          "2024-06",
          "2024-07",
          "2024-08",
          "2024-09",
          "2024-10",
          "2024-11",
          "2024-12",
          "2025-01",
          "2025-02",
          "2025-03",
          "2025-04",
          "2025-05",
          "2025-06"
         ],
         "y": {
          "bdata": "AAAAAAATukAAAAAAAFe8QAAAAAAA1LxAAAAAAICDwEAAAAAAgDDHQAAAAAAAPslAAAAAAIAIyEAAAAAAAJrHQAAAAACA4MpAAAAAAADfyUAAAAAAAGDBQAAAAACAb8FAAAAAAAAiyEAAAAAAAEDFQAAAAAAAsc9AAAAAAAAgzEAAAAAAgJnFQAAAAAAA4sVAAAAAAAASxkAAAAAAABDIQAAAAAAAacpAAAAAAABUzUAAAAAAACPHQAAAAACAFsBAAAAAAAAA+H8AAAAAAAD4fwAAAAAAAPh/AAAAAAAA+H8AAAAAALi1QAAAAAAApLtAAAAAAABnvEAAAAAAAN2+QAAAAAAAs7xAAAAAAAC/wUAAAAAAAMS7QAAAAAAA3rRAAAAAAABZtUAAAAAAAMO4QAAAAAAAeL5AAAAAAAD9wEAAAAAAAMDCQAAAAACAXchAAAAAAAAZy0AAAAAAgHTLQAAAAAAA/stAAAAAAADrzEAAAAAAAKXIQAAAAAAAm8FAAAAAAID1xEAAAAAAACDIQAAAAACAlMtAAAAAAIA0zEAAAAAAABPOQAAAAAAAk89AAAAAAIB3zkAAAAAAgJrQQAAAAADAidFAAAAAAIAH0UAAAAAAAITJQAAAAACAFsJAAAAAAABwxEAAAAAAgNzFQAAAAAAAYMZAAAAAAAB9ykAAAAAAAOfKQAAAAAAAecpAAAAAAADFy0AAAAAAgEXPQAAAAAAA6M5AAAAAAABq0EAAAAAAgMjLQAAAAACA9cdAAAAAAAAdykAAAAAAgDzLQAAAAADAO9BAAAAAAMAj0EAAAAAAAEDSQAAAAACATtNAAAAAAMCV00AAAAAAAGvUQAAAAABAZdVAAAAAAMBv10AAAAAAABLRQAAAAACAmMxAAAAAAICs0kAAAAAAAEDOQAAAAAAAAPh/AAAAAEAi1EAAAAAAQEXVQAAAAADAHNVA",
          "dtype": "f8"
         }
        },
        {
         "marker": {
          "color": "green"
         },
         "name": "Yearly Total (Bay Wheels)",
         "opacity": 0.6,
         "text": {
          "bdata": "AAAAAFA4/kAAAAAAcBwCQQAAAABgrutAAAAAAGCD/0AAAAAA4C4FQQAAAADg8ANBAAAAANiZCkEAAAAAMBT4QA==",
          "dtype": "f8"
         },
         "textposition": "auto",
         "type": "bar",
         "visible": false,
         "x": {
          "bdata": "AAAAAACIn0AAAAAAAIyfQAAAAAAAkJ9AAAAAAACUn0AAAAAAAJifQAAAAAAAnJ9AAAAAAACgn0AAAAAAAKSfQA==",
          "dtype": "f8"
         },
         "y": {
          "bdata": "heMBAI5DAgBz3QAANvgBANylAgAcfgIAO1MDAEOBAQA=",
          "dtype": "i4"
         }
        }
       ],
       "layout": {
        "height": 500,
        "legend": {
         "x": 0.01,
         "y": 0.99
        },
        "template": {
         "data": {
          "bar": [
           {
            "error_x": {
             "color": "#2a3f5f"
            },
            "error_y": {
             "color": "#2a3f5f"
            },
            "marker": {
             "line": {
              "color": "#E5ECF6",
              "width": 0.5
             },
             "pattern": {
              "fillmode": "overlay",
              "size": 10,
              "solidity": 0.2
             }
            },
            "type": "bar"
           }
          ],
          "barpolar": [
           {
            "marker": {
             "line": {
              "color": "#E5ECF6",
              "width": 0.5
             },
             "pattern": {
              "fillmode": "overlay",
              "size": 10,
              "solidity": 0.2
             }
            },
            "type": "barpolar"
           }
          ],
          "carpet": [
           {
            "aaxis": {
             "endlinecolor": "#2a3f5f",
             "gridcolor": "white",
             "linecolor": "white",
             "minorgridcolor": "white",
             "startlinecolor": "#2a3f5f"
            },
            "baxis": {
             "endlinecolor": "#2a3f5f",
             "gridcolor": "white",
             "linecolor": "white",
             "minorgridcolor": "white",
             "startlinecolor": "#2a3f5f"
            },
            "type": "carpet"
           }
          ],
          "choropleth": [
           {
            "colorbar": {
             "outlinewidth": 0,
             "ticks": ""
            },
            "type": "choropleth"
           }
          ],
          "contour": [
           {
            "colorbar": {
             "outlinewidth": 0,
             "ticks": ""
            },
            "colorscale": [
             [
              0,
              "#0d0887"
             ],
             [
              0.1111111111111111,
              "#46039f"
             ],
             [
              0.2222222222222222,
              "#7201a8"
             ],
             [
              0.3333333333333333,
              "#9c179e"
             ],
             [
              0.4444444444444444,
              "#bd3786"
             ],
             [
              0.5555555555555556,
              "#d8576b"
             ],
             [
              0.6666666666666666,
              "#ed7953"
             ],
             [
              0.7777777777777778,
              "#fb9f3a"
             ],
             [
              0.8888888888888888,
              "#fdca26"
             ],
             [
              1,
              "#f0f921"
             ]
            ],
            "type": "contour"
           }
          ],
          "contourcarpet": [
           {
            "colorbar": {
             "outlinewidth": 0,
             "ticks": ""
            },
            "type": "contourcarpet"
           }
          ],
          "heatmap": [
           {
            "colorbar": {
             "outlinewidth": 0,
             "ticks": ""
            },
            "colorscale": [
             [
              0,
              "#0d0887"
             ],
             [
              0.1111111111111111,
              "#46039f"
             ],
             [
              0.2222222222222222,
              "#7201a8"
             ],
             [
              0.3333333333333333,
              "#9c179e"
             ],
             [
              0.4444444444444444,
              "#bd3786"
             ],
             [
              0.5555555555555556,
              "#d8576b"
             ],
             [
              0.6666666666666666,
              "#ed7953"
             ],
             [
              0.7777777777777778,
              "#fb9f3a"
             ],
             [
              0.8888888888888888,
              "#fdca26"
             ],
             [
              1,
              "#f0f921"
             ]
            ],
            "type": "heatmap"
           }
          ],
          "histogram": [
           {
            "marker": {
             "pattern": {
              "fillmode": "overlay",
              "size": 10,
              "solidity": 0.2
             }
            },
            "type": "histogram"
           }
          ],
          "histogram2d": [
           {
            "colorbar": {
             "outlinewidth": 0,
             "ticks": ""
            },
            "colorscale": [
             [
              0,
              "#0d0887"
             ],
             [
              0.1111111111111111,
              "#46039f"
             ],
             [
              0.2222222222222222,
              "#7201a8"
             ],
             [
              0.3333333333333333,
              "#9c179e"
             ],
             [
              0.4444444444444444,
              "#bd3786"
             ],
             [
              0.5555555555555556,
              "#d8576b"
             ],
             [
              0.6666666666666666,
              "#ed7953"
             ],
             [
              0.7777777777777778,
              "#fb9f3a"
             ],
             [
              0.8888888888888888,
              "#fdca26"
             ],
             [
              1,
              "#f0f921"
             ]
            ],
            "type": "histogram2d"
           }
          ],
          "histogram2dcontour": [
           {
            "colorbar": {
             "outlinewidth": 0,
             "ticks": ""
            },
            "colorscale": [
             [
              0,
              "#0d0887"
             ],
             [
              0.1111111111111111,
              "#46039f"
             ],
             [
              0.2222222222222222,
              "#7201a8"
             ],
             [
              0.3333333333333333,
              "#9c179e"
             ],
             [
              0.4444444444444444,
              "#bd3786"
             ],
             [
              0.5555555555555556,
              "#d8576b"
             ],
             [
              0.6666666666666666,
              "#ed7953"
             ],
             [
              0.7777777777777778,
              "#fb9f3a"
             ],
             [
              0.8888888888888888,
              "#fdca26"
             ],
             [
              1,
              "#f0f921"
             ]
            ],
            "type": "histogram2dcontour"
           }
          ],
          "mesh3d": [
           {
            "colorbar": {
             "outlinewidth": 0,
             "ticks": ""
            },
            "type": "mesh3d"
           }
          ],
          "parcoords": [
           {
            "line": {
             "colorbar": {
              "outlinewidth": 0,
              "ticks": ""
             }
            },
            "type": "parcoords"
           }
          ],
          "pie": [
           {
            "automargin": true,
            "type": "pie"
           }
          ],
          "scatter": [
           {
            "fillpattern": {
             "fillmode": "overlay",
             "size": 10,
             "solidity": 0.2
            },
            "type": "scatter"
           }
          ],
          "scatter3d": [
           {
            "line": {
             "colorbar": {
              "outlinewidth": 0,
              "ticks": ""
             }
            },
            "marker": {
             "colorbar": {
              "outlinewidth": 0,
              "ticks": ""
             }
            },
            "type": "scatter3d"
           }
          ],
          "scattercarpet": [
           {
            "marker": {
             "colorbar": {
              "outlinewidth": 0,
              "ticks": ""
             }
            },
            "type": "scattercarpet"
           }
          ],
          "scattergeo": [
           {
            "marker": {
             "colorbar": {
              "outlinewidth": 0,
              "ticks": ""
             }
            },
            "type": "scattergeo"
           }
          ],
          "scattergl": [
           {
            "marker": {
             "colorbar": {
              "outlinewidth": 0,
              "ticks": ""
             }
            },
            "type": "scattergl"
           }
          ],
          "scattermap": [
           {
            "marker": {
             "colorbar": {
              "outlinewidth": 0,
              "ticks": ""
             }
            },
            "type": "scattermap"
           }
          ],
          "scattermapbox": [
           {
            "marker": {
             "colorbar": {
              "outlinewidth": 0,
              "ticks": ""
             }
            },
            "type": "scattermapbox"
           }
          ],
          "scatterpolar": [
           {
            "marker": {
             "colorbar": {
              "outlinewidth": 0,
              "ticks": ""
             }
            },
            "type": "scatterpolar"
           }
          ],
          "scatterpolargl": [
           {
            "marker": {
             "colorbar": {
              "outlinewidth": 0,
              "ticks": ""
             }
            },
            "type": "scatterpolargl"
           }
          ],
          "scatterternary": [
           {
            "marker": {
             "colorbar": {
              "outlinewidth": 0,
              "ticks": ""
             }
            },
            "type": "scatterternary"
           }
          ],
          "surface": [
           {
            "colorbar": {
             "outlinewidth": 0,
             "ticks": ""
            },
            "colorscale": [
             [
              0,
              "#0d0887"
             ],
             [
              0.1111111111111111,
              "#46039f"
             ],
             [
              0.2222222222222222,
              "#7201a8"
             ],
             [
              0.3333333333333333,
              "#9c179e"
             ],
             [
              0.4444444444444444,
              "#bd3786"
             ],
             [
              0.5555555555555556,
              "#d8576b"
             ],
             [
              0.6666666666666666,
              "#ed7953"
             ],
             [
              0.7777777777777778,
              "#fb9f3a"
             ],
             [
              0.8888888888888888,
              "#fdca26"
             ],
             [
              1,
              "#f0f921"
             ]
            ],
            "type": "surface"
           }
          ],
          "table": [
           {
            "cells": {
             "fill": {
              "color": "#EBF0F8"
             },
             "line": {
              "color": "white"
             }
            },
            "header": {
             "fill": {
              "color": "#C8D4E3"
             },
             "line": {
              "color": "white"
             }
            },
            "type": "table"
           }
          ]
         },
         "layout": {
          "annotationdefaults": {
           "arrowcolor": "#2a3f5f",
           "arrowhead": 0,
           "arrowwidth": 1
          },
          "autotypenumbers": "strict",
          "coloraxis": {
           "colorbar": {
            "outlinewidth": 0,
            "ticks": ""
           }
          },
          "colorscale": {
           "diverging": [
            [
             0,
             "#8e0152"
            ],
            [
             0.1,
             "#c51b7d"
            ],
            [
             0.2,
             "#de77ae"
            ],
            [
             0.3,
             "#f1b6da"
            ],
            [
             0.4,
             "#fde0ef"
            ],
            [
             0.5,
             "#f7f7f7"
            ],
            [
             0.6,
             "#e6f5d0"
            ],
            [
             0.7,
             "#b8e186"
            ],
            [
             0.8,
             "#7fbc41"
            ],
            [
             0.9,
             "#4d9221"
            ],
            [
             1,
             "#276419"
            ]
           ],
           "sequential": [
            [
             0,
             "#0d0887"
            ],
            [
             0.1111111111111111,
             "#46039f"
            ],
            [
             0.2222222222222222,
             "#7201a8"
            ],
            [
             0.3333333333333333,
             "#9c179e"
            ],
            [
             0.4444444444444444,
             "#bd3786"
            ],
            [
             0.5555555555555556,
             "#d8576b"
            ],
            [
             0.6666666666666666,
             "#ed7953"
            ],
            [
             0.7777777777777778,
             "#fb9f3a"
            ],
            [
             0.8888888888888888,
             "#fdca26"
            ],
            [
             1,
             "#f0f921"
            ]
           ],
           "sequentialminus": [
            [
             0,
             "#0d0887"
            ],
            [
             0.1111111111111111,
             "#46039f"
            ],
            [
             0.2222222222222222,
             "#7201a8"
            ],
            [
             0.3333333333333333,
             "#9c179e"
            ],
            [
             0.4444444444444444,
             "#bd3786"
            ],
            [
             0.5555555555555556,
             "#d8576b"
            ],
            [
             0.6666666666666666,
             "#ed7953"
            ],
            [
             0.7777777777777778,
             "#fb9f3a"
            ],
            [
             0.8888888888888888,
             "#fdca26"
            ],
            [
             1,
             "#f0f921"
            ]
           ]
          },
          "colorway": [
           "#636efa",
           "#EF553B",
           "#00cc96",
           "#ab63fa",
           "#FFA15A",
           "#19d3f3",
           "#FF6692",
           "#B6E880",
           "#FF97FF",
           "#FECB52"
          ],
          "font": {
           "color": "#2a3f5f"
          },
          "geo": {
           "bgcolor": "white",
           "lakecolor": "white",
           "landcolor": "#E5ECF6",
           "showlakes": true,
           "showland": true,
           "subunitcolor": "white"
          },
          "hoverlabel": {
           "align": "left"
          },
          "hovermode": "closest",
          "mapbox": {
           "style": "light"
          },
          "paper_bgcolor": "white",
          "plot_bgcolor": "#E5ECF6",
          "polar": {
           "angularaxis": {
            "gridcolor": "white",
            "linecolor": "white",
            "ticks": ""
           },
           "bgcolor": "#E5ECF6",
           "radialaxis": {
            "gridcolor": "white",
            "linecolor": "white",
            "ticks": ""
           }
          },
          "scene": {
           "xaxis": {
            "backgroundcolor": "#E5ECF6",
            "gridcolor": "white",
            "gridwidth": 2,
            "linecolor": "white",
            "showbackground": true,
            "ticks": "",
            "zerolinecolor": "white"
           },
           "yaxis": {
            "backgroundcolor": "#E5ECF6",
            "gridcolor": "white",
            "gridwidth": 2,
            "linecolor": "white",
            "showbackground": true,
            "ticks": "",
            "zerolinecolor": "white"
           },
           "zaxis": {
            "backgroundcolor": "#E5ECF6",
            "gridcolor": "white",
            "gridwidth": 2,
            "linecolor": "white",
            "showbackground": true,
            "ticks": "",
            "zerolinecolor": "white"
           }
          },
          "shapedefaults": {
           "line": {
            "color": "#2a3f5f"
           }
          },
          "ternary": {
           "aaxis": {
            "gridcolor": "white",
            "linecolor": "white",
            "ticks": ""
           },
           "baxis": {
            "gridcolor": "white",
            "linecolor": "white",
            "ticks": ""
           },
           "bgcolor": "#E5ECF6",
           "caxis": {
            "gridcolor": "white",
            "linecolor": "white",
            "ticks": ""
           }
          },
          "title": {
           "x": 0.05
          },
          "xaxis": {
           "automargin": true,
           "gridcolor": "white",
           "linecolor": "white",
           "ticks": "",
           "title": {
            "standoff": 15
           },
           "zerolinecolor": "white",
           "zerolinewidth": 2
          },
          "yaxis": {
           "automargin": true,
           "gridcolor": "white",
           "linecolor": "white",
           "ticks": "",
           "title": {
            "standoff": 15
           },
           "zerolinecolor": "white",
           "zerolinewidth": 2
          }
         }
        },
        "title": {
         "text": "Bay Wheels Valencia Street Rides: Monthly vs Yearly View"
        },
        "updatemenus": [
         {
          "buttons": [
           {
            "args": [
             {
              "visible": [
               true,
               false
              ]
             },
             {
              "title": "Bay Wheels Valencia Street Rides: Monthly Trends",
              "xaxis.title": "Month/Year",
              "yaxis.title": "Monthly Ride Count"
             }
            ],
            "label": "Monthly View",
            "method": "update"
           },
           {
            "args": [
             {
              "visible": [
               false,
               true
              ]
             },
             {
              "title": "Bay Wheels Valencia Street Rides: Yearly Totals",
              "xaxis.title": "Year",
              "yaxis.title": "Yearly Total Rides"
             }
            ],
            "label": "Yearly View",
            "method": "update"
           }
          ],
          "direction": "left",
          "pad": {
           "r": 10,
           "t": 10
          },
          "showactive": true,
          "type": "buttons",
          "x": 0.01,
          "xanchor": "left",
          "y": 1.15,
          "yanchor": "top"
         }
        ],
        "xaxis": {
         "title": {
          "text": "Time Period"
         }
        },
        "yaxis": {
         "title": {
          "text": "Ride Count"
         }
        }
       }
      }
     },
     "metadata": {},
     "output_type": "display_data"
    }
   ],
   "source": [
    "\n",
    "# Extract year and month for grouping\n",
    "baywheels_data['year_month'] = baywheels_data['started_at'].dt.to_period('M')\n",
    "\n",
    "# Group by year and month\n",
    "rides_by_month = baywheels_data.groupby('year_month').size().reset_index(name='ride_count')\n",
    "\n",
    "# Convert 'year_month' to period[M] for merging\n",
    "rides_by_month['year_month'] = rides_by_month['year_month'].astype('period[M]')\n",
    "\n",
    "# Create a complete date range from min to max date\n",
    "date_range = pd.period_range(\n",
    "    start=rides_by_month['year_month'].min(),\n",
    "    end=rides_by_month['year_month'].max(),\n",
    "    freq='M'\n",
    ")\n",
    "\n",
    "# Create a complete dataframe with all months\n",
    "complete_df = pd.DataFrame({'year_month': date_range})\n",
    "\n",
    "# Merge with actual data, leaving missing values as NaN\n",
    "rides_by_month = complete_df.merge(rides_by_month, on='year_month', how='left')\n",
    "\n",
    "# Convert 'year_month' to string for Plotly compatibility\n",
    "rides_by_month['year_month'] = rides_by_month['year_month'].astype(str)\n",
    "\n",
    "# Calculate yearly totals for Bay Wheels\n",
    "baywheels_data['year'] = baywheels_data['started_at'].dt.year\n",
    "yearly_totals = baywheels_data.groupby('year').size().reset_index(name='yearly_total')\n",
    "\n",
    "# Plot rides vs month/year with toggle functionality\n",
    "fig_rides_month = go.Figure()\n",
    "\n",
    "# Add monthly line chart (visible by default)\n",
    "fig_rides_month.add_trace(\n",
    "    go.Scatter(\n",
    "        x=rides_by_month['year_month'],\n",
    "        y=rides_by_month['ride_count'],\n",
    "        mode='lines+markers',\n",
    "        name='Monthly (Bay Wheels)',\n",
    "        connectgaps=False,\n",
    "        line=dict(color='green', width=2),\n",
    "        marker=dict(size=6),\n",
    "        visible=True  # Visible by default\n",
    "    )\n",
    ")\n",
    "\n",
    "# Add yearly bar chart (hidden by default)\n",
    "fig_rides_month.add_trace(\n",
    "    go.Bar(\n",
    "        x=yearly_totals['year'],\n",
    "        y=yearly_totals['yearly_total'],\n",
    "        name='Yearly Total (Bay Wheels)',\n",
    "        marker_color='green',\n",
    "        opacity=0.6,\n",
    "        text=yearly_totals['yearly_total'],\n",
    "        textposition='auto',\n",
    "        visible=False  # Hidden by default\n",
    "    )\n",
    ")\n",
    "\n",
    "# Add toggle buttons\n",
    "fig_rides_month.update_layout(\n",
    "    title='Bay Wheels Valencia Street Rides: Monthly vs Yearly View',\n",
    "    xaxis_title='Time Period',\n",
    "    yaxis_title='Ride Count',\n",
    "    updatemenus=[\n",
    "        dict(\n",
    "            type=\"buttons\",\n",
    "            direction=\"left\",\n",
    "            buttons=list([\n",
    "                dict(\n",
    "                    args=[{\"visible\": [True, False]},\n",
    "                          {\"title\": \"Bay Wheels Valencia Street Rides: Monthly Trends\",\n",
    "                           \"xaxis.title\": \"Month/Year\",\n",
    "                           \"yaxis.title\": \"Monthly Ride Count\"}],\n",
    "                    label=\"Monthly View\",\n",
    "                    method=\"update\"\n",
    "                ),\n",
    "                dict(\n",
    "                    args=[{\"visible\": [False, True]},\n",
    "                          {\"title\": \"Bay Wheels Valencia Street Rides: Yearly Totals\",\n",
    "                           \"xaxis.title\": \"Year\",\n",
    "                           \"yaxis.title\": \"Yearly Total Rides\"}],\n",
    "                    label=\"Yearly View\",\n",
    "                    method=\"update\"\n",
    "                )\n",
    "            ]),\n",
    "            pad={\"r\": 10, \"t\": 10},\n",
    "            showactive=True,\n",
    "            x=0.01,\n",
    "            xanchor=\"left\",\n",
    "            y=1.15,\n",
    "            yanchor=\"top\"\n",
    "        ),\n",
    "    ],\n",
    "    legend=dict(\n",
    "        x=0.01,\n",
    "        y=0.99\n",
    "    ),\n",
    "    height=500\n",
    ")\n",
    "\n",
    "fig_rides_month.show()\n"
   ]
  },
  {
   "cell_type": "code",
   "execution_count": 20,
   "id": "a0c710b6",
   "metadata": {},
   "outputs": [
    {
     "data": {
      "application/vnd.plotly.v1+json": {
       "config": {
        "plotlyServerURL": "https://plot.ly"
       },
       "data": [
        {
         "line": {
          "width": 2
         },
         "marker": {
          "size": 6
         },
         "mode": "lines+markers",
         "name": "Valencia St. Sb Between Duboce & 14Th",
         "type": "scatter",
         "x": {
          "bdata": "AAECAwQFBgcICQoLDA0ODxAREhMUFRYX",
          "dtype": "i1"
         },
         "y": {
          "bdata": "ZS8AAD4ZAAC7DwAAQwoAAAAJAADZFgAATV4AAOLwAABW6gEALYIBALzsAACL3gAAZu8AACoCAQCYHQEAy1sBAFexAQCzGgIA0aABABMVAQCYtQAAXZYAAFqGAABnWAAA",
          "dtype": "i4"
         }
        },
        {
         "line": {
          "width": 2
         },
         "marker": {
          "size": 6
         },
         "mode": "lines+markers",
         "name": "Valencia St. Totem Nb Between 16Th & 17Th",
         "type": "scatter",
         "x": {
          "bdata": "AAECAwQFBgcICQoLDA0ODxAREhMUFRYX",
          "dtype": "i1"
         },
         "y": {
          "bdata": "Nj8AANQpAAAgGgAA9Q8AAO4XAACCSAAA1cIAALcFAgC85gMA1OACAN/BAQCqowEAa6sBALC+AQDiwwEA3tsBAGLkAQByEwIAK9EBALdWAQBx9AAAnMsAAC2kAADUawAA",
          "dtype": "i4"
         }
        },
        {
         "line": {
          "color": "green",
          "width": 2
         },
         "marker": {
          "size": 6
         },
         "mode": "lines+markers",
         "name": "Bay Wheels Valencia",
         "type": "scatter",
         "x": {
          "bdata": "AAAAAAAAAAAAAAAAAADwPwAAAAAAAABAAAAAAAAACEAAAAAAAAAQQAAAAAAAABRAAAAAAAAAGEAAAAAAAAAcQAAAAAAAACBAAAAAAAAAIkAAAAAAAAAkQAAAAAAAACZAAAAAAAAAKEAAAAAAAAAqQAAAAAAAACxAAAAAAAAALkAAAAAAAAAwQAAAAAAAADFAAAAAAAAAMkAAAAAAAAAzQAAAAAAAADRAAAAAAAAANUAAAAAAAAA2QAAAAAAAADdA",
          "dtype": "f8"
         },
         "y": {
          "bdata": "5zYAAOgkAABFFwAAPgkAACwIAADMDgAAcTQAAPWIAAB6AgEAt94AACW4AACoyQAApeUAAFvnAACS7gAAFgEBAJNBAQBjwwEAjLYBAGRJAQAX5gAAgrkAACeKAAA2VgAA",
          "dtype": "i4"
         }
        }
       ],
       "layout": {
        "height": 500,
        "template": {
         "data": {
          "bar": [
           {
            "error_x": {
             "color": "#2a3f5f"
            },
            "error_y": {
             "color": "#2a3f5f"
            },
            "marker": {
             "line": {
              "color": "#E5ECF6",
              "width": 0.5
             },
             "pattern": {
              "fillmode": "overlay",
              "size": 10,
              "solidity": 0.2
             }
            },
            "type": "bar"
           }
          ],
          "barpolar": [
           {
            "marker": {
             "line": {
              "color": "#E5ECF6",
              "width": 0.5
             },
             "pattern": {
              "fillmode": "overlay",
              "size": 10,
              "solidity": 0.2
             }
            },
            "type": "barpolar"
           }
          ],
          "carpet": [
           {
            "aaxis": {
             "endlinecolor": "#2a3f5f",
             "gridcolor": "white",
             "linecolor": "white",
             "minorgridcolor": "white",
             "startlinecolor": "#2a3f5f"
            },
            "baxis": {
             "endlinecolor": "#2a3f5f",
             "gridcolor": "white",
             "linecolor": "white",
             "minorgridcolor": "white",
             "startlinecolor": "#2a3f5f"
            },
            "type": "carpet"
           }
          ],
          "choropleth": [
           {
            "colorbar": {
             "outlinewidth": 0,
             "ticks": ""
            },
            "type": "choropleth"
           }
          ],
          "contour": [
           {
            "colorbar": {
             "outlinewidth": 0,
             "ticks": ""
            },
            "colorscale": [
             [
              0,
              "#0d0887"
             ],
             [
              0.1111111111111111,
              "#46039f"
             ],
             [
              0.2222222222222222,
              "#7201a8"
             ],
             [
              0.3333333333333333,
              "#9c179e"
             ],
             [
              0.4444444444444444,
              "#bd3786"
             ],
             [
              0.5555555555555556,
              "#d8576b"
             ],
             [
              0.6666666666666666,
              "#ed7953"
             ],
             [
              0.7777777777777778,
              "#fb9f3a"
             ],
             [
              0.8888888888888888,
              "#fdca26"
             ],
             [
              1,
              "#f0f921"
             ]
            ],
            "type": "contour"
           }
          ],
          "contourcarpet": [
           {
            "colorbar": {
             "outlinewidth": 0,
             "ticks": ""
            },
            "type": "contourcarpet"
           }
          ],
          "heatmap": [
           {
            "colorbar": {
             "outlinewidth": 0,
             "ticks": ""
            },
            "colorscale": [
             [
              0,
              "#0d0887"
             ],
             [
              0.1111111111111111,
              "#46039f"
             ],
             [
              0.2222222222222222,
              "#7201a8"
             ],
             [
              0.3333333333333333,
              "#9c179e"
             ],
             [
              0.4444444444444444,
              "#bd3786"
             ],
             [
              0.5555555555555556,
              "#d8576b"
             ],
             [
              0.6666666666666666,
              "#ed7953"
             ],
             [
              0.7777777777777778,
              "#fb9f3a"
             ],
             [
              0.8888888888888888,
              "#fdca26"
             ],
             [
              1,
              "#f0f921"
             ]
            ],
            "type": "heatmap"
           }
          ],
          "histogram": [
           {
            "marker": {
             "pattern": {
              "fillmode": "overlay",
              "size": 10,
              "solidity": 0.2
             }
            },
            "type": "histogram"
           }
          ],
          "histogram2d": [
           {
            "colorbar": {
             "outlinewidth": 0,
             "ticks": ""
            },
            "colorscale": [
             [
              0,
              "#0d0887"
             ],
             [
              0.1111111111111111,
              "#46039f"
             ],
             [
              0.2222222222222222,
              "#7201a8"
             ],
             [
              0.3333333333333333,
              "#9c179e"
             ],
             [
              0.4444444444444444,
              "#bd3786"
             ],
             [
              0.5555555555555556,
              "#d8576b"
             ],
             [
              0.6666666666666666,
              "#ed7953"
             ],
             [
              0.7777777777777778,
              "#fb9f3a"
             ],
             [
              0.8888888888888888,
              "#fdca26"
             ],
             [
              1,
              "#f0f921"
             ]
            ],
            "type": "histogram2d"
           }
          ],
          "histogram2dcontour": [
           {
            "colorbar": {
             "outlinewidth": 0,
             "ticks": ""
            },
            "colorscale": [
             [
              0,
              "#0d0887"
             ],
             [
              0.1111111111111111,
              "#46039f"
             ],
             [
              0.2222222222222222,
              "#7201a8"
             ],
             [
              0.3333333333333333,
              "#9c179e"
             ],
             [
              0.4444444444444444,
              "#bd3786"
             ],
             [
              0.5555555555555556,
              "#d8576b"
             ],
             [
              0.6666666666666666,
              "#ed7953"
             ],
             [
              0.7777777777777778,
              "#fb9f3a"
             ],
             [
              0.8888888888888888,
              "#fdca26"
             ],
             [
              1,
              "#f0f921"
             ]
            ],
            "type": "histogram2dcontour"
           }
          ],
          "mesh3d": [
           {
            "colorbar": {
             "outlinewidth": 0,
             "ticks": ""
            },
            "type": "mesh3d"
           }
          ],
          "parcoords": [
           {
            "line": {
             "colorbar": {
              "outlinewidth": 0,
              "ticks": ""
             }
            },
            "type": "parcoords"
           }
          ],
          "pie": [
           {
            "automargin": true,
            "type": "pie"
           }
          ],
          "scatter": [
           {
            "fillpattern": {
             "fillmode": "overlay",
             "size": 10,
             "solidity": 0.2
            },
            "type": "scatter"
           }
          ],
          "scatter3d": [
           {
            "line": {
             "colorbar": {
              "outlinewidth": 0,
              "ticks": ""
             }
            },
            "marker": {
             "colorbar": {
              "outlinewidth": 0,
              "ticks": ""
             }
            },
            "type": "scatter3d"
           }
          ],
          "scattercarpet": [
           {
            "marker": {
             "colorbar": {
              "outlinewidth": 0,
              "ticks": ""
             }
            },
            "type": "scattercarpet"
           }
          ],
          "scattergeo": [
           {
            "marker": {
             "colorbar": {
              "outlinewidth": 0,
              "ticks": ""
             }
            },
            "type": "scattergeo"
           }
          ],
          "scattergl": [
           {
            "marker": {
             "colorbar": {
              "outlinewidth": 0,
              "ticks": ""
             }
            },
            "type": "scattergl"
           }
          ],
          "scattermap": [
           {
            "marker": {
             "colorbar": {
              "outlinewidth": 0,
              "ticks": ""
             }
            },
            "type": "scattermap"
           }
          ],
          "scattermapbox": [
           {
            "marker": {
             "colorbar": {
              "outlinewidth": 0,
              "ticks": ""
             }
            },
            "type": "scattermapbox"
           }
          ],
          "scatterpolar": [
           {
            "marker": {
             "colorbar": {
              "outlinewidth": 0,
              "ticks": ""
             }
            },
            "type": "scatterpolar"
           }
          ],
          "scatterpolargl": [
           {
            "marker": {
             "colorbar": {
              "outlinewidth": 0,
              "ticks": ""
             }
            },
            "type": "scatterpolargl"
           }
          ],
          "scatterternary": [
           {
            "marker": {
             "colorbar": {
              "outlinewidth": 0,
              "ticks": ""
             }
            },
            "type": "scatterternary"
           }
          ],
          "surface": [
           {
            "colorbar": {
             "outlinewidth": 0,
             "ticks": ""
            },
            "colorscale": [
             [
              0,
              "#0d0887"
             ],
             [
              0.1111111111111111,
              "#46039f"
             ],
             [
              0.2222222222222222,
              "#7201a8"
             ],
             [
              0.3333333333333333,
              "#9c179e"
             ],
             [
              0.4444444444444444,
              "#bd3786"
             ],
             [
              0.5555555555555556,
              "#d8576b"
             ],
             [
              0.6666666666666666,
              "#ed7953"
             ],
             [
              0.7777777777777778,
              "#fb9f3a"
             ],
             [
              0.8888888888888888,
              "#fdca26"
             ],
             [
              1,
              "#f0f921"
             ]
            ],
            "type": "surface"
           }
          ],
          "table": [
           {
            "cells": {
             "fill": {
              "color": "#EBF0F8"
             },
             "line": {
              "color": "white"
             }
            },
            "header": {
             "fill": {
              "color": "#C8D4E3"
             },
             "line": {
              "color": "white"
             }
            },
            "type": "table"
           }
          ]
         },
         "layout": {
          "annotationdefaults": {
           "arrowcolor": "#2a3f5f",
           "arrowhead": 0,
           "arrowwidth": 1
          },
          "autotypenumbers": "strict",
          "coloraxis": {
           "colorbar": {
            "outlinewidth": 0,
            "ticks": ""
           }
          },
          "colorscale": {
           "diverging": [
            [
             0,
             "#8e0152"
            ],
            [
             0.1,
             "#c51b7d"
            ],
            [
             0.2,
             "#de77ae"
            ],
            [
             0.3,
             "#f1b6da"
            ],
            [
             0.4,
             "#fde0ef"
            ],
            [
             0.5,
             "#f7f7f7"
            ],
            [
             0.6,
             "#e6f5d0"
            ],
            [
             0.7,
             "#b8e186"
            ],
            [
             0.8,
             "#7fbc41"
            ],
            [
             0.9,
             "#4d9221"
            ],
            [
             1,
             "#276419"
            ]
           ],
           "sequential": [
            [
             0,
             "#0d0887"
            ],
            [
             0.1111111111111111,
             "#46039f"
            ],
            [
             0.2222222222222222,
             "#7201a8"
            ],
            [
             0.3333333333333333,
             "#9c179e"
            ],
            [
             0.4444444444444444,
             "#bd3786"
            ],
            [
             0.5555555555555556,
             "#d8576b"
            ],
            [
             0.6666666666666666,
             "#ed7953"
            ],
            [
             0.7777777777777778,
             "#fb9f3a"
            ],
            [
             0.8888888888888888,
             "#fdca26"
            ],
            [
             1,
             "#f0f921"
            ]
           ],
           "sequentialminus": [
            [
             0,
             "#0d0887"
            ],
            [
             0.1111111111111111,
             "#46039f"
            ],
            [
             0.2222222222222222,
             "#7201a8"
            ],
            [
             0.3333333333333333,
             "#9c179e"
            ],
            [
             0.4444444444444444,
             "#bd3786"
            ],
            [
             0.5555555555555556,
             "#d8576b"
            ],
            [
             0.6666666666666666,
             "#ed7953"
            ],
            [
             0.7777777777777778,
             "#fb9f3a"
            ],
            [
             0.8888888888888888,
             "#fdca26"
            ],
            [
             1,
             "#f0f921"
            ]
           ]
          },
          "colorway": [
           "#636efa",
           "#EF553B",
           "#00cc96",
           "#ab63fa",
           "#FFA15A",
           "#19d3f3",
           "#FF6692",
           "#B6E880",
           "#FF97FF",
           "#FECB52"
          ],
          "font": {
           "color": "#2a3f5f"
          },
          "geo": {
           "bgcolor": "white",
           "lakecolor": "white",
           "landcolor": "#E5ECF6",
           "showlakes": true,
           "showland": true,
           "subunitcolor": "white"
          },
          "hoverlabel": {
           "align": "left"
          },
          "hovermode": "closest",
          "mapbox": {
           "style": "light"
          },
          "paper_bgcolor": "white",
          "plot_bgcolor": "#E5ECF6",
          "polar": {
           "angularaxis": {
            "gridcolor": "white",
            "linecolor": "white",
            "ticks": ""
           },
           "bgcolor": "#E5ECF6",
           "radialaxis": {
            "gridcolor": "white",
            "linecolor": "white",
            "ticks": ""
           }
          },
          "scene": {
           "xaxis": {
            "backgroundcolor": "#E5ECF6",
            "gridcolor": "white",
            "gridwidth": 2,
            "linecolor": "white",
            "showbackground": true,
            "ticks": "",
            "zerolinecolor": "white"
           },
           "yaxis": {
            "backgroundcolor": "#E5ECF6",
            "gridcolor": "white",
            "gridwidth": 2,
            "linecolor": "white",
            "showbackground": true,
            "ticks": "",
            "zerolinecolor": "white"
           },
           "zaxis": {
            "backgroundcolor": "#E5ECF6",
            "gridcolor": "white",
            "gridwidth": 2,
            "linecolor": "white",
            "showbackground": true,
            "ticks": "",
            "zerolinecolor": "white"
           }
          },
          "shapedefaults": {
           "line": {
            "color": "#2a3f5f"
           }
          },
          "ternary": {
           "aaxis": {
            "gridcolor": "white",
            "linecolor": "white",
            "ticks": ""
           },
           "baxis": {
            "gridcolor": "white",
            "linecolor": "white",
            "ticks": ""
           },
           "bgcolor": "#E5ECF6",
           "caxis": {
            "gridcolor": "white",
            "linecolor": "white",
            "ticks": ""
           }
          },
          "title": {
           "x": 0.05
          },
          "xaxis": {
           "automargin": true,
           "gridcolor": "white",
           "linecolor": "white",
           "ticks": "",
           "title": {
            "standoff": 15
           },
           "zerolinecolor": "white",
           "zerolinewidth": 2
          },
          "yaxis": {
           "automargin": true,
           "gridcolor": "white",
           "linecolor": "white",
           "ticks": "",
           "title": {
            "standoff": 15
           },
           "zerolinecolor": "white",
           "zerolinewidth": 2
          }
         }
        },
        "title": {
         "text": "Valencia Street Bike Counts by Hour of Day (SFMTA Counters)"
        },
        "xaxis": {
         "dtick": 2,
         "range": [
          0,
          23
         ],
         "title": {
          "text": "Hour of Day"
         }
        },
        "yaxis": {
         "title": {
          "text": "Total Bike Count"
         }
        }
       }
      }
     },
     "metadata": {},
     "output_type": "display_data"
    }
   ],
   "source": [
    "# Add analysis of bike count vs hour of the day for bike counter data\n",
    "fig_hourly_counter = go.Figure()\n",
    "\n",
    "for key, valencia_counter_data_orig in bike_counter_structure.items():\n",
    "    # Create a copy to avoid the warning\n",
    "    valencia_counter_data = valencia_counter_data_orig.copy()\n",
    "    \n",
    "    # Group by hour and sum the bike counts\n",
    "    hourly_counts = valencia_counter_data.groupby('Hour')['Total Bike Count'].sum().reset_index()\n",
    "    \n",
    "    # Add trace for each location\n",
    "    fig_hourly_counter.add_trace(\n",
    "        go.Scatter(\n",
    "            x=hourly_counts['Hour'],\n",
    "            y=hourly_counts['Total Bike Count'],\n",
    "            mode='lines+markers',\n",
    "            name=key.replace(\"_\", \" \").title(),\n",
    "            line=dict(width=2),\n",
    "            marker=dict(size=6)\n",
    "        )\n",
    "    )\n",
    "\n",
    "# Add analysis of Bay Wheels rides by hour of day\n",
    "baywheels_data['hour'] = baywheels_data['started_at'].dt.hour\n",
    "\n",
    "# Group by hour and count rides\n",
    "hourly_baywheels = baywheels_data.groupby('hour').size().reset_index(name='ride_count')\n",
    "\n",
    "fig_hourly_counter.add_trace(\n",
    "    go.Scatter(\n",
    "        x=hourly_baywheels['hour'],\n",
    "        y=hourly_baywheels['ride_count'],\n",
    "        mode='lines+markers',\n",
    "        name='Bay Wheels Valencia',\n",
    "        line=dict(color='green', width=2),\n",
    "        marker=dict(size=6)\n",
    "    )\n",
    ")\n",
    "\n",
    "fig_hourly_counter.update_layout(\n",
    "    title='Valencia Street Bike Counts by Hour of Day (SFMTA Counters)',\n",
    "    xaxis_title='Hour of Day',\n",
    "    yaxis_title='Total Bike Count',\n",
    "    xaxis=dict(range=[0, 23], dtick=2),\n",
    "    height=500\n",
    ")\n",
    "fig_hourly_counter.show()\n",
    "\n"
   ]
  },
  {
   "cell_type": "markdown",
   "id": "7da701cb",
   "metadata": {},
   "source": [
    "### Quantifying Bicycle Safety on Valencia Street as a Crash-per-Ride Metric\n",
    "\n",
    "BayWheels trip counts and SFMTA bike counter data were used separately to calculate a “crashes-per-10,000-rides” metric. While the absolute values are subject to the limitations and assumptions of each counting method, the relative change in this metric before vs. during the center bike lane can help infer the lane’s impact on bicycle safety. Low crash counts make the analysis sensitive to noise, which limits the statistical strength of monthly fluctuations. For this reason, the analysis focuses on two perspectives: (1) peak monthly crash-per-ride values and (2) yearly averages, the latter carrying greater weight because they draw from a larger sample size. The comparison spans 2018, 2019, 2022, and 2024.\n",
    "\n",
    "During the center bike lane period, peak crash-per-ride rates occurred in September and October 2024, reaching roughly 1.5 and 2 crashes per 10,000 rides for the SFMTA bike counter and BayWheels datasets, respectively. These rates exceeded that of peak month in 2022 (0.86 and 1.5, both in November) but are comparable to peaks observed in 2018 and 2019.\n",
    "\n",
    "When averaged across the pre-center-lane years (2018, 2019, and 2022), the crash-per-ride rate was 0.5415 crashes per 10,000 rides past the 14th Street counter and 0.8302 crashes per 10,000 BayWheels trips. In 2024, those averages dropped to 0.4476 and 0.5964, respectively. While the center lane dataset covers only one year, the yearly averages—being based on far more rides than any single month—provide a stronger, less noise-driven indicator of change. On this basis, the data suggests a meaningful improvement in bicycle safety from a per-ride perspective.\n"
   ]
  },
  {
   "cell_type": "code",
   "execution_count": 21,
   "id": "c4164970",
   "metadata": {},
   "outputs": [
    {
     "name": "stderr",
     "output_type": "stream",
     "text": [
      "/var/folders/ry/6zlsyrrj22zffwv1bszfkwz80000gn/T/ipykernel_29785/3121197010.py:7: SettingWithCopyWarning:\n",
      "\n",
      "\n",
      "A value is trying to be set on a copy of a slice from a DataFrame.\n",
      "Try using .loc[row_indexer,col_indexer] = value instead\n",
      "\n",
      "See the caveats in the documentation: https://pandas.pydata.org/pandas-docs/stable/user_guide/indexing.html#returning-a-view-versus-a-copy\n",
      "\n"
     ]
    },
    {
     "data": {
      "application/vnd.plotly.v1+json": {
       "config": {
        "plotlyServerURL": "https://plot.ly"
       },
       "data": [
        {
         "connectgaps": false,
         "legendgroup": "SB Duboce-14th",
         "line": {
          "color": "blue",
          "width": 3
         },
         "marker": {
          "size": 8
         },
         "mode": "lines+markers",
         "name": "SB Duboce-14th",
         "showlegend": true,
         "type": "scatter",
         "x": [
          "2018-01",
          "2018-02",
          "2018-03",
          "2018-04",
          "2018-05",
          "2018-06",
          "2018-07",
          "2018-08",
          "2018-09",
          "2018-10",
          "2018-11",
          "2018-12"
         ],
         "y": {
          "bdata": "AAAAAAAAAAAvjGDju3zzP9Gzl0NgpOU/AAAAAAAAAAAAAAAAAAAAABKmHYIiEPE/IzbsSaKn+j+2F0qmjivxPwAAAAAAAAAAr/6YrMop4D+QahYa80f4Pxr8P5DqX/k/",
          "dtype": "f8"
         }
        },
        {
         "connectgaps": false,
         "legendgroup": "SB Duboce-14th",
         "line": {
          "color": "blue",
          "width": 3
         },
         "marker": {
          "size": 8
         },
         "mode": "lines+markers",
         "name": "SB Duboce-14th",
         "showlegend": false,
         "type": "scatter",
         "x": [
          "2019-01",
          "2019-02",
          "2019-03",
          "2019-04",
          "2019-05",
          "2019-06",
          "2019-07",
          "2019-08",
          "2019-09",
          "2019-10",
          "2019-11",
          "2019-12"
         ],
         "y": {
          "bdata": "AAAAAAAAAAAAAAAAAAAAAKNkcxLuFOU/Kuk5GCYi4j8AAAAAAAAAAPmJ457brAJA0iTt0SEF8j8AAAAAAAAAAGi7snZQ1eE/DNlBG0tQ+D/Hu/xFqDbkPwAAAAAAAAAA",
          "dtype": "f8"
         }
        },
        {
         "connectgaps": false,
         "legendgroup": "SB Duboce-14th",
         "line": {
          "color": "blue",
          "width": 3
         },
         "marker": {
          "size": 8
         },
         "mode": "lines+markers",
         "name": "SB Duboce-14th",
         "showlegend": false,
         "type": "scatter",
         "x": [
          "2022-01",
          "2022-02",
          "2022-03",
          "2022-04",
          "2022-05",
          "2022-06",
          "2022-07",
          "2022-08",
          "2022-09",
          "2022-10",
          "2022-11",
          "2022-12"
         ],
         "y": {
          "bdata": "BBoy+PAb/j8AAAAAAAAAAB/y244tktc/syrrZk6O2D8AAAAAAAAAAFb2tBOor9c/AAAAAAAAAAAAAAAAAAAAAKYceDRYKNY/fig6XkoJ1j91+xkXG7PrP4FS48ZdBOM/",
          "dtype": "f8"
         }
        },
        {
         "connectgaps": false,
         "legendgroup": "SB Duboce-14th",
         "line": {
          "color": "blue",
          "width": 3
         },
         "marker": {
          "size": 8
         },
         "mode": "lines+markers",
         "name": "SB Duboce-14th",
         "showlegend": false,
         "type": "scatter",
         "x": [
          "2024-01",
          "2024-02",
          "2024-03",
          "2024-04",
          "2024-05",
          "2024-06",
          "2024-07",
          "2024-08",
          "2024-09",
          "2024-10",
          "2024-11",
          "2024-12"
         ],
         "y": {
          "bdata": "AAAAAAAAAAAAAAAAAAAAAENMa7427ts/AAAAAAAAAAAAAAAAAAAAABfcYG6Ft9c/h8kobuTh2D96uN+aUfvXP5CxDHPg7fY/+nYOK0lj+j8AAAAAAAAAAAAAAAAAAAAA",
          "dtype": "f8"
         }
        },
        {
         "connectgaps": false,
         "legendgroup": "Totem NB 16th-17th",
         "line": {
          "color": "orange",
          "width": 3
         },
         "marker": {
          "size": 8
         },
         "mode": "lines+markers",
         "name": "Totem NB 16th-17th",
         "showlegend": true,
         "type": "scatter",
         "x": [
          "2018-01",
          "2018-02",
          "2018-03",
          "2018-04",
          "2018-05",
          "2018-06",
          "2018-07",
          "2018-08",
          "2018-09",
          "2018-10",
          "2018-11",
          "2018-12"
         ],
         "y": {
          "bdata": "AAAAAAAAAAAuCD8iYWjgPz6DLauobNE/AAAAAAAAAAAAAAAAAAAAAPmpJE7jKNw/g6pSHGyW5T/XT6iphQjcPwAAAAAAAAAAnjnjsV1Syj+UUyWTTibjP7Hmleq5d+M/",
          "dtype": "f8"
         }
        },
        {
         "connectgaps": false,
         "legendgroup": "Totem NB 16th-17th",
         "line": {
          "color": "orange",
          "width": 3
         },
         "marker": {
          "size": 8
         },
         "mode": "lines+markers",
         "name": "Totem NB 16th-17th",
         "showlegend": false,
         "type": "scatter",
         "x": [
          "2019-01",
          "2019-02",
          "2019-03",
          "2019-04",
          "2019-05",
          "2019-06",
          "2019-07",
          "2019-08",
          "2019-09",
          "2019-10",
          "2019-11",
          "2019-12"
         ],
         "y": {
          "bdata": "AAAAAAAAAAAAAAAAAAAAACv7CtE4T9E/KiqWJCgyzz8AAAAAAAAAAASeyMvtpe0/dwlBDkal3D8AAAAAAAAAACCruhwRecw/LGTW52ky4z8ObfVZrKHOPwAAAAAAAAAA",
          "dtype": "f8"
         }
        },
        {
         "connectgaps": false,
         "legendgroup": "Totem NB 16th-17th",
         "line": {
          "color": "orange",
          "width": 3
         },
         "marker": {
          "size": 8
         },
         "mode": "lines+markers",
         "name": "Totem NB 16th-17th",
         "showlegend": false,
         "type": "scatter",
         "x": [
          "2022-01",
          "2022-02",
          "2022-03",
          "2022-04",
          "2022-05",
          "2022-06",
          "2022-07",
          "2022-08",
          "2022-09",
          "2022-10",
          "2022-11",
          "2022-12"
         ],
         "y": {
          "bdata": "ay6Uf0bG2D8AAAAAAAAAABYHQvKmjdM/Szylr54S1T8AAAAAAAAAACUFjaSgkdQ/AAAAAAAAAAAAAAAAAAAAAEd6MKTYotM/XdB1CQHx0z9BOqGYRqboPyMSAmH2E+A/",
          "dtype": "f8"
         }
        },
        {
         "connectgaps": false,
         "legendgroup": "Totem NB 16th-17th",
         "line": {
          "color": "orange",
          "width": 3
         },
         "marker": {
          "size": 8
         },
         "mode": "lines+markers",
         "name": "Totem NB 16th-17th",
         "showlegend": false,
         "type": "scatter",
         "x": [
          "2024-01",
          "2024-02",
          "2024-03",
          "2024-04",
          "2024-05",
          "2024-06"
         ],
         "y": {
          "bdata": "AAAAAAAA+H8AAAAAAAD4fwAAAAAAAPB/AAAAAAAAAAAAAAAAAAD4fwAAAAAAAPB/",
          "dtype": "f8"
         }
        },
        {
         "connectgaps": false,
         "legendgroup": "Bay Wheels Valencia",
         "line": {
          "color": "green",
          "width": 3
         },
         "marker": {
          "size": 8
         },
         "mode": "lines+markers",
         "name": "Bay Wheels Valencia",
         "showlegend": true,
         "type": "scatter",
         "x": [
          "2018-01",
          "2018-02",
          "2018-03",
          "2018-04",
          "2018-05",
          "2018-06",
          "2018-07",
          "2018-08",
          "2018-09",
          "2018-10",
          "2018-11",
          "2018-12"
         ],
         "y": {
          "bdata": "AAAAAAAAAAA5NIj0wg0GQFmAN7AirvU/AAAAAAAAAAAAAAAAAAAAAMLS5EiYwvg/Bmj4nBeBA0B1IIVRNnv6PwAAAAAAAAAAx14UL4Io6D/7aDUJUfwBQEEWCNpT7AFA",
          "dtype": "f8"
         }
        },
        {
         "connectgaps": false,
         "legendgroup": "Bay Wheels Valencia",
         "line": {
          "color": "green",
          "width": 3
         },
         "marker": {
          "size": 8
         },
         "mode": "lines+markers",
         "name": "Bay Wheels Valencia",
         "showlegend": false,
         "type": "scatter",
         "x": [
          "2019-01",
          "2019-02",
          "2019-03",
          "2019-04",
          "2019-05",
          "2019-06",
          "2019-07",
          "2019-08",
          "2019-09",
          "2019-10",
          "2019-11",
          "2019-12"
         ],
         "y": {
          "bdata": "AAAAAAAAAAAAAAAAAAAAAOxYXvKvuOM/juM4juM45j8AAAAAAAAAAEsDnKWsjwxA7BjFuY5R/D8AAAAAAAAAAJln0IBGquc/ov7ha0X3/z+Gg78bagPrPwAAAAAAAAAA",
          "dtype": "f8"
         }
        },
        {
         "connectgaps": false,
         "legendgroup": "Bay Wheels Valencia",
         "line": {
          "color": "green",
          "width": 3
         },
         "marker": {
          "size": 8
         },
         "mode": "lines+markers",
         "name": "Bay Wheels Valencia",
         "showlegend": false,
         "type": "scatter",
         "x": [
          "2022-01",
          "2022-02",
          "2022-03",
          "2022-04",
          "2022-05",
          "2022-06",
          "2022-07",
          "2022-08",
          "2022-09",
          "2022-10",
          "2022-11",
          "2022-12"
         ],
         "y": {
          "bdata": "jbhYK/XR7T8AAAAAAAAAAB0MxPJJqeY/KVOlwrwo5j8AAAAAAAAAAJ55AOtsy+M/AAAAAAAAAAAAAAAAAAAAALszdU6A0eE/5MhaVMlZ4j8YJi3gqn74PxX1ljfZRvE/",
          "dtype": "f8"
         }
        },
        {
         "connectgaps": false,
         "legendgroup": "Bay Wheels Valencia",
         "line": {
          "color": "green",
          "width": 3
         },
         "marker": {
          "size": 8
         },
         "mode": "lines+markers",
         "name": "Bay Wheels Valencia",
         "showlegend": false,
         "type": "scatter",
         "x": [
          "2024-01",
          "2024-02",
          "2024-03",
          "2024-04",
          "2024-05",
          "2024-06",
          "2024-07",
          "2024-08",
          "2024-09",
          "2024-10",
          "2024-11",
          "2024-12"
         ],
         "y": {
          "bdata": "AAAAAAAAAAAAAAAAAAAAAESbQpUcQOM/AAAAAAAAAAAAAAAAAAAAACDjVummL+A/X5PxpYjp3z/uZ6IkPJzeP693yY40Nv0/EyD/LdiqAEAAAAAAAAAAAAAAAAAAAAAA",
          "dtype": "f8"
         }
        }
       ],
       "layout": {
        "annotations": [
         {
          "showarrow": false,
          "text": "Center Bike Lane Period",
          "x": "2023-08",
          "xanchor": "left",
          "xref": "x",
          "y": 1,
          "yanchor": "top",
          "yref": "y domain"
         }
        ],
        "height": 500,
        "shapes": [
         {
          "fillcolor": "rgba(255, 0, 0, 0.2)",
          "layer": "below",
          "line": {
           "width": 0
          },
          "type": "rect",
          "x0": "2023-08",
          "x1": "2025-02",
          "xref": "x",
          "y0": 0,
          "y1": 1,
          "yref": "y domain"
         }
        ],
        "showlegend": true,
        "template": {
         "data": {
          "bar": [
           {
            "error_x": {
             "color": "#2a3f5f"
            },
            "error_y": {
             "color": "#2a3f5f"
            },
            "marker": {
             "line": {
              "color": "#E5ECF6",
              "width": 0.5
             },
             "pattern": {
              "fillmode": "overlay",
              "size": 10,
              "solidity": 0.2
             }
            },
            "type": "bar"
           }
          ],
          "barpolar": [
           {
            "marker": {
             "line": {
              "color": "#E5ECF6",
              "width": 0.5
             },
             "pattern": {
              "fillmode": "overlay",
              "size": 10,
              "solidity": 0.2
             }
            },
            "type": "barpolar"
           }
          ],
          "carpet": [
           {
            "aaxis": {
             "endlinecolor": "#2a3f5f",
             "gridcolor": "white",
             "linecolor": "white",
             "minorgridcolor": "white",
             "startlinecolor": "#2a3f5f"
            },
            "baxis": {
             "endlinecolor": "#2a3f5f",
             "gridcolor": "white",
             "linecolor": "white",
             "minorgridcolor": "white",
             "startlinecolor": "#2a3f5f"
            },
            "type": "carpet"
           }
          ],
          "choropleth": [
           {
            "colorbar": {
             "outlinewidth": 0,
             "ticks": ""
            },
            "type": "choropleth"
           }
          ],
          "contour": [
           {
            "colorbar": {
             "outlinewidth": 0,
             "ticks": ""
            },
            "colorscale": [
             [
              0,
              "#0d0887"
             ],
             [
              0.1111111111111111,
              "#46039f"
             ],
             [
              0.2222222222222222,
              "#7201a8"
             ],
             [
              0.3333333333333333,
              "#9c179e"
             ],
             [
              0.4444444444444444,
              "#bd3786"
             ],
             [
              0.5555555555555556,
              "#d8576b"
             ],
             [
              0.6666666666666666,
              "#ed7953"
             ],
             [
              0.7777777777777778,
              "#fb9f3a"
             ],
             [
              0.8888888888888888,
              "#fdca26"
             ],
             [
              1,
              "#f0f921"
             ]
            ],
            "type": "contour"
           }
          ],
          "contourcarpet": [
           {
            "colorbar": {
             "outlinewidth": 0,
             "ticks": ""
            },
            "type": "contourcarpet"
           }
          ],
          "heatmap": [
           {
            "colorbar": {
             "outlinewidth": 0,
             "ticks": ""
            },
            "colorscale": [
             [
              0,
              "#0d0887"
             ],
             [
              0.1111111111111111,
              "#46039f"
             ],
             [
              0.2222222222222222,
              "#7201a8"
             ],
             [
              0.3333333333333333,
              "#9c179e"
             ],
             [
              0.4444444444444444,
              "#bd3786"
             ],
             [
              0.5555555555555556,
              "#d8576b"
             ],
             [
              0.6666666666666666,
              "#ed7953"
             ],
             [
              0.7777777777777778,
              "#fb9f3a"
             ],
             [
              0.8888888888888888,
              "#fdca26"
             ],
             [
              1,
              "#f0f921"
             ]
            ],
            "type": "heatmap"
           }
          ],
          "histogram": [
           {
            "marker": {
             "pattern": {
              "fillmode": "overlay",
              "size": 10,
              "solidity": 0.2
             }
            },
            "type": "histogram"
           }
          ],
          "histogram2d": [
           {
            "colorbar": {
             "outlinewidth": 0,
             "ticks": ""
            },
            "colorscale": [
             [
              0,
              "#0d0887"
             ],
             [
              0.1111111111111111,
              "#46039f"
             ],
             [
              0.2222222222222222,
              "#7201a8"
             ],
             [
              0.3333333333333333,
              "#9c179e"
             ],
             [
              0.4444444444444444,
              "#bd3786"
             ],
             [
              0.5555555555555556,
              "#d8576b"
             ],
             [
              0.6666666666666666,
              "#ed7953"
             ],
             [
              0.7777777777777778,
              "#fb9f3a"
             ],
             [
              0.8888888888888888,
              "#fdca26"
             ],
             [
              1,
              "#f0f921"
             ]
            ],
            "type": "histogram2d"
           }
          ],
          "histogram2dcontour": [
           {
            "colorbar": {
             "outlinewidth": 0,
             "ticks": ""
            },
            "colorscale": [
             [
              0,
              "#0d0887"
             ],
             [
              0.1111111111111111,
              "#46039f"
             ],
             [
              0.2222222222222222,
              "#7201a8"
             ],
             [
              0.3333333333333333,
              "#9c179e"
             ],
             [
              0.4444444444444444,
              "#bd3786"
             ],
             [
              0.5555555555555556,
              "#d8576b"
             ],
             [
              0.6666666666666666,
              "#ed7953"
             ],
             [
              0.7777777777777778,
              "#fb9f3a"
             ],
             [
              0.8888888888888888,
              "#fdca26"
             ],
             [
              1,
              "#f0f921"
             ]
            ],
            "type": "histogram2dcontour"
           }
          ],
          "mesh3d": [
           {
            "colorbar": {
             "outlinewidth": 0,
             "ticks": ""
            },
            "type": "mesh3d"
           }
          ],
          "parcoords": [
           {
            "line": {
             "colorbar": {
              "outlinewidth": 0,
              "ticks": ""
             }
            },
            "type": "parcoords"
           }
          ],
          "pie": [
           {
            "automargin": true,
            "type": "pie"
           }
          ],
          "scatter": [
           {
            "fillpattern": {
             "fillmode": "overlay",
             "size": 10,
             "solidity": 0.2
            },
            "type": "scatter"
           }
          ],
          "scatter3d": [
           {
            "line": {
             "colorbar": {
              "outlinewidth": 0,
              "ticks": ""
             }
            },
            "marker": {
             "colorbar": {
              "outlinewidth": 0,
              "ticks": ""
             }
            },
            "type": "scatter3d"
           }
          ],
          "scattercarpet": [
           {
            "marker": {
             "colorbar": {
              "outlinewidth": 0,
              "ticks": ""
             }
            },
            "type": "scattercarpet"
           }
          ],
          "scattergeo": [
           {
            "marker": {
             "colorbar": {
              "outlinewidth": 0,
              "ticks": ""
             }
            },
            "type": "scattergeo"
           }
          ],
          "scattergl": [
           {
            "marker": {
             "colorbar": {
              "outlinewidth": 0,
              "ticks": ""
             }
            },
            "type": "scattergl"
           }
          ],
          "scattermap": [
           {
            "marker": {
             "colorbar": {
              "outlinewidth": 0,
              "ticks": ""
             }
            },
            "type": "scattermap"
           }
          ],
          "scattermapbox": [
           {
            "marker": {
             "colorbar": {
              "outlinewidth": 0,
              "ticks": ""
             }
            },
            "type": "scattermapbox"
           }
          ],
          "scatterpolar": [
           {
            "marker": {
             "colorbar": {
              "outlinewidth": 0,
              "ticks": ""
             }
            },
            "type": "scatterpolar"
           }
          ],
          "scatterpolargl": [
           {
            "marker": {
             "colorbar": {
              "outlinewidth": 0,
              "ticks": ""
             }
            },
            "type": "scatterpolargl"
           }
          ],
          "scatterternary": [
           {
            "marker": {
             "colorbar": {
              "outlinewidth": 0,
              "ticks": ""
             }
            },
            "type": "scatterternary"
           }
          ],
          "surface": [
           {
            "colorbar": {
             "outlinewidth": 0,
             "ticks": ""
            },
            "colorscale": [
             [
              0,
              "#0d0887"
             ],
             [
              0.1111111111111111,
              "#46039f"
             ],
             [
              0.2222222222222222,
              "#7201a8"
             ],
             [
              0.3333333333333333,
              "#9c179e"
             ],
             [
              0.4444444444444444,
              "#bd3786"
             ],
             [
              0.5555555555555556,
              "#d8576b"
             ],
             [
              0.6666666666666666,
              "#ed7953"
             ],
             [
              0.7777777777777778,
              "#fb9f3a"
             ],
             [
              0.8888888888888888,
              "#fdca26"
             ],
             [
              1,
              "#f0f921"
             ]
            ],
            "type": "surface"
           }
          ],
          "table": [
           {
            "cells": {
             "fill": {
              "color": "#EBF0F8"
             },
             "line": {
              "color": "white"
             }
            },
            "header": {
             "fill": {
              "color": "#C8D4E3"
             },
             "line": {
              "color": "white"
             }
            },
            "type": "table"
           }
          ]
         },
         "layout": {
          "annotationdefaults": {
           "arrowcolor": "#2a3f5f",
           "arrowhead": 0,
           "arrowwidth": 1
          },
          "autotypenumbers": "strict",
          "coloraxis": {
           "colorbar": {
            "outlinewidth": 0,
            "ticks": ""
           }
          },
          "colorscale": {
           "diverging": [
            [
             0,
             "#8e0152"
            ],
            [
             0.1,
             "#c51b7d"
            ],
            [
             0.2,
             "#de77ae"
            ],
            [
             0.3,
             "#f1b6da"
            ],
            [
             0.4,
             "#fde0ef"
            ],
            [
             0.5,
             "#f7f7f7"
            ],
            [
             0.6,
             "#e6f5d0"
            ],
            [
             0.7,
             "#b8e186"
            ],
            [
             0.8,
             "#7fbc41"
            ],
            [
             0.9,
             "#4d9221"
            ],
            [
             1,
             "#276419"
            ]
           ],
           "sequential": [
            [
             0,
             "#0d0887"
            ],
            [
             0.1111111111111111,
             "#46039f"
            ],
            [
             0.2222222222222222,
             "#7201a8"
            ],
            [
             0.3333333333333333,
             "#9c179e"
            ],
            [
             0.4444444444444444,
             "#bd3786"
            ],
            [
             0.5555555555555556,
             "#d8576b"
            ],
            [
             0.6666666666666666,
             "#ed7953"
            ],
            [
             0.7777777777777778,
             "#fb9f3a"
            ],
            [
             0.8888888888888888,
             "#fdca26"
            ],
            [
             1,
             "#f0f921"
            ]
           ],
           "sequentialminus": [
            [
             0,
             "#0d0887"
            ],
            [
             0.1111111111111111,
             "#46039f"
            ],
            [
             0.2222222222222222,
             "#7201a8"
            ],
            [
             0.3333333333333333,
             "#9c179e"
            ],
            [
             0.4444444444444444,
             "#bd3786"
            ],
            [
             0.5555555555555556,
             "#d8576b"
            ],
            [
             0.6666666666666666,
             "#ed7953"
            ],
            [
             0.7777777777777778,
             "#fb9f3a"
            ],
            [
             0.8888888888888888,
             "#fdca26"
            ],
            [
             1,
             "#f0f921"
            ]
           ]
          },
          "colorway": [
           "#636efa",
           "#EF553B",
           "#00cc96",
           "#ab63fa",
           "#FFA15A",
           "#19d3f3",
           "#FF6692",
           "#B6E880",
           "#FF97FF",
           "#FECB52"
          ],
          "font": {
           "color": "#2a3f5f"
          },
          "geo": {
           "bgcolor": "white",
           "lakecolor": "white",
           "landcolor": "#E5ECF6",
           "showlakes": true,
           "showland": true,
           "subunitcolor": "white"
          },
          "hoverlabel": {
           "align": "left"
          },
          "hovermode": "closest",
          "mapbox": {
           "style": "light"
          },
          "paper_bgcolor": "white",
          "plot_bgcolor": "#E5ECF6",
          "polar": {
           "angularaxis": {
            "gridcolor": "white",
            "linecolor": "white",
            "ticks": ""
           },
           "bgcolor": "#E5ECF6",
           "radialaxis": {
            "gridcolor": "white",
            "linecolor": "white",
            "ticks": ""
           }
          },
          "scene": {
           "xaxis": {
            "backgroundcolor": "#E5ECF6",
            "gridcolor": "white",
            "gridwidth": 2,
            "linecolor": "white",
            "showbackground": true,
            "ticks": "",
            "zerolinecolor": "white"
           },
           "yaxis": {
            "backgroundcolor": "#E5ECF6",
            "gridcolor": "white",
            "gridwidth": 2,
            "linecolor": "white",
            "showbackground": true,
            "ticks": "",
            "zerolinecolor": "white"
           },
           "zaxis": {
            "backgroundcolor": "#E5ECF6",
            "gridcolor": "white",
            "gridwidth": 2,
            "linecolor": "white",
            "showbackground": true,
            "ticks": "",
            "zerolinecolor": "white"
           }
          },
          "shapedefaults": {
           "line": {
            "color": "#2a3f5f"
           }
          },
          "ternary": {
           "aaxis": {
            "gridcolor": "white",
            "linecolor": "white",
            "ticks": ""
           },
           "baxis": {
            "gridcolor": "white",
            "linecolor": "white",
            "ticks": ""
           },
           "bgcolor": "#E5ECF6",
           "caxis": {
            "gridcolor": "white",
            "linecolor": "white",
            "ticks": ""
           }
          },
          "title": {
           "x": 0.05
          },
          "xaxis": {
           "automargin": true,
           "gridcolor": "white",
           "linecolor": "white",
           "ticks": "",
           "title": {
            "standoff": 15
           },
           "zerolinecolor": "white",
           "zerolinewidth": 2
          },
          "yaxis": {
           "automargin": true,
           "gridcolor": "white",
           "linecolor": "white",
           "ticks": "",
           "title": {
            "standoff": 15
           },
           "zerolinecolor": "white",
           "zerolinewidth": 2
          }
         }
        },
        "title": {
         "text": "Valencia Street Bike Crashes per 10,000 Rides by Month<br>(SFMTA Counters & Bay Wheels Data)"
        },
        "xaxis": {
         "tickangle": -45,
         "title": {
          "text": "Month/Year"
         }
        },
        "yaxis": {
         "title": {
          "text": "Crashes per 10,000 Rides"
         }
        }
       }
      }
     },
     "metadata": {},
     "output_type": "display_data"
    }
   ],
   "source": [
    "years_to_analyze = [2018, 2019, 2022, 2024]\n",
    "\n",
    "valencia_crashes = crash_data[ii_valencia & ii_bike_crashes & ii_center_bike_lane_geo]\n",
    "\n",
    "# Create year_month for valencia crashes\n",
    "valencia_crashes_filtered = valencia_crashes[valencia_crashes['collision_datetime'].dt.year.isin(years_to_analyze)]\n",
    "valencia_crashes_filtered['year_month'] = valencia_crashes_filtered['collision_datetime'].dt.to_period('M')\n",
    "\n",
    "# Count crashes per month\n",
    "crashes_per_month = valencia_crashes_filtered.groupby('year_month').size().reset_index(name='crash_count')\n",
    "\n",
    "# Create the line plot\n",
    "fig_crashes_per_ride = go.Figure()\n",
    "\n",
    "colors = {\n",
    "    'Valencia St. SB Between Duboce & 14th': 'blue',\n",
    "    'Valencia St. Totem NB Between 16th & 17th': 'orange',\n",
    "    'Bay Wheels Valencia': 'green'\n",
    "}\n",
    "\n",
    "# Process each Valencia location separately\n",
    "for key, valencia_counter_data_orig in bike_counter_structure.items():\n",
    "    valencia_counter_data = valencia_counter_data_orig.copy()\n",
    "    \n",
    "    # Convert 'Month of Date' to datetime and create year_month\n",
    "    valencia_counter_data['Month of Date'] = pd.to_datetime(valencia_counter_data['Month of Date'], format='%B %Y', errors='coerce')\n",
    "    valencia_counter_data['year_month'] = valencia_counter_data['Month of Date'].dt.to_period('M')\n",
    "    \n",
    "    # Filter for years to analyze\n",
    "    valencia_counter_data_filtered = valencia_counter_data[valencia_counter_data['year_month'].dt.year.isin(years_to_analyze)]\n",
    "    \n",
    "    # Group by year_month and sum bike counts for this location\n",
    "    monthly_counts = valencia_counter_data_filtered.groupby('year_month')['Total Bike Count'].sum().reset_index(name='total_bike_count')\n",
    "\n",
    "    # Merge crashes and bike counts for this location\n",
    "    merged_data = pd.merge(crashes_per_month, monthly_counts, on='year_month', how='outer')\n",
    "    \n",
    "    # Fill missing values\n",
    "    merged_data['crash_count'] = merged_data['crash_count'].fillna(0)\n",
    "    merged_data = merged_data.dropna(subset=['total_bike_count'])  # Drop months with no bike count data\n",
    "\n",
    "    # Calculate crashes per ride count (multiply by 10000 to get crashes per 10,000 rides for better readability)\n",
    "    merged_data['crashes_per_10000_rides'] = (merged_data['crash_count'] / merged_data['total_bike_count']) * 10000\n",
    "    \n",
    "    # Sort by year_month\n",
    "    merged_data = merged_data.sort_values('year_month')\n",
    "    \n",
    "    # Convert year_month to string for plotting\n",
    "    merged_data['year_month_str'] = merged_data['year_month'].astype(str)\n",
    "    \n",
    "    # Clean up location name for legend\n",
    "    location_name = key.replace('Valencia St. ', '').replace('Between ', '').replace(' & ', '-')\n",
    "    \n",
    "    # Group data by year to create separate traces for each year group\n",
    "    year_groups = merged_data.groupby(merged_data['year_month'].dt.year)\n",
    "    \n",
    "    for i, (year, year_data) in enumerate(year_groups):\n",
    "        # Only show legend for the first trace of each location\n",
    "        show_legend = i == 0\n",
    "        \n",
    "        fig_crashes_per_ride.add_trace(\n",
    "            go.Scatter(\n",
    "                x=year_data['year_month_str'],\n",
    "                y=year_data['crashes_per_10000_rides'],\n",
    "                mode='lines+markers',\n",
    "                name=f'{location_name}',\n",
    "                line=dict(width=3),\n",
    "                marker=dict(size=8),\n",
    "                showlegend=show_legend,\n",
    "                legendgroup=location_name,  # Group all traces for this location\n",
    "                connectgaps=False,\n",
    "                line_color=colors.get(key, 'gray')\n",
    "            )\n",
    "        )\n",
    "    \n",
    "# Process Bay Wheels data\n",
    "baywheels_filtered = baywheels_data[baywheels_data['year_month'].dt.year.isin(years_to_analyze)]\n",
    "\n",
    "# Group by year_month and count Bay Wheels rides\n",
    "baywheels_monthly = baywheels_filtered.groupby('year_month').size().reset_index(name='baywheels_count')\n",
    "\n",
    "# Merge crashes and Bay Wheels counts\n",
    "baywheels_merged = pd.merge(crashes_per_month, baywheels_monthly, on='year_month', how='outer')\n",
    "\n",
    "# Fill missing values\n",
    "baywheels_merged['crash_count'] = baywheels_merged['crash_count'].fillna(0)\n",
    "baywheels_merged = baywheels_merged.dropna(subset=['baywheels_count'])  # Drop months with no Bay Wheels data\n",
    "\n",
    "# Calculate crashes per Bay Wheels ride\n",
    "baywheels_merged['crashes_per_10000_rides'] = (baywheels_merged['crash_count'] / baywheels_merged['baywheels_count']) * 10000\n",
    "\n",
    "# Sort by year_month\n",
    "baywheels_merged = baywheels_merged.sort_values('year_month')\n",
    "\n",
    "# Convert year_month to string for plotting\n",
    "baywheels_merged['year_month_str'] = baywheels_merged['year_month'].astype(str)\n",
    "\n",
    "# Group Bay Wheels data by year to create separate traces\n",
    "baywheels_year_groups = baywheels_merged.groupby(baywheels_merged['year_month'].dt.year)\n",
    "\n",
    "for i, (year, year_data) in enumerate(baywheels_year_groups):\n",
    "    # Only show legend for the first trace\n",
    "    show_legend = i == 0\n",
    "    \n",
    "    fig_crashes_per_ride.add_trace(\n",
    "        go.Scatter(\n",
    "            x=year_data['year_month_str'],\n",
    "            y=year_data['crashes_per_10000_rides'],\n",
    "            mode='lines+markers',\n",
    "            name='Bay Wheels Valencia',\n",
    "            line=dict(width=3),\n",
    "            marker=dict(size=8),\n",
    "            showlegend=show_legend,\n",
    "            legendgroup='Bay Wheels Valencia',\n",
    "            connectgaps=False,\n",
    "            line_color=colors['Bay Wheels Valencia']\n",
    "        )\n",
    "    )\n",
    "\n",
    "# Add center bike lane implementation period as shaded region\n",
    "fig_crashes_per_ride.add_vrect(\n",
    "    x0='2023-08',\n",
    "    x1='2025-02',\n",
    "    fillcolor='rgba(255, 0, 0, 0.2)',\n",
    "    layer='below',\n",
    "    line_width=0,\n",
    "    annotation_text=\"Center Bike Lane Period\",\n",
    "    annotation_position=\"top left\"\n",
    ")\n",
    "\n",
    "fig_crashes_per_ride.update_layout(\n",
    "    title='Valencia Street Bike Crashes per 10,000 Rides by Month<br>(SFMTA Counters & Bay Wheels Data)',\n",
    "    xaxis_title='Month/Year',\n",
    "    yaxis_title='Crashes per 10,000 Rides',\n",
    "    xaxis_tickangle=-45,\n",
    "    height=500,\n",
    "    showlegend=True\n",
    ")\n",
    "\n",
    "fig_crashes_per_ride.show()\n"
   ]
  },
  {
   "cell_type": "code",
   "execution_count": 22,
   "id": "02df3535",
   "metadata": {},
   "outputs": [
    {
     "data": {
      "text/html": [
       "\n",
       "<div style=\"margin: 20px 0;\">\n",
       "<h3 style=\"color: #2c3e50; margin-bottom: 15px;\">Valencia Street Bike Safety Summary (2018, 2019, 2022, 2024)</h3>\n",
       "<table style=\"border-collapse: collapse; width: 100%; max-width: 800px; margin: 0 auto; box-shadow: 0 2px 8px rgba(0,0,0,0.1);\">\n",
       "  <thead>\n",
       "    <tr style=\"background-color: #3498db; color: white;\">\n",
       "      <th style=\"padding: 12px; text-align: center; border: 1px solid #ddd;\">Ride Count Source</th>\n",
       "      <th style=\"padding: 12px; text-align: center; border: 1px solid #ddd;\">Year</th>\n",
       "      <th style=\"padding: 12px; text-align: center; border: 1px solid #ddd;\">Total Rides</th>\n",
       "      <th style=\"padding: 12px; text-align: center; border: 1px solid #ddd;\">Total Crashes</th>\n",
       "      <th style=\"padding: 12px; text-align: center; border: 1px solid #ddd;\">Crashes per 10,000 Rides</th>\n",
       "    </tr>\n",
       "  </thead>\n",
       "  <tbody>\n",
       "\n",
       "    <tr style=\"background-color: #f8f9fa;\">\n",
       "      <td style=\"padding: 10px; border: 1px solid #ddd; text-align: center; font-weight: 500;\">Bay Wheels Valencia</td>\n",
       "      <td style=\"padding: 10px; border: 1px solid #ddd; text-align: center;\">2018</td>\n",
       "      <td style=\"padding: 10px; border: 1px solid #ddd; text-align: center; font-family: monospace;\">123,781</td>\n",
       "      <td style=\"padding: 10px; border: 1px solid #ddd; text-align: center;\">15</td>\n",
       "      <td style=\"padding: 10px; border: 1px solid #ddd; text-align: center; font-weight: bold; color: #d63384;\">1.212</td>\n",
       "    </tr>\n",
       "    \n",
       "    <tr style=\"background-color: #ffffff;\">\n",
       "      <td style=\"padding: 10px; border: 1px solid #ddd; text-align: center; font-weight: 500;\">Bay Wheels Valencia</td>\n",
       "      <td style=\"padding: 10px; border: 1px solid #ddd; text-align: center;\">2019</td>\n",
       "      <td style=\"padding: 10px; border: 1px solid #ddd; text-align: center; font-family: monospace;\">148,366</td>\n",
       "      <td style=\"padding: 10px; border: 1px solid #ddd; text-align: center;\">13</td>\n",
       "      <td style=\"padding: 10px; border: 1px solid #ddd; text-align: center; font-weight: bold; color: #d63384;\">0.876</td>\n",
       "    </tr>\n",
       "    \n",
       "    <tr style=\"background-color: #f8f9fa;\">\n",
       "      <td style=\"padding: 10px; border: 1px solid #ddd; text-align: center; font-weight: 500;\">Bay Wheels Valencia</td>\n",
       "      <td style=\"padding: 10px; border: 1px solid #ddd; text-align: center;\">2022</td>\n",
       "      <td style=\"padding: 10px; border: 1px solid #ddd; text-align: center; font-family: monospace;\">173,532</td>\n",
       "      <td style=\"padding: 10px; border: 1px solid #ddd; text-align: center;\">9</td>\n",
       "      <td style=\"padding: 10px; border: 1px solid #ddd; text-align: center; font-weight: bold; color: #d63384;\">0.519</td>\n",
       "    </tr>\n",
       "    \n",
       "    <tr style=\"background-color: #fff3cd;\">\n",
       "      <td style=\"padding: 10px; border: 1px solid #ddd; text-align: center; font-weight: 500;\">Bay Wheels Valencia</td>\n",
       "      <td style=\"padding: 10px; border: 1px solid #ddd; text-align: center;\">2024</td>\n",
       "      <td style=\"padding: 10px; border: 1px solid #ddd; text-align: center; font-family: monospace;\">217,915</td>\n",
       "      <td style=\"padding: 10px; border: 1px solid #ddd; text-align: center;\">13</td>\n",
       "      <td style=\"padding: 10px; border: 1px solid #ddd; text-align: center; font-weight: bold; color: #d63384;\">0.597</td>\n",
       "    </tr>\n",
       "    \n",
       "    <tr style=\"background-color: #f8f9fa;\">\n",
       "      <td style=\"padding: 10px; border: 1px solid #ddd; text-align: center; font-weight: 500;\">SB Duboce-14th</td>\n",
       "      <td style=\"padding: 10px; border: 1px solid #ddd; text-align: center;\">2018</td>\n",
       "      <td style=\"padding: 10px; border: 1px solid #ddd; text-align: center; font-family: monospace;\">200,850</td>\n",
       "      <td style=\"padding: 10px; border: 1px solid #ddd; text-align: center;\">15</td>\n",
       "      <td style=\"padding: 10px; border: 1px solid #ddd; text-align: center; font-weight: bold; color: #d63384;\">0.747</td>\n",
       "    </tr>\n",
       "    \n",
       "    <tr style=\"background-color: #ffffff;\">\n",
       "      <td style=\"padding: 10px; border: 1px solid #ddd; text-align: center; font-weight: 500;\">SB Duboce-14th</td>\n",
       "      <td style=\"padding: 10px; border: 1px solid #ddd; text-align: center;\">2019</td>\n",
       "      <td style=\"padding: 10px; border: 1px solid #ddd; text-align: center; font-family: monospace;\">194,515</td>\n",
       "      <td style=\"padding: 10px; border: 1px solid #ddd; text-align: center;\">13</td>\n",
       "      <td style=\"padding: 10px; border: 1px solid #ddd; text-align: center; font-weight: bold; color: #d63384;\">0.668</td>\n",
       "    </tr>\n",
       "    \n",
       "    <tr style=\"background-color: #f8f9fa;\">\n",
       "      <td style=\"padding: 10px; border: 1px solid #ddd; text-align: center; font-weight: 500;\">SB Duboce-14th</td>\n",
       "      <td style=\"padding: 10px; border: 1px solid #ddd; text-align: center;\">2022</td>\n",
       "      <td style=\"padding: 10px; border: 1px solid #ddd; text-align: center; font-family: monospace;\">287,862</td>\n",
       "      <td style=\"padding: 10px; border: 1px solid #ddd; text-align: center;\">9</td>\n",
       "      <td style=\"padding: 10px; border: 1px solid #ddd; text-align: center; font-weight: bold; color: #d63384;\">0.313</td>\n",
       "    </tr>\n",
       "    \n",
       "    <tr style=\"background-color: #fff3cd;\">\n",
       "      <td style=\"padding: 10px; border: 1px solid #ddd; text-align: center; font-weight: 500;\">SB Duboce-14th</td>\n",
       "      <td style=\"padding: 10px; border: 1px solid #ddd; text-align: center;\">2024</td>\n",
       "      <td style=\"padding: 10px; border: 1px solid #ddd; text-align: center; font-family: monospace;\">292,295</td>\n",
       "      <td style=\"padding: 10px; border: 1px solid #ddd; text-align: center;\">13</td>\n",
       "      <td style=\"padding: 10px; border: 1px solid #ddd; text-align: center; font-weight: bold; color: #d63384;\">0.445</td>\n",
       "    </tr>\n",
       "    \n",
       "    <tr style=\"background-color: #f8f9fa;\">\n",
       "      <td style=\"padding: 10px; border: 1px solid #ddd; text-align: center; font-weight: 500;\">Totem NB 16th-17th</td>\n",
       "      <td style=\"padding: 10px; border: 1px solid #ddd; text-align: center;\">2018</td>\n",
       "      <td style=\"padding: 10px; border: 1px solid #ddd; text-align: center; font-family: monospace;\">496,113</td>\n",
       "      <td style=\"padding: 10px; border: 1px solid #ddd; text-align: center;\">15</td>\n",
       "      <td style=\"padding: 10px; border: 1px solid #ddd; text-align: center; font-weight: bold; color: #d63384;\">0.302</td>\n",
       "    </tr>\n",
       "    \n",
       "    <tr style=\"background-color: #ffffff;\">\n",
       "      <td style=\"padding: 10px; border: 1px solid #ddd; text-align: center; font-weight: 500;\">Totem NB 16th-17th</td>\n",
       "      <td style=\"padding: 10px; border: 1px solid #ddd; text-align: center;\">2019</td>\n",
       "      <td style=\"padding: 10px; border: 1px solid #ddd; text-align: center; font-family: monospace;\">478,822</td>\n",
       "      <td style=\"padding: 10px; border: 1px solid #ddd; text-align: center;\">13</td>\n",
       "      <td style=\"padding: 10px; border: 1px solid #ddd; text-align: center; font-weight: bold; color: #d63384;\">0.271</td>\n",
       "    </tr>\n",
       "    \n",
       "    <tr style=\"background-color: #f8f9fa;\">\n",
       "      <td style=\"padding: 10px; border: 1px solid #ddd; text-align: center; font-weight: 500;\">Totem NB 16th-17th</td>\n",
       "      <td style=\"padding: 10px; border: 1px solid #ddd; text-align: center;\">2022</td>\n",
       "      <td style=\"padding: 10px; border: 1px solid #ddd; text-align: center; font-family: monospace;\">354,240</td>\n",
       "      <td style=\"padding: 10px; border: 1px solid #ddd; text-align: center;\">9</td>\n",
       "      <td style=\"padding: 10px; border: 1px solid #ddd; text-align: center; font-weight: bold; color: #d63384;\">0.254</td>\n",
       "    </tr>\n",
       "    \n",
       "    <tr style=\"background-color: #fff3cd;\">\n",
       "      <td style=\"padding: 10px; border: 1px solid #ddd; text-align: center; font-weight: 500;\">Totem NB 16th-17th</td>\n",
       "      <td style=\"padding: 10px; border: 1px solid #ddd; text-align: center;\">2024</td>\n",
       "      <td style=\"padding: 10px; border: 1px solid #ddd; text-align: center; font-family: monospace;\">N/A</td>\n",
       "      <td style=\"padding: 10px; border: 1px solid #ddd; text-align: center;\">N/A</td>\n",
       "      <td style=\"padding: 10px; border: 1px solid #ddd; text-align: center; font-weight: bold; color: #d63384;\">N/A</td>\n",
       "    </tr>\n",
       "    \n",
       "  </tbody>\n",
       "</table>\n",
       "<div style=\"margin-top: 15px; font-size: 0.9em; color: #6c757d; text-align: center;\">\n",
       "  <p><strong>Note:</strong> 2024 data highlighted in yellow represents the center bike lane period. Crash data covers the same geographic area (15th-23rd St) for all years. N/A indicates data not available for that period.</p>\n",
       "</div>\n",
       "</div>\n"
      ],
      "text/plain": [
       "<IPython.core.display.HTML object>"
      ]
     },
     "metadata": {},
     "output_type": "display_data"
    }
   ],
   "source": [
    "\n",
    "# Initialize data collection for the summary table\n",
    "summary_data = []\n",
    "\n",
    "valencia_locations = 'Valencia St. SB Between Duboce & 14th'\n",
    "\n",
    "valencia_counter_data = bike_counter_structure[valencia_locations].copy()\n",
    "# Convert 'Month of Date' to datetime and create year_month\n",
    "valencia_counter_data['Month of Date'] = pd.to_datetime(valencia_counter_data['Month of Date'], format='%B %Y', errors='coerce')\n",
    "valencia_counter_data['year_month'] = valencia_counter_data['Month of Date'].dt.to_period('M')\n",
    "valencia_counter_data['year'] = valencia_counter_data['year_month'].dt.year\n",
    "\n",
    "# Filter for years to analyze\n",
    "valencia_counter_data_filtered = valencia_counter_data[valencia_counter_data['year'].isin(years_to_analyze)]\n",
    "\n",
    "# Group by year and sum bike counts\n",
    "annual_counts = valencia_counter_data_filtered.groupby('year')['Total Bike Count'].sum().reset_index()\n",
    "\n",
    "# Get crash counts by year\n",
    "valencia_crashes_annual = valencia_crashes_filtered.copy()\n",
    "valencia_crashes_annual['year'] = valencia_crashes_annual['collision_datetime'].dt.year\n",
    "annual_crashes = valencia_crashes_annual.groupby('year').size().reset_index(name='crash_count')\n",
    "\n",
    "# Merge and calculate crashes per ride\n",
    "annual_merged = pd.merge(annual_crashes, annual_counts, on='year', how='outer')\n",
    "annual_merged['crash_count'] = annual_merged['crash_count'].fillna(0)\n",
    "annual_merged = annual_merged.dropna(subset=['Total Bike Count'])\n",
    "annual_merged['crashes_per_10000_rides'] = (annual_merged['crash_count'] / annual_merged['Total Bike Count']) * 10000\n",
    "\n",
    "# Clean up location name\n",
    "location_name = valencia_locations.replace('Valencia St. ', '').replace('Between ', '').replace(' & ', '-')\n",
    "\n",
    "# Add to summary data\n",
    "for _, row in annual_merged.iterrows():\n",
    "    summary_data.append({\n",
    "        'Data Source': location_name,\n",
    "        'Year': int(row['year']),\n",
    "        'Total Rides': f\"{int(row['Total Bike Count']):,}\",\n",
    "        'Total Crashes': int(row['crash_count']),\n",
    "        'Crashes per 10,000 Rides': f\"{row['crashes_per_10000_rides']:.3f}\"\n",
    "    })\n",
    "\n",
    "# Add Valencia St. Totem NB Between 16th & 17th data\n",
    "totem_location = 'Valencia St. Totem NB Between 16th & 17th'\n",
    "if totem_location in bike_counter_structure:\n",
    "    totem_counter_data = bike_counter_structure[totem_location].copy()\n",
    "    # Convert 'Month of Date' to datetime and create year_month\n",
    "    totem_counter_data['Month of Date'] = pd.to_datetime(totem_counter_data['Month of Date'], format='%B %Y', errors='coerce')\n",
    "    totem_counter_data['year_month'] = totem_counter_data['Month of Date'].dt.to_period('M')\n",
    "    totem_counter_data['year'] = totem_counter_data['year_month'].dt.year\n",
    "    \n",
    "    # Filter for 2018, 2019, 2022 only (exclude 2024)\n",
    "    totem_years = [2018, 2019, 2022]\n",
    "    totem_counter_data_filtered = totem_counter_data[totem_counter_data['year'].isin(totem_years)]\n",
    "    \n",
    "    # Group by year and sum bike counts\n",
    "    totem_annual_counts = totem_counter_data_filtered.groupby('year')['Total Bike Count'].sum().reset_index()\n",
    "    \n",
    "    # Filter crashes for the same years\n",
    "    totem_crashes = valencia_crashes_filtered[valencia_crashes_filtered['collision_datetime'].dt.year.isin(totem_years)]\n",
    "    totem_annual_crashes = totem_crashes.groupby(totem_crashes['collision_datetime'].dt.year).size().reset_index(name='crash_count')\n",
    "    totem_annual_crashes.columns = ['year', 'crash_count']\n",
    "    \n",
    "    # Merge and calculate crashes per ride\n",
    "    totem_annual_merged = pd.merge(totem_annual_crashes, totem_annual_counts, on='year', how='outer')\n",
    "    totem_annual_merged['crash_count'] = totem_annual_merged['crash_count'].fillna(0)\n",
    "    totem_annual_merged = totem_annual_merged.dropna(subset=['Total Bike Count'])\n",
    "    totem_annual_merged['crashes_per_10000_rides'] = (totem_annual_merged['crash_count'] / totem_annual_merged['Total Bike Count']) * 10000\n",
    "    \n",
    "    # Clean up location name\n",
    "    totem_location_name = totem_location.replace('Valencia St. ', '').replace('Between ', '').replace(' & ', '-')\n",
    "    \n",
    "    # Add to summary data for 2018, 2019, 2022\n",
    "    for _, row in totem_annual_merged.iterrows():\n",
    "        summary_data.append({\n",
    "            'Data Source': totem_location_name,\n",
    "            'Year': int(row['year']),\n",
    "            'Total Rides': f\"{int(row['Total Bike Count']):,}\",\n",
    "            'Total Crashes': int(row['crash_count']),\n",
    "            'Crashes per 10,000 Rides': f\"{row['crashes_per_10000_rides']:.3f}\"\n",
    "        })\n",
    "    \n",
    "    # Add N/A entry for 2024\n",
    "    summary_data.append({\n",
    "        'Data Source': totem_location_name,\n",
    "        'Year': 2024,\n",
    "        'Total Rides': 'N/A',\n",
    "        'Total Crashes': 'N/A',\n",
    "        'Crashes per 10,000 Rides': 'N/A'\n",
    "    })\n",
    "\n",
    "# Process Bay Wheels data for annual summaries\n",
    "baywheels_annual = baywheels_filtered.copy()\n",
    "baywheels_annual['year'] = baywheels_annual['year_month'].dt.year\n",
    "baywheels_annual_counts = baywheels_annual.groupby('year').size().reset_index(name='baywheels_count')\n",
    "\n",
    "# Get crash counts by year (same as above)\n",
    "annual_crashes = valencia_crashes_filtered.groupby(valencia_crashes_filtered['collision_datetime'].dt.year).size().reset_index(name='crash_count')\n",
    "annual_crashes.columns = ['year', 'crash_count']\n",
    "\n",
    "# Merge Bay Wheels data\n",
    "baywheels_annual_merged = pd.merge(annual_crashes, baywheels_annual_counts, on='year', how='outer')\n",
    "baywheels_annual_merged['crash_count'] = baywheels_annual_merged['crash_count'].fillna(0)\n",
    "baywheels_annual_merged = baywheels_annual_merged.dropna(subset=['baywheels_count'])\n",
    "baywheels_annual_merged['crashes_per_10000_rides'] = (baywheels_annual_merged['crash_count'] / baywheels_annual_merged['baywheels_count']) * 10000\n",
    "\n",
    "# Add Bay Wheels data to summary\n",
    "for _, row in baywheels_annual_merged.iterrows():\n",
    "    summary_data.append({\n",
    "        'Data Source': 'Bay Wheels Valencia',\n",
    "        'Year': int(row['year']),\n",
    "        'Total Rides': f\"{int(row['baywheels_count']):,}\",\n",
    "        'Total Crashes': int(row['crash_count']),\n",
    "        'Crashes per 10,000 Rides': f\"{row['crashes_per_10000_rides']:.3f}\"\n",
    "    })\n",
    "\n",
    "# Create DataFrame and sort\n",
    "summary_df = pd.DataFrame(summary_data)\n",
    "summary_df = summary_df.sort_values(['Data Source', 'Year'])\n",
    "\n",
    "# Create HTML table with styling\n",
    "html_table = f\"\"\"\n",
    "<div style=\"margin: 20px 0;\">\n",
    "<h3 style=\"color: #2c3e50; margin-bottom: 15px;\">Valencia Street Bike Safety Summary ({', '.join(map(str, years_to_analyze))})</h3>\n",
    "<table style=\"border-collapse: collapse; width: 100%; max-width: 800px; margin: 0 auto; box-shadow: 0 2px 8px rgba(0,0,0,0.1);\">\n",
    "  <thead>\n",
    "    <tr style=\"background-color: #3498db; color: white;\">\n",
    "      <th style=\"padding: 12px; text-align: center; border: 1px solid #ddd;\">Ride Count Source</th>\n",
    "      <th style=\"padding: 12px; text-align: center; border: 1px solid #ddd;\">Year</th>\n",
    "      <th style=\"padding: 12px; text-align: center; border: 1px solid #ddd;\">Total Rides</th>\n",
    "      <th style=\"padding: 12px; text-align: center; border: 1px solid #ddd;\">Total Crashes</th>\n",
    "      <th style=\"padding: 12px; text-align: center; border: 1px solid #ddd;\">Crashes per 10,000 Rides</th>\n",
    "    </tr>\n",
    "  </thead>\n",
    "  <tbody>\n",
    "\"\"\"\n",
    "\n",
    "# Add rows with alternating colors\n",
    "for i, (_, row) in enumerate(summary_df.iterrows()):\n",
    "    bg_color = \"#f8f9fa\" if i % 2 == 0 else \"#ffffff\"\n",
    "    \n",
    "    # Highlight 2024 data (center bike lane period)\n",
    "    if row['Year'] == 2024:\n",
    "        bg_color = \"#fff3cd\"  # Light yellow highlight\n",
    "    \n",
    "    html_table += f\"\"\"\n",
    "    <tr style=\"background-color: {bg_color};\">\n",
    "      <td style=\"padding: 10px; border: 1px solid #ddd; text-align: center; font-weight: 500;\">{row['Data Source']}</td>\n",
    "      <td style=\"padding: 10px; border: 1px solid #ddd; text-align: center;\">{row['Year']}</td>\n",
    "      <td style=\"padding: 10px; border: 1px solid #ddd; text-align: center; font-family: monospace;\">{row['Total Rides']}</td>\n",
    "      <td style=\"padding: 10px; border: 1px solid #ddd; text-align: center;\">{row['Total Crashes']}</td>\n",
    "      <td style=\"padding: 10px; border: 1px solid #ddd; text-align: center; font-weight: bold; color: #d63384;\">{row['Crashes per 10,000 Rides']}</td>\n",
    "    </tr>\n",
    "    \"\"\"\n",
    "\n",
    "html_table += \"\"\"\n",
    "  </tbody>\n",
    "</table>\n",
    "<div style=\"margin-top: 15px; font-size: 0.9em; color: #6c757d; text-align: center;\">\n",
    "  <p><strong>Note:</strong> 2024 data highlighted in yellow represents the center bike lane period. Crash data covers the same geographic area (15th-23rd St) for all years. N/A indicates data not available for that period.</p>\n",
    "</div>\n",
    "</div>\n",
    "\"\"\"\n",
    "\n",
    "# Display the HTML table\n",
    "display(HTML(html_table))\n"
   ]
  },
  {
   "cell_type": "markdown",
   "id": "4ce95399",
   "metadata": {},
   "source": [
    "## Conclusion\n",
    "\n",
    "### Ansering Investigation Questions\n",
    "\n",
    "***Did the center-running bike lane improve safety for cyclists?***<br>***How did the types and severity of crashes under the center-running design compare to those under the previous side-running bike lanes?***\n",
    "\n",
    "On a per-ride basis (accounting for the limitations of ride-count data), the center-running bike lane reduced the number of crashes—indicating a measurable improvement in cyclist safety. This reduction was largely driven by the elimination of certain high-risk scenarios: in 2024, there were no recorded crashes involving right turns into cyclists or “dooring” incidents. However, when crashes did occur, their severity mirrored that seen with the previous side-running bike lanes, meaning that the design did not improve injury outcomes.\n",
    "\n",
    "***Did the center-running bike lane lead to an increase in the number of cyclists using Valencia Street?***\n",
    "\n",
    "SFMTA’s bike counter just north of the lane’s starting point showed a slight increase in rides, while Bay Wheels data indicated a significant uptick in trips to and from Valencia. However, given the uncertainties and limitations of these counting methods, the data cannot definitively confirm an increase in overall bike lane usage.\n",
    "\n",
    "### Additional Takeaways\n",
    "\n",
    "One notable finding was the high frequency of crashes near Sycamore Street during the center-running lane’s operation. This location was a point where vehicles could cross the lane uninhibited—either by making U-turns or turning left from Sycamore onto Valencia. Of the four crashes recorded here, three could potentially have been prevented if the bike lane protection were extended through the intersection. Considering that only 13 crashes occurred in 2024, eliminating those three incidents would have significantly improved the safety metrics.\n",
    "\n",
    "### Future Work\n",
    "\n",
    "Valencia is a vibrant street for all road users, and the safety of pedestrians should also be considered when proposing and analyzing new road infrastructure projects. In a follow-on to this analysis, the impact of the center bike lane on pedestrain safety, as well as pedestrian safety on Valencia street in general will be analyzed. \n",
    "\n",
    "<br><br>\n",
    "Author: Carlos Sama<br>Notebook and datasets: https://github.com/los-sama/valencia_bike_lane\n",
    "\n",
    "\n"
   ]
  }
 ],
 "metadata": {
  "kernelspec": {
   "display_name": "venv",
   "language": "python",
   "name": "python3"
  },
  "language_info": {
   "codemirror_mode": {
    "name": "ipython",
    "version": 3
   },
   "file_extension": ".py",
   "mimetype": "text/x-python",
   "name": "python",
   "nbconvert_exporter": "python",
   "pygments_lexer": "ipython3",
   "version": "3.10.10"
  }
 },
 "nbformat": 4,
 "nbformat_minor": 5
}
